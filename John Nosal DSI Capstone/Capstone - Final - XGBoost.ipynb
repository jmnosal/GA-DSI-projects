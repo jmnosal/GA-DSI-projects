{
 "cells": [
  {
   "cell_type": "code",
   "execution_count": 1,
   "metadata": {
    "collapsed": true
   },
   "outputs": [],
   "source": [
    "import xgboost as xgb\n",
    "from xgboost.sklearn import XGBClassifier"
   ]
  },
  {
   "cell_type": "code",
   "execution_count": 2,
   "metadata": {
    "collapsed": false
   },
   "outputs": [
    {
     "name": "stderr",
     "output_type": "stream",
     "text": [
      "/Users/johnnosal/anaconda/lib/python2.7/site-packages/matplotlib/font_manager.py:273: UserWarning: Matplotlib is building the font cache using fc-list. This may take a moment.\n",
      "  warnings.warn('Matplotlib is building the font cache using fc-list. This may take a moment.')\n"
     ]
    }
   ],
   "source": [
    "import pickle\n",
    "import pandas as pd\n",
    "import seaborn as sns\n",
    "import numpy as np\n",
    "%matplotlib inline\n",
    "\n",
    "import matplotlib.pyplot as plt"
   ]
  },
  {
   "cell_type": "code",
   "execution_count": 3,
   "metadata": {
    "collapsed": false
   },
   "outputs": [
    {
     "name": "stderr",
     "output_type": "stream",
     "text": [
      "/Users/johnnosal/anaconda/lib/python2.7/site-packages/sklearn/cross_validation.py:44: DeprecationWarning: This module was deprecated in version 0.18 in favor of the model_selection module into which all the refactored classes and functions are moved. Also note that the interface of the new CV iterators are different from that of this module. This module will be removed in 0.20.\n",
      "  \"This module will be removed in 0.20.\", DeprecationWarning)\n",
      "/Users/johnnosal/anaconda/lib/python2.7/site-packages/sklearn/grid_search.py:43: DeprecationWarning: This module was deprecated in version 0.18 in favor of the model_selection module into which all the refactored classes and functions are moved. This module will be removed in 0.20.\n",
      "  DeprecationWarning)\n"
     ]
    }
   ],
   "source": [
    "from sklearn.grid_search import GridSearchCV\n",
    "from sklearn.cross_validation import cross_val_score"
   ]
  },
  {
   "cell_type": "code",
   "execution_count": 4,
   "metadata": {
    "collapsed": true
   },
   "outputs": [],
   "source": [
    "# Suppress unnecessary warnings so that\n",
    "# presentation looks clean\n",
    "import warnings\n",
    "warnings.filterwarnings('ignore')"
   ]
  },
  {
   "cell_type": "code",
   "execution_count": 5,
   "metadata": {
    "collapsed": false
   },
   "outputs": [],
   "source": [
    "with open('/Users/johnnosal/GA-DSI-working/week-08/8.2.2-lab-CARTs/code/starter-code/dataDiag2.pkl', 'r') as picklefile:\n",
    "    data = pickle.load(picklefile)"
   ]
  },
  {
   "cell_type": "code",
   "execution_count": 6,
   "metadata": {
    "collapsed": false
   },
   "outputs": [
    {
     "data": {
      "text/html": [
       "<div>\n",
       "<table border=\"1\" class=\"dataframe\">\n",
       "  <thead>\n",
       "    <tr style=\"text-align: right;\">\n",
       "      <th></th>\n",
       "      <th>patient_nbr</th>\n",
       "      <th>gender</th>\n",
       "      <th>time_in_hospital</th>\n",
       "      <th>num_lab_procedures</th>\n",
       "      <th>num_procedures</th>\n",
       "      <th>num_medications</th>\n",
       "      <th>number_outpatient</th>\n",
       "      <th>number_emergency</th>\n",
       "      <th>number_inpatient</th>\n",
       "      <th>number_diagnoses</th>\n",
       "      <th>...</th>\n",
       "      <th>rosiglitazone_Steady</th>\n",
       "      <th>rosiglitazone_Up</th>\n",
       "      <th>insulin_Down</th>\n",
       "      <th>insulin_No</th>\n",
       "      <th>insulin_Steady</th>\n",
       "      <th>insulin_Up</th>\n",
       "      <th>glyburide-metformin_Down</th>\n",
       "      <th>glyburide-metformin_No</th>\n",
       "      <th>glyburide-metformin_Steady</th>\n",
       "      <th>glyburide-metformin_Up</th>\n",
       "    </tr>\n",
       "  </thead>\n",
       "  <tbody>\n",
       "    <tr>\n",
       "      <th>0</th>\n",
       "      <td>91851201</td>\n",
       "      <td>1</td>\n",
       "      <td>0.954495</td>\n",
       "      <td>1.521311</td>\n",
       "      <td>-0.412243</td>\n",
       "      <td>1.256075</td>\n",
       "      <td>-0.036208</td>\n",
       "      <td>-0.030102</td>\n",
       "      <td>-0.223930</td>\n",
       "      <td>0.869955</td>\n",
       "      <td>...</td>\n",
       "      <td>0.0</td>\n",
       "      <td>0.0</td>\n",
       "      <td>0.0</td>\n",
       "      <td>0.0</td>\n",
       "      <td>1.0</td>\n",
       "      <td>0.0</td>\n",
       "      <td>0.0</td>\n",
       "      <td>1.0</td>\n",
       "      <td>0.0</td>\n",
       "      <td>0.0</td>\n",
       "    </tr>\n",
       "    <tr>\n",
       "      <th>1</th>\n",
       "      <td>89045397</td>\n",
       "      <td>0</td>\n",
       "      <td>0.212314</td>\n",
       "      <td>2.039730</td>\n",
       "      <td>-0.524282</td>\n",
       "      <td>0.564497</td>\n",
       "      <td>-0.085340</td>\n",
       "      <td>-0.030102</td>\n",
       "      <td>-0.111221</td>\n",
       "      <td>0.869955</td>\n",
       "      <td>...</td>\n",
       "      <td>0.0</td>\n",
       "      <td>0.0</td>\n",
       "      <td>0.0</td>\n",
       "      <td>0.0</td>\n",
       "      <td>0.0</td>\n",
       "      <td>1.0</td>\n",
       "      <td>0.0</td>\n",
       "      <td>1.0</td>\n",
       "      <td>0.0</td>\n",
       "      <td>0.0</td>\n",
       "    </tr>\n",
       "    <tr>\n",
       "      <th>2</th>\n",
       "      <td>112196934</td>\n",
       "      <td>0</td>\n",
       "      <td>-0.503360</td>\n",
       "      <td>-0.065745</td>\n",
       "      <td>-0.524282</td>\n",
       "      <td>-0.802386</td>\n",
       "      <td>-0.085340</td>\n",
       "      <td>-0.030102</td>\n",
       "      <td>-0.223930</td>\n",
       "      <td>-1.920516</td>\n",
       "      <td>...</td>\n",
       "      <td>0.0</td>\n",
       "      <td>0.0</td>\n",
       "      <td>0.0</td>\n",
       "      <td>1.0</td>\n",
       "      <td>0.0</td>\n",
       "      <td>0.0</td>\n",
       "      <td>0.0</td>\n",
       "      <td>1.0</td>\n",
       "      <td>0.0</td>\n",
       "      <td>0.0</td>\n",
       "    </tr>\n",
       "    <tr>\n",
       "      <th>3</th>\n",
       "      <td>1288395</td>\n",
       "      <td>0</td>\n",
       "      <td>1.908727</td>\n",
       "      <td>0.897289</td>\n",
       "      <td>-0.076127</td>\n",
       "      <td>0.008523</td>\n",
       "      <td>-0.036208</td>\n",
       "      <td>-0.030102</td>\n",
       "      <td>0.226905</td>\n",
       "      <td>0.869955</td>\n",
       "      <td>...</td>\n",
       "      <td>0.0</td>\n",
       "      <td>0.0</td>\n",
       "      <td>0.0</td>\n",
       "      <td>0.0</td>\n",
       "      <td>1.0</td>\n",
       "      <td>0.0</td>\n",
       "      <td>0.0</td>\n",
       "      <td>1.0</td>\n",
       "      <td>0.0</td>\n",
       "      <td>0.0</td>\n",
       "    </tr>\n",
       "    <tr>\n",
       "      <th>4</th>\n",
       "      <td>42484482</td>\n",
       "      <td>1</td>\n",
       "      <td>-0.715412</td>\n",
       "      <td>-1.325790</td>\n",
       "      <td>-0.524282</td>\n",
       "      <td>-0.598981</td>\n",
       "      <td>-0.085340</td>\n",
       "      <td>-0.030102</td>\n",
       "      <td>-0.223930</td>\n",
       "      <td>-0.370254</td>\n",
       "      <td>...</td>\n",
       "      <td>0.0</td>\n",
       "      <td>0.0</td>\n",
       "      <td>0.0</td>\n",
       "      <td>0.0</td>\n",
       "      <td>0.0</td>\n",
       "      <td>1.0</td>\n",
       "      <td>0.0</td>\n",
       "      <td>1.0</td>\n",
       "      <td>0.0</td>\n",
       "      <td>0.0</td>\n",
       "    </tr>\n",
       "  </tbody>\n",
       "</table>\n",
       "<p>5 rows × 2349 columns</p>\n",
       "</div>"
      ],
      "text/plain": [
       "   patient_nbr  gender  time_in_hospital  num_lab_procedures  num_procedures  \\\n",
       "0     91851201       1          0.954495            1.521311       -0.412243   \n",
       "1     89045397       0          0.212314            2.039730       -0.524282   \n",
       "2    112196934       0         -0.503360           -0.065745       -0.524282   \n",
       "3      1288395       0          1.908727            0.897289       -0.076127   \n",
       "4     42484482       1         -0.715412           -1.325790       -0.524282   \n",
       "\n",
       "   num_medications  number_outpatient  number_emergency  number_inpatient  \\\n",
       "0         1.256075          -0.036208         -0.030102         -0.223930   \n",
       "1         0.564497          -0.085340         -0.030102         -0.111221   \n",
       "2        -0.802386          -0.085340         -0.030102         -0.223930   \n",
       "3         0.008523          -0.036208         -0.030102          0.226905   \n",
       "4        -0.598981          -0.085340         -0.030102         -0.223930   \n",
       "\n",
       "   number_diagnoses           ...            rosiglitazone_Steady  \\\n",
       "0          0.869955           ...                             0.0   \n",
       "1          0.869955           ...                             0.0   \n",
       "2         -1.920516           ...                             0.0   \n",
       "3          0.869955           ...                             0.0   \n",
       "4         -0.370254           ...                             0.0   \n",
       "\n",
       "   rosiglitazone_Up  insulin_Down  insulin_No  insulin_Steady  insulin_Up  \\\n",
       "0               0.0           0.0         0.0             1.0         0.0   \n",
       "1               0.0           0.0         0.0             0.0         1.0   \n",
       "2               0.0           0.0         1.0             0.0         0.0   \n",
       "3               0.0           0.0         0.0             1.0         0.0   \n",
       "4               0.0           0.0         0.0             0.0         1.0   \n",
       "\n",
       "   glyburide-metformin_Down  glyburide-metformin_No  \\\n",
       "0                       0.0                     1.0   \n",
       "1                       0.0                     1.0   \n",
       "2                       0.0                     1.0   \n",
       "3                       0.0                     1.0   \n",
       "4                       0.0                     1.0   \n",
       "\n",
       "   glyburide-metformin_Steady  glyburide-metformin_Up  \n",
       "0                         0.0                     0.0  \n",
       "1                         0.0                     0.0  \n",
       "2                         0.0                     0.0  \n",
       "3                         0.0                     0.0  \n",
       "4                         0.0                     0.0  \n",
       "\n",
       "[5 rows x 2349 columns]"
      ]
     },
     "execution_count": 6,
     "metadata": {},
     "output_type": "execute_result"
    }
   ],
   "source": [
    "data.head()"
   ]
  },
  {
   "cell_type": "code",
   "execution_count": 7,
   "metadata": {
    "collapsed": true
   },
   "outputs": [],
   "source": [
    "data2 = data.ix[:, data.columns != 'patient_nbr']"
   ]
  },
  {
   "cell_type": "code",
   "execution_count": 8,
   "metadata": {
    "collapsed": true
   },
   "outputs": [],
   "source": [
    "X = data2.ix[:, data2.columns != 'readmitted']\n",
    "y = data['readmitted']\n",
    "from sklearn.cross_validation import train_test_split\n",
    "X_train, X_test, y_train, y_test = train_test_split(X, y, test_size=0.3, random_state=42,stratify=data[['readmitted']].values)\n",
    "\n"
   ]
  },
  {
   "cell_type": "code",
   "execution_count": 9,
   "metadata": {
    "collapsed": true
   },
   "outputs": [],
   "source": [
    "#Convert to np array - XGB can't take Pandas\n",
    "X_train = X_train.values\n",
    "X_test = X_test.values\n",
    "y_train = y_train.values\n",
    "y_test = y_test.values"
   ]
  },
  {
   "cell_type": "code",
   "execution_count": 10,
   "metadata": {
    "collapsed": false
   },
   "outputs": [
    {
     "data": {
      "text/plain": [
       "XGBClassifier(base_score=0.5, colsample_bylevel=1, colsample_bytree=1,\n",
       "       gamma=0, learning_rate=0.2, max_delta_step=0, max_depth=4,\n",
       "       min_child_weight=2, missing=None, n_estimators=100, nthread=-1,\n",
       "       objective='binary:logistic', reg_alpha=0, reg_lambda=1,\n",
       "       scale_pos_weight=1, seed=0, silent=True, subsample=1)"
      ]
     },
     "execution_count": 10,
     "metadata": {},
     "output_type": "execute_result"
    }
   ],
   "source": [
    "model = xgb.XGBClassifier(max_depth=4,min_child_weight=2, learning_rate=0.2)\n",
    "model.fit(X_train, y_train)"
   ]
  },
  {
   "cell_type": "code",
   "execution_count": 11,
   "metadata": {
    "collapsed": true
   },
   "outputs": [],
   "source": [
    "# make predictions for test data\n",
    "y_pred = model.predict(X_test)\n",
    "predictions = [round(value) for value in y_pred]"
   ]
  },
  {
   "cell_type": "code",
   "execution_count": 12,
   "metadata": {
    "collapsed": false
   },
   "outputs": [
    {
     "name": "stdout",
     "output_type": "stream",
     "text": [
      "Accuracy: 68.58%\n"
     ]
    }
   ],
   "source": [
    "from sklearn.metrics import accuracy_score\n",
    "# evaluate predictions\n",
    "accuracy = accuracy_score(y_test, predictions)\n",
    "print(\"Accuracy: %.2f%%\" % (accuracy * 100.0))"
   ]
  },
  {
   "cell_type": "code",
   "execution_count": 13,
   "metadata": {
    "collapsed": true
   },
   "outputs": [],
   "source": [
    "PARAMETERS = {'max_depth':[3,5,7]}"
   ]
  },
  {
   "cell_type": "code",
   "execution_count": 34,
   "metadata": {
    "collapsed": false
   },
   "outputs": [],
   "source": [
    "cv_params = {'max_depth': [3,5,7], 'min_child_weight': [1,3,5]}\n",
    "ind_params = {'learning_rate': 0.1, 'n_estimators': 100, 'seed':0, 'subsample': 0.8, 'colsample_bytree': 0.8, \n",
    "             'objective': 'binary:logistic'}\n",
    "optimized_GBM = GridSearchCV(xgb.XGBClassifier(**ind_params), \n",
    "                            cv_params, \n",
    "                             scoring = 'accuracy', n_jobs = -1)"
   ]
  },
  {
   "cell_type": "code",
   "execution_count": null,
   "metadata": {
    "collapsed": true
   },
   "outputs": [],
   "source": [
    "optimized_GBM.fit(X_train, y_train)"
   ]
  },
  {
   "cell_type": "code",
   "execution_count": null,
   "metadata": {
    "collapsed": false
   },
   "outputs": [
    {
     "name": "stdout",
     "output_type": "stream",
     "text": [
      "Fitting 3 folds for each of 3 candidates, totalling 9 fits\n"
     ]
    }
   ],
   "source": [
    "gbcgs = GridSearchCV(model, PARAMETERS, verbose=True, n_jobs=-1)\n",
    "gbcgs.fit(X_train, y_train)\n",
    "\n",
    "#After completion, show the final best results and scores\n",
    "print gbcgs.best_estimator_\n",
    "print gbcgs.best_score_"
   ]
  },
  {
   "cell_type": "code",
   "execution_count": 43,
   "metadata": {
    "collapsed": false
   },
   "outputs": [
    {
     "data": {
      "text/plain": [
       "[(0.0, 'A1Cresult_Norm'),\n",
       " (0.0, 'admission_source_id_Emergency Room'),\n",
       " (0.0, 'admission_type_id_Emergency'),\n",
       " (0.0, 'admission_type_id_Urgent'),\n",
       " (0.0, 'diag_2_Diabetes'),\n",
       " (0.0, 'diag_2_Neoplasm'),\n",
       " (0.0, 'diag_3_Genitourinary'),\n",
       " (0.0, 'glimepiride_No'),\n",
       " (0.0, 'glyburide-metformin_No'),\n",
       " (0.0, 'glyburide-metformin_Steady'),\n",
       " (0.0, 'glyburide_Up'),\n",
       " (0.0, 'insulin_Up'),\n",
       " (0.0, 'medical_specialty_Neurology'),\n",
       " (0.0, 'medical_specialty_OB/GYN'),\n",
       " (0.0, 'medical_specialty_Pulmonology'),\n",
       " (0.0, 'metformin_Up'),\n",
       " (0.0, 'nateglinide_Down'),\n",
       " (0.0, 'nateglinide_No'),\n",
       " (0.0, 'pioglitazone_Steady'),\n",
       " (0.0, 'race_Hispanic'),\n",
       " (0.0, 'repaglinide_Down'),\n",
       " (0.0, 'repaglinide_Steady'),\n",
       " (0.0, 'repaglinide_Up'),\n",
       " (0.0, 'rosiglitazone_Steady'),\n",
       " (0.00075700227, 'diag_3_Neoplasm'),\n",
       " (0.00075700227, 'glipizide_No'),\n",
       " (0.00075700227, 'glyburide-metformin_Down'),\n",
       " (0.00075700227, 'max_glu_serum_>200'),\n",
       " (0.00075700227, 'medical_specialty_AllergyandImmunology'),\n",
       " (0.00075700227, 'medical_specialty_Cancer'),\n",
       " (0.00075700227, 'medical_specialty_Orthopedics'),\n",
       " (0.00075700227, 'medical_specialty_Otolaryngology'),\n",
       " (0.00075700227, 'metformin_Steady'),\n",
       " (0.00075700227, 'nateglinide_Steady'),\n",
       " (0.00075700227, 'nateglinide_Up'),\n",
       " (0.00075700227, 'pioglitazone_Up'),\n",
       " (0.00075700227, 'race_AfricanAmerican'),\n",
       " (0.00075700227, 'race_Other'),\n",
       " (0.0015140045, 'diag_2_Genitourinary'),\n",
       " (0.0015140045, 'glimepiride_Down'),\n",
       " (0.0015140045, 'glimepiride_Steady'),\n",
       " (0.0015140045, 'glimepiride_Up'),\n",
       " (0.0015140045, 'glipizide_Steady'),\n",
       " (0.0015140045, 'glipizide_Up'),\n",
       " (0.0015140045, 'glyburide_Down'),\n",
       " (0.0015140045, 'medical_specialty_Unknown'),\n",
       " (0.0015140045, 'metformin_No'),\n",
       " (0.0015140045, 'pioglitazone_No'),\n",
       " (0.0022710068, 'diag_1_Genitourinary'),\n",
       " (0.0022710068, 'diag_2_Injury'),\n",
       " (0.0022710068, 'diag_3_Injury'),\n",
       " (0.0022710068, 'diag_3_Musculoskeletal'),\n",
       " (0.0022710068, 'glyburide_Steady'),\n",
       " (0.0022710068, 'max_glu_serum_None'),\n",
       " (0.0022710068, 'medical_specialty_Other'),\n",
       " (0.0022710068, 'medical_specialty_Podiatry'),\n",
       " (0.0022710068, 'race_Caucasian'),\n",
       " (0.0022710068, 'repaglinide_No'),\n",
       " (0.0022710068, 'rosiglitazone_Down'),\n",
       " (0.0030280091, 'A1Cresult_>7'),\n",
       " (0.0030280091, 'age_[50-60)'),\n",
       " (0.0030280091, 'diag_2_Digestive'),\n",
       " (0.0030280091, 'diag_3_Digestive'),\n",
       " (0.0030280091, 'discharge_disposition_id_Hospital'),\n",
       " (0.0030280091, 'medical_specialty_Family/GeneralPractice'),\n",
       " (0.0030280091, 'medical_specialty_Psychiatry'),\n",
       " (0.0037850114, 'admission_source_id_Unknown'),\n",
       " (0.0037850114, 'admission_type_id_Newborn'),\n",
       " (0.0037850114, 'diag_1_Injury'),\n",
       " (0.0037850114, 'diag_2_Musculoskeletal'),\n",
       " (0.0037850114, 'glyburide_No'),\n",
       " (0.0037850114, 'medical_specialty_Gastroenterology'),\n",
       " (0.0037850114, 'medical_specialty_Nephrology'),\n",
       " (0.0037850114, 'pioglitazone_Down'),\n",
       " (0.0037850114, 'rosiglitazone_No'),\n",
       " (0.0045420136, 'age_[10-20)'),\n",
       " (0.0045420136, 'diag_1_Diabetes'),\n",
       " (0.0045420136, 'diag_1_Musculoskeletal'),\n",
       " (0.0045420136, 'diag_3_Diabetes'),\n",
       " (0.0045420136, 'max_glu_serum_Norm'),\n",
       " (0.0045420136, 'medical_specialty_Emergency/Trauma'),\n",
       " (0.0045420136, 'medical_specialty_Endocrinology'),\n",
       " (0.0045420136, 'medical_specialty_InternalMedicine'),\n",
       " (0.0052990159, 'A1Cresult_None'),\n",
       " (0.0052990159, 'age_[80-90)'),\n",
       " (0.0052990159, 'diag_1_Digestive'),\n",
       " (0.0052990159, 'diag_1_Neoplasm'),\n",
       " (0.0052990159, 'insulin_Steady'),\n",
       " (0.0052990159, 'readmitted'),\n",
       " (0.0060560182, 'age_[30-40)'),\n",
       " (0.0060560182, 'diag_2_Circulatory'),\n",
       " (0.0060560182, 'medical_specialty_Ophthalmology'),\n",
       " (0.0060560182, 'medical_specialty_Osteopath'),\n",
       " (0.0068130204, 'age_[40-50)'),\n",
       " (0.0068130204, 'discharge_disposition_id_Unknown'),\n",
       " (0.0068130204, 'glipizide_Down'),\n",
       " (0.0068130204, 'insulin_No'),\n",
       " (0.0068130204, 'medical_specialty_Neurophysiology'),\n",
       " (0.0075700227, 'age_[20-30)'),\n",
       " (0.0075700227, 'diag_3_Circulatory'),\n",
       " (0.0075700227, 'discharge_disposition_id_Other facility'),\n",
       " (0.0075700227, 'gender'),\n",
       " (0.0075700227, 'medical_specialty_InfectiousDiseases'),\n",
       " (0.008327025, 'A1Cresult_>8'),\n",
       " (0.008327025, 'diag_2_Respiratory'),\n",
       " (0.008327025, 'discharge_disposition_id_Home'),\n",
       " (0.008327025, 'medical_specialty_Rheumatology'),\n",
       " (0.008327025, 'race_Asian'),\n",
       " (0.008327025, 'rosiglitazone_Up'),\n",
       " (0.0090840273, 'metformin_Down'),\n",
       " (0.0098410295, 'age_[90-100)'),\n",
       " (0.0098410295, 'insulin_Down'),\n",
       " (0.010598032, 'admission_source_id_Doctor Referral'),\n",
       " (0.010598032, 'age_[60-70)'),\n",
       " (0.010598032, 'age_[70-80)'),\n",
       " (0.010598032, 'change'),\n",
       " (0.010598032, 'max_glu_serum_>300'),\n",
       " (0.011355034, 'diag_1_Circulatory'),\n",
       " (0.011355034, 'diag_1_Respiratory'),\n",
       " (0.011355034, 'diag_3_Respiratory'),\n",
       " (0.012112036, 'admission_type_id_Trauma Center'),\n",
       " (0.012112036, 'diabetesMed'),\n",
       " (0.012869039, 'discharge_disposition_id_Left against Medical Advice'),\n",
       " (0.013626041, 'medical_specialty_Surgery'),\n",
       " (0.014383043, 'admission_source_id_Recent birth'),\n",
       " (0.014383043, 'admission_source_id_Transfer'),\n",
       " (0.014383043, 'medical_specialty_Cardiology'),\n",
       " (0.015897047, 'medical_specialty_Urology'),\n",
       " (0.01665405, 'admission_type_id_Elective'),\n",
       " (0.025738077, 'number_emergency'),\n",
       " (0.032551099, 'number_outpatient'),\n",
       " (0.038607117, 'number_diagnoses'),\n",
       " (0.039364118, 'num_procedures'),\n",
       " (0.040121119, 'number_inpatient'),\n",
       " (0.056018166, 'time_in_hospital'),\n",
       " (0.099924296, 'num_medications'),\n",
       " (0.10522331, 'num_lab_procedures')]"
      ]
     },
     "execution_count": 43,
     "metadata": {},
     "output_type": "execute_result"
    }
   ],
   "source": [
    "xxx = zip(model.feature_importances_,data2.columns)\n",
    "sorted(xxx)"
   ]
  },
  {
   "cell_type": "code",
   "execution_count": 31,
   "metadata": {
    "collapsed": false
   },
   "outputs": [
    {
     "data": {
      "text/plain": [
       "<matplotlib.axes._subplots.AxesSubplot at 0x115920290>"
      ]
     },
     "execution_count": 31,
     "metadata": {},
     "output_type": "execute_result"
    },
    {
     "data": {
      "image/png": "[encoded data removed]",
      "text/plain": [
       "<matplotlib.figure.Figure at 0x114106dd0>"
      ]
     },
     "metadata": {},
     "output_type": "display_data"
    }
   ],
   "source": [
    "xgb.plot_importance(model)"
   ]
  },
  {
   "cell_type": "code",
   "execution_count": 46,
   "metadata": {
    "collapsed": false
   },
   "outputs": [
    {
     "name": "stdout",
     "output_type": "stream",
     "text": [
      "Thresh=0.000, n=137, Accuracy: 68.67%\n",
      "Thresh=0.000, n=137, Accuracy: 68.67%\n",
      "Thresh=0.000, n=137, Accuracy: 68.67%\n",
      "Thresh=0.000, n=137, Accuracy: 68.67%\n",
      "Thresh=0.000, n=137, Accuracy: 68.67%\n",
      "Thresh=0.000, n=137, Accuracy: 68.67%\n",
      "Thresh=0.000, n=137, Accuracy: 68.67%\n",
      "Thresh=0.000, n=137, Accuracy: 68.67%\n",
      "Thresh=0.000, n=137, Accuracy: 68.67%\n",
      "Thresh=0.000, n=137, Accuracy: 68.67%\n",
      "Thresh=0.000, n=137, Accuracy: 68.67%\n",
      "Thresh=0.000, n=137, Accuracy: 68.67%\n",
      "Thresh=0.000, n=137, Accuracy: 68.67%\n",
      "Thresh=0.000, n=137, Accuracy: 68.67%\n",
      "Thresh=0.000, n=137, Accuracy: 68.67%\n",
      "Thresh=0.000, n=137, Accuracy: 68.67%\n",
      "Thresh=0.000, n=137, Accuracy: 68.67%\n",
      "Thresh=0.000, n=137, Accuracy: 68.67%\n",
      "Thresh=0.000, n=137, Accuracy: 68.67%\n",
      "Thresh=0.000, n=137, Accuracy: 68.67%\n",
      "Thresh=0.000, n=137, Accuracy: 68.67%\n",
      "Thresh=0.000, n=137, Accuracy: 68.67%\n",
      "Thresh=0.000, n=137, Accuracy: 68.67%\n",
      "Thresh=0.000, n=137, Accuracy: 68.67%\n",
      "Thresh=0.001, n=113, Accuracy: 68.62%\n",
      "Thresh=0.001, n=113, Accuracy: 68.62%\n",
      "Thresh=0.001, n=113, Accuracy: 68.62%\n",
      "Thresh=0.001, n=113, Accuracy: 68.62%\n",
      "Thresh=0.001, n=113, Accuracy: 68.62%\n",
      "Thresh=0.001, n=113, Accuracy: 68.62%\n",
      "Thresh=0.001, n=113, Accuracy: 68.62%\n",
      "Thresh=0.001, n=113, Accuracy: 68.62%\n",
      "Thresh=0.001, n=113, Accuracy: 68.62%\n",
      "Thresh=0.001, n=113, Accuracy: 68.62%\n",
      "Thresh=0.001, n=113, Accuracy: 68.62%\n",
      "Thresh=0.001, n=113, Accuracy: 68.62%\n",
      "Thresh=0.001, n=113, Accuracy: 68.62%\n",
      "Thresh=0.001, n=113, Accuracy: 68.62%\n",
      "Thresh=0.002, n=99, Accuracy: 68.81%\n",
      "Thresh=0.002, n=99, Accuracy: 68.81%\n",
      "Thresh=0.002, n=99, Accuracy: 68.81%\n",
      "Thresh=0.002, n=99, Accuracy: 68.81%\n",
      "Thresh=0.002, n=99, Accuracy: 68.81%\n",
      "Thresh=0.002, n=99, Accuracy: 68.81%\n",
      "Thresh=0.002, n=99, Accuracy: 68.81%\n",
      "Thresh=0.002, n=99, Accuracy: 68.81%\n",
      "Thresh=0.002, n=99, Accuracy: 68.81%\n",
      "Thresh=0.002, n=99, Accuracy: 68.81%\n",
      "Thresh=0.002, n=89, Accuracy: 68.73%\n",
      "Thresh=0.002, n=89, Accuracy: 68.73%\n",
      "Thresh=0.002, n=89, Accuracy: 68.73%\n",
      "Thresh=0.002, n=89, Accuracy: 68.73%\n",
      "Thresh=0.002, n=89, Accuracy: 68.73%\n",
      "Thresh=0.002, n=89, Accuracy: 68.73%\n",
      "Thresh=0.002, n=89, Accuracy: 68.73%\n",
      "Thresh=0.002, n=89, Accuracy: 68.73%\n",
      "Thresh=0.002, n=89, Accuracy: 68.73%\n",
      "Thresh=0.002, n=89, Accuracy: 68.73%\n",
      "Thresh=0.002, n=89, Accuracy: 68.73%\n",
      "Thresh=0.003, n=78, Accuracy: 68.77%\n",
      "Thresh=0.003, n=78, Accuracy: 68.77%\n",
      "Thresh=0.003, n=78, Accuracy: 68.77%\n",
      "Thresh=0.003, n=78, Accuracy: 68.77%\n",
      "Thresh=0.003, n=78, Accuracy: 68.77%\n",
      "Thresh=0.003, n=78, Accuracy: 68.77%\n",
      "Thresh=0.003, n=78, Accuracy: 68.77%\n",
      "Thresh=0.004, n=71, Accuracy: 68.66%\n",
      "Thresh=0.004, n=71, Accuracy: 68.66%\n",
      "Thresh=0.004, n=71, Accuracy: 68.66%\n",
      "Thresh=0.004, n=71, Accuracy: 68.66%\n",
      "Thresh=0.004, n=71, Accuracy: 68.66%\n",
      "Thresh=0.004, n=71, Accuracy: 68.66%\n",
      "Thresh=0.004, n=71, Accuracy: 68.66%\n",
      "Thresh=0.004, n=71, Accuracy: 68.66%\n",
      "Thresh=0.004, n=71, Accuracy: 68.66%\n",
      "Thresh=0.005, n=62, Accuracy: 68.66%\n",
      "Thresh=0.005, n=62, Accuracy: 68.66%\n",
      "Thresh=0.005, n=62, Accuracy: 68.66%\n",
      "Thresh=0.005, n=62, Accuracy: 68.66%\n",
      "Thresh=0.005, n=62, Accuracy: 68.66%\n",
      "Thresh=0.005, n=62, Accuracy: 68.66%\n",
      "Thresh=0.005, n=62, Accuracy: 68.66%\n",
      "Thresh=0.005, n=62, Accuracy: 68.66%\n",
      "Thresh=0.005, n=54, Accuracy: 68.70%\n",
      "Thresh=0.005, n=54, Accuracy: 68.70%\n",
      "Thresh=0.005, n=54, Accuracy: 68.70%\n",
      "Thresh=0.005, n=54, Accuracy: 68.70%\n",
      "Thresh=0.005, n=54, Accuracy: 68.70%\n",
      "Thresh=0.005, n=54, Accuracy: 68.70%\n",
      "Thresh=0.006, n=48, Accuracy: 68.59%\n",
      "Thresh=0.006, n=48, Accuracy: 68.59%\n",
      "Thresh=0.006, n=48, Accuracy: 68.59%\n",
      "Thresh=0.006, n=48, Accuracy: 68.59%\n",
      "Thresh=0.007, n=44, Accuracy: 68.63%\n",
      "Thresh=0.007, n=44, Accuracy: 68.63%\n",
      "Thresh=0.007, n=44, Accuracy: 68.63%\n",
      "Thresh=0.007, n=44, Accuracy: 68.63%\n",
      "Thresh=0.007, n=44, Accuracy: 68.63%\n",
      "Thresh=0.008, n=39, Accuracy: 68.63%\n",
      "Thresh=0.008, n=39, Accuracy: 68.63%\n",
      "Thresh=0.008, n=39, Accuracy: 68.63%\n",
      "Thresh=0.008, n=39, Accuracy: 68.63%\n",
      "Thresh=0.008, n=39, Accuracy: 68.63%\n",
      "Thresh=0.008, n=34, Accuracy: 68.66%\n",
      "Thresh=0.008, n=34, Accuracy: 68.66%\n",
      "Thresh=0.008, n=34, Accuracy: 68.66%\n",
      "Thresh=0.008, n=34, Accuracy: 68.66%\n",
      "Thresh=0.008, n=34, Accuracy: 68.66%\n",
      "Thresh=0.008, n=34, Accuracy: 68.66%\n",
      "Thresh=0.009, n=28, Accuracy: 68.83%\n",
      "Thresh=0.010, n=27, Accuracy: 68.72%\n",
      "Thresh=0.010, n=27, Accuracy: 68.72%\n",
      "Thresh=0.011, n=25, Accuracy: 68.80%\n",
      "Thresh=0.011, n=25, Accuracy: 68.80%\n",
      "Thresh=0.011, n=25, Accuracy: 68.80%\n",
      "Thresh=0.011, n=25, Accuracy: 68.80%\n",
      "Thresh=0.011, n=25, Accuracy: 68.80%\n",
      "Thresh=0.011, n=20, Accuracy: 68.69%\n",
      "Thresh=0.011, n=20, Accuracy: 68.69%\n",
      "Thresh=0.011, n=20, Accuracy: 68.69%\n",
      "Thresh=0.012, n=17, Accuracy: 68.52%\n",
      "Thresh=0.012, n=17, Accuracy: 68.52%\n",
      "Thresh=0.013, n=15, Accuracy: 68.56%\n",
      "Thresh=0.014, n=14, Accuracy: 68.57%\n",
      "Thresh=0.014, n=13, Accuracy: 68.53%\n",
      "Thresh=0.014, n=13, Accuracy: 68.53%\n",
      "Thresh=0.014, n=13, Accuracy: 68.53%\n",
      "Thresh=0.016, n=10, Accuracy: 68.42%\n",
      "Thresh=0.017, n=9, Accuracy: 68.41%\n",
      "Thresh=0.026, n=8, Accuracy: 68.40%\n",
      "Thresh=0.033, n=7, Accuracy: 68.43%\n",
      "Thresh=0.039, n=6, Accuracy: 68.46%\n",
      "Thresh=0.039, n=5, Accuracy: 68.32%\n",
      "Thresh=0.040, n=4, Accuracy: 68.24%\n",
      "Thresh=0.056, n=3, Accuracy: 65.52%\n",
      "Thresh=0.100, n=2, Accuracy: 65.59%\n",
      "Thresh=0.105, n=1, Accuracy: 65.61%\n"
     ]
    }
   ],
   "source": [
    "from sklearn.feature_selection import SelectFromModel\n",
    "thresholds = sorted(model.feature_importances_)\n",
    "for thresh in thresholds:\n",
    "    # select features using threshold\n",
    "    selection = SelectFromModel(model, threshold=thresh, prefit=True)\n",
    "    select_X_train = selection.transform(X_train)\n",
    "    # train model\n",
    "    selection_model = XGBClassifier()\n",
    "    selection_model.fit(select_X_train, y_train)\n",
    "    # eval model\n",
    "    select_X_test = selection.transform(X_test)\n",
    "    y_pred = selection_model.predict(select_X_test)\n",
    "    predictions = [round(value) for value in y_pred]\n",
    "    accuracy = accuracy_score(y_test, predictions)\n",
    "    print(\"Thresh=%.3f, n=%d, Accuracy: %.2f%%\" % (thresh, select_X_train.shape[1], accuracy*100.0))"
   ]
  },
  {
   "cell_type": "code",
   "execution_count": null,
   "metadata": {
    "collapsed": true
   },
   "outputs": [],
   "source": []
  }
 ],
 "metadata": {
  "anaconda-cloud": {},
  "kernelspec": {
   "display_name": "Python [conda root]",
   "language": "python",
   "name": "conda-root-py"
  },
  "language_info": {
   "codemirror_mode": {
    "name": "ipython",
    "version": 2
   },
   "file_extension": ".py",
   "mimetype": "text/x-python",
   "name": "python",
   "nbconvert_exporter": "python",
   "pygments_lexer": "ipython2",
   "version": "2.7.12"
  }
 },
 "nbformat": 4,
 "nbformat_minor": 1
}
