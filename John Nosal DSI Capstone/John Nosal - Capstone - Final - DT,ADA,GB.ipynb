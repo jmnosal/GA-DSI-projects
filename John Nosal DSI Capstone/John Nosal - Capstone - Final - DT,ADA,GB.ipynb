{
 "cells": [
  {
   "cell_type": "code",
   "execution_count": 1,
   "metadata": {
    "collapsed": false
   },
   "outputs": [
    {
     "name": "stderr",
     "output_type": "stream",
     "text": [
      "/Users/johnnosal/anaconda/lib/python2.7/site-packages/matplotlib/font_manager.py:273: UserWarning: Matplotlib is building the font cache using fc-list. This may take a moment.\n",
      "  warnings.warn('Matplotlib is building the font cache using fc-list. This may take a moment.')\n"
     ]
    }
   ],
   "source": [
    "import pickle\n",
    "import pandas as pd\n",
    "import seaborn as sns\n",
    "import numpy as np\n",
    "%matplotlib inline\n",
    "\n",
    "import matplotlib.pyplot as plt\n"
   ]
  },
  {
   "cell_type": "markdown",
   "metadata": {},
   "source": [
    "http://www.diabetes.org/advocacy/news-events/cost-of-diabetes.html\n",
    "https://www.ncbi.nlm.nih.gov/pmc/articles/PMC3609540/\n",
    "https://www.americanwell.com/how-hospitals-are-reducing-medical-costs-with-telehealth/"
   ]
  },
  {
   "cell_type": "code",
   "execution_count": 2,
   "metadata": {
    "collapsed": true
   },
   "outputs": [],
   "source": [
    "# Suppress unnecessary warnings so that\n",
    "# presentation looks clean\n",
    "import warnings\n",
    "warnings.filterwarnings('ignore')"
   ]
  },
  {
   "cell_type": "code",
   "execution_count": 3,
   "metadata": {
    "collapsed": true
   },
   "outputs": [],
   "source": [
    "with open('data4.pkl', 'r') as picklefile:\n",
    "    data = pickle.load(picklefile)"
   ]
  },
  {
   "cell_type": "code",
   "execution_count": 4,
   "metadata": {
    "collapsed": false,
    "scrolled": true
   },
   "outputs": [
    {
     "name": "stdout",
     "output_type": "stream",
     "text": [
      "0    0.656136\n",
      "1    0.343864\n",
      "Name: readmitted, dtype: float64\n"
     ]
    }
   ],
   "source": [
    "print data['readmitted'].value_counts()/len(data)"
   ]
  },
  {
   "cell_type": "code",
   "execution_count": 5,
   "metadata": {
    "collapsed": true
   },
   "outputs": [],
   "source": [
    "data2 = data.ix[:, data.columns != 'patient_nbr']"
   ]
  },
  {
   "cell_type": "code",
   "execution_count": 57,
   "metadata": {
    "collapsed": false
   },
   "outputs": [],
   "source": [
    "X = data2.ix[:, data2.columns != 'readmitted']\n",
    "y = data['readmitted']\n"
   ]
  },
  {
   "cell_type": "code",
   "execution_count": 84,
   "metadata": {
    "collapsed": true
   },
   "outputs": [],
   "source": [
    "from sklearn.cross_validation import train_test_split\n",
    "X_train, X_test, y_train, y_test = train_test_split(X, y, test_size=0.3, random_state=42,stratify=data[['readmitted']].values)\n",
    "\n"
   ]
  },
  {
   "cell_type": "markdown",
   "metadata": {},
   "source": [
    "# **DECISION TREE**"
   ]
  },
  {
   "cell_type": "code",
   "execution_count": 7,
   "metadata": {
    "collapsed": false
   },
   "outputs": [],
   "source": [
    "from sklearn.tree import DecisionTreeClassifier\n",
    "from sklearn.cross_validation import cross_val_score"
   ]
  },
  {
   "cell_type": "code",
   "execution_count": 8,
   "metadata": {
    "collapsed": false
   },
   "outputs": [
    {
     "data": {
      "text/plain": [
       "DecisionTreeClassifier(class_weight=None, criterion='gini', max_depth=14,\n",
       "            max_features=None, max_leaf_nodes=None,\n",
       "            min_impurity_split=1e-07, min_samples_leaf=1,\n",
       "            min_samples_split=2, min_weight_fraction_leaf=0.0,\n",
       "            presort=False, random_state=1, splitter='best')"
      ]
     },
     "execution_count": 8,
     "metadata": {},
     "output_type": "execute_result"
    }
   ],
   "source": [
    "DTC = DecisionTreeClassifier(max_depth=14, random_state=1)\n",
    "DTC.fit(X, y)"
   ]
  },
  {
   "cell_type": "code",
   "execution_count": 9,
   "metadata": {
    "collapsed": false
   },
   "outputs": [
    {
     "data": {
      "text/html": [
       "<div>\n",
       "<table border=\"1\" class=\"dataframe\">\n",
       "  <thead>\n",
       "    <tr style=\"text-align: right;\">\n",
       "      <th></th>\n",
       "      <th>feature</th>\n",
       "      <th>importance</th>\n",
       "    </tr>\n",
       "  </thead>\n",
       "  <tbody>\n",
       "    <tr>\n",
       "      <th>7</th>\n",
       "      <td>number_inpatient</td>\n",
       "      <td>0.219855</td>\n",
       "    </tr>\n",
       "    <tr>\n",
       "      <th>2</th>\n",
       "      <td>num_lab_procedures</td>\n",
       "      <td>0.083951</td>\n",
       "    </tr>\n",
       "    <tr>\n",
       "      <th>4</th>\n",
       "      <td>num_medications</td>\n",
       "      <td>0.071601</td>\n",
       "    </tr>\n",
       "    <tr>\n",
       "      <th>8</th>\n",
       "      <td>number_diagnoses</td>\n",
       "      <td>0.056855</td>\n",
       "    </tr>\n",
       "    <tr>\n",
       "      <th>1</th>\n",
       "      <td>time_in_hospital</td>\n",
       "      <td>0.040843</td>\n",
       "    </tr>\n",
       "    <tr>\n",
       "      <th>5</th>\n",
       "      <td>number_outpatient</td>\n",
       "      <td>0.029774</td>\n",
       "    </tr>\n",
       "    <tr>\n",
       "      <th>3</th>\n",
       "      <td>num_procedures</td>\n",
       "      <td>0.023511</td>\n",
       "    </tr>\n",
       "    <tr>\n",
       "      <th>6</th>\n",
       "      <td>number_emergency</td>\n",
       "      <td>0.020261</td>\n",
       "    </tr>\n",
       "    <tr>\n",
       "      <th>87</th>\n",
       "      <td>admission_source_id_Transfer</td>\n",
       "      <td>0.014295</td>\n",
       "    </tr>\n",
       "    <tr>\n",
       "      <th>10</th>\n",
       "      <td>diabetesMed</td>\n",
       "      <td>0.013722</td>\n",
       "    </tr>\n",
       "  </tbody>\n",
       "</table>\n",
       "</div>"
      ],
      "text/plain": [
       "                         feature  importance\n",
       "7               number_inpatient    0.219855\n",
       "2             num_lab_procedures    0.083951\n",
       "4                num_medications    0.071601\n",
       "8               number_diagnoses    0.056855\n",
       "1               time_in_hospital    0.040843\n",
       "5              number_outpatient    0.029774\n",
       "3                 num_procedures    0.023511\n",
       "6               number_emergency    0.020261\n",
       "87  admission_source_id_Transfer    0.014295\n",
       "10                   diabetesMed    0.013722"
      ]
     },
     "execution_count": 9,
     "metadata": {},
     "output_type": "execute_result"
    }
   ],
   "source": [
    "# compute the feature importances\n",
    "pd.DataFrame({'feature':X.columns,\n",
    "              'importance':DTC.feature_importances_}).sort_values('importance',\n",
    "                                                                      ascending=False).head(10)"
   ]
  },
  {
   "cell_type": "code",
   "execution_count": 127,
   "metadata": {
    "collapsed": false
   },
   "outputs": [
    {
     "name": "stdout",
     "output_type": "stream",
     "text": [
      "[ 0.66        0.66306122  0.65795918  0.6555102   0.65176567  0.6625842\n",
      "  0.65659453  0.66333197  0.66353614  0.66639445]\n"
     ]
    },
    {
     "data": {
      "text/plain": [
       "0.66007375640890553"
      ]
     },
     "execution_count": 127,
     "metadata": {},
     "output_type": "execute_result"
    }
   ],
   "source": [
    "scores = cross_val_score(DTC, X_train, y_train, cv=10)\n",
    "print scores\n",
    "scores.mean()"
   ]
  },
  {
   "cell_type": "code",
   "execution_count": 11,
   "metadata": {
    "collapsed": false
   },
   "outputs": [],
   "source": [
    "#Grid search parameters\n",
    "PARAMETERS = {'max_depth':[8,10,12,14], 'max_features':[5,10,20], \n",
    "              'max_leaf_nodes':[5,10,20]}\n",
    "#SCORING = 'mean_squared_error'"
   ]
  },
  {
   "cell_type": "code",
   "execution_count": 12,
   "metadata": {
    "collapsed": false,
    "scrolled": false
   },
   "outputs": [
    {
     "name": "stdout",
     "output_type": "stream",
     "text": [
      "Fitting 3 folds for each of 36 candidates, totalling 108 fits\n"
     ]
    },
    {
     "name": "stderr",
     "output_type": "stream",
     "text": [
      "/Users/johnnosal/anaconda/lib/python2.7/site-packages/sklearn/grid_search.py:43: DeprecationWarning: This module was deprecated in version 0.18 in favor of the model_selection module into which all the refactored classes and functions are moved. This module will be removed in 0.20.\n",
      "  DeprecationWarning)\n",
      "[Parallel(n_jobs=-1)]: Done  42 tasks      | elapsed:   13.1s\n",
      "[Parallel(n_jobs=-1)]: Done 108 out of 108 | elapsed:   32.7s finished\n"
     ]
    },
    {
     "name": "stdout",
     "output_type": "stream",
     "text": [
      "DecisionTreeClassifier(class_weight=None, criterion='gini', max_depth=10,\n",
      "            max_features=20, max_leaf_nodes=20, min_impurity_split=1e-07,\n",
      "            min_samples_leaf=1, min_samples_split=2,\n",
      "            min_weight_fraction_leaf=0.0, presort=False, random_state=1,\n",
      "            splitter='best')\n",
      "0.679269007101\n"
     ]
    }
   ],
   "source": [
    "from sklearn.grid_search import GridSearchCV\n",
    "\n",
    "#Grid Search for DT\n",
    "\n",
    "rfc = GridSearchCV(DTC, PARAMETERS, verbose=True, n_jobs=-1)\n",
    "rfc.fit(X, y)\n",
    "\n",
    "#After completion, show the final best results and scores\n",
    "print rfc.best_estimator_\n",
    "print rfc.best_score_\n"
   ]
  },
  {
   "cell_type": "markdown",
   "metadata": {},
   "source": [
    "# **ADA BOOST**"
   ]
  },
  {
   "cell_type": "code",
   "execution_count": 13,
   "metadata": {
    "collapsed": true
   },
   "outputs": [],
   "source": [
    "from sklearn.ensemble import AdaBoostClassifier"
   ]
  },
  {
   "cell_type": "code",
   "execution_count": 14,
   "metadata": {
    "collapsed": true
   },
   "outputs": [],
   "source": [
    "ada = AdaBoostClassifier(n_estimators=100, learning_rate=0.5)"
   ]
  },
  {
   "cell_type": "code",
   "execution_count": 15,
   "metadata": {
    "collapsed": false
   },
   "outputs": [
    {
     "data": {
      "text/plain": [
       "AdaBoostClassifier(algorithm='SAMME.R', base_estimator=None,\n",
       "          learning_rate=0.5, n_estimators=100, random_state=None)"
      ]
     },
     "execution_count": 15,
     "metadata": {},
     "output_type": "execute_result"
    }
   ],
   "source": [
    "ada.fit(X,y)"
   ]
  },
  {
   "cell_type": "code",
   "execution_count": 16,
   "metadata": {
    "collapsed": false
   },
   "outputs": [
    {
     "data": {
      "text/plain": [
       "0.68632746081415119"
      ]
     },
     "execution_count": 16,
     "metadata": {},
     "output_type": "execute_result"
    }
   ],
   "source": [
    "ada.score(X,y)"
   ]
  },
  {
   "cell_type": "markdown",
   "metadata": {},
   "source": [
    "# **GRADIENT BOOSTING**"
   ]
  },
  {
   "cell_type": "code",
   "execution_count": 17,
   "metadata": {
    "collapsed": true
   },
   "outputs": [],
   "source": [
    "from sklearn.ensemble import GradientBoostingClassifier\n",
    "from sklearn.metrics import classification_report"
   ]
  },
  {
   "cell_type": "code",
   "execution_count": 131,
   "metadata": {
    "collapsed": false
   },
   "outputs": [
    {
     "data": {
      "text/plain": [
       "GradientBoostingClassifier(criterion='friedman_mse', init=None,\n",
       "              learning_rate=0.1, loss='deviance', max_depth=3,\n",
       "              max_features=None, max_leaf_nodes=None,\n",
       "              min_impurity_split=1e-07, min_samples_leaf=1,\n",
       "              min_samples_split=2, min_weight_fraction_leaf=0.0,\n",
       "              n_estimators=200, presort='auto', random_state=None,\n",
       "              subsample=1.0, verbose=0, warm_start=False)"
      ]
     },
     "execution_count": 131,
     "metadata": {},
     "output_type": "execute_result"
    }
   ],
   "source": [
    "GBCTest = GradientBoostingClassifier(n_estimators=200)\n",
    "GBCTest.fit(X_train,y_train)"
   ]
  },
  {
   "cell_type": "code",
   "execution_count": 132,
   "metadata": {
    "collapsed": false
   },
   "outputs": [
    {
     "data": {
      "text/plain": [
       "0.69608083282302513"
      ]
     },
     "execution_count": 132,
     "metadata": {},
     "output_type": "execute_result"
    }
   ],
   "source": [
    "GBCTest.score(X_train,y_train)"
   ]
  },
  {
   "cell_type": "code",
   "execution_count": 133,
   "metadata": {
    "collapsed": false
   },
   "outputs": [
    {
     "data": {
      "text/html": [
       "<div>\n",
       "<table border=\"1\" class=\"dataframe\">\n",
       "  <thead>\n",
       "    <tr style=\"text-align: right;\">\n",
       "      <th></th>\n",
       "      <th>feature</th>\n",
       "      <th>importance</th>\n",
       "    </tr>\n",
       "  </thead>\n",
       "  <tbody>\n",
       "    <tr>\n",
       "      <th>2</th>\n",
       "      <td>num_lab_procedures</td>\n",
       "      <td>0.109385</td>\n",
       "    </tr>\n",
       "    <tr>\n",
       "      <th>4</th>\n",
       "      <td>num_medications</td>\n",
       "      <td>0.089016</td>\n",
       "    </tr>\n",
       "    <tr>\n",
       "      <th>7</th>\n",
       "      <td>number_inpatient</td>\n",
       "      <td>0.080093</td>\n",
       "    </tr>\n",
       "    <tr>\n",
       "      <th>1</th>\n",
       "      <td>time_in_hospital</td>\n",
       "      <td>0.042374</td>\n",
       "    </tr>\n",
       "    <tr>\n",
       "      <th>6</th>\n",
       "      <td>number_emergency</td>\n",
       "      <td>0.038900</td>\n",
       "    </tr>\n",
       "    <tr>\n",
       "      <th>5</th>\n",
       "      <td>number_outpatient</td>\n",
       "      <td>0.031566</td>\n",
       "    </tr>\n",
       "    <tr>\n",
       "      <th>8</th>\n",
       "      <td>number_diagnoses</td>\n",
       "      <td>0.029482</td>\n",
       "    </tr>\n",
       "    <tr>\n",
       "      <th>3</th>\n",
       "      <td>num_procedures</td>\n",
       "      <td>0.024325</td>\n",
       "    </tr>\n",
       "    <tr>\n",
       "      <th>88</th>\n",
       "      <td>admission_source_id_Unknown</td>\n",
       "      <td>0.020574</td>\n",
       "    </tr>\n",
       "    <tr>\n",
       "      <th>91</th>\n",
       "      <td>max_glu_serum_None</td>\n",
       "      <td>0.018655</td>\n",
       "    </tr>\n",
       "    <tr>\n",
       "      <th>87</th>\n",
       "      <td>admission_source_id_Transfer</td>\n",
       "      <td>0.017829</td>\n",
       "    </tr>\n",
       "    <tr>\n",
       "      <th>83</th>\n",
       "      <td>discharge_disposition_id_Unknown</td>\n",
       "      <td>0.016056</td>\n",
       "    </tr>\n",
       "    <tr>\n",
       "      <th>85</th>\n",
       "      <td>admission_source_id_Emergency Room</td>\n",
       "      <td>0.015242</td>\n",
       "    </tr>\n",
       "    <tr>\n",
       "      <th>26</th>\n",
       "      <td>diag_1_Diabetes</td>\n",
       "      <td>0.014721</td>\n",
       "    </tr>\n",
       "    <tr>\n",
       "      <th>25</th>\n",
       "      <td>diag_1_Circulatory</td>\n",
       "      <td>0.013653</td>\n",
       "    </tr>\n",
       "    <tr>\n",
       "      <th>50</th>\n",
       "      <td>admission_type_id_Emergency</td>\n",
       "      <td>0.013557</td>\n",
       "    </tr>\n",
       "    <tr>\n",
       "      <th>10</th>\n",
       "      <td>diabetesMed</td>\n",
       "      <td>0.013077</td>\n",
       "    </tr>\n",
       "    <tr>\n",
       "      <th>13</th>\n",
       "      <td>race_Caucasian</td>\n",
       "      <td>0.013051</td>\n",
       "    </tr>\n",
       "    <tr>\n",
       "      <th>57</th>\n",
       "      <td>medical_specialty_Emergency/Trauma</td>\n",
       "      <td>0.012924</td>\n",
       "    </tr>\n",
       "    <tr>\n",
       "      <th>49</th>\n",
       "      <td>admission_type_id_Elective</td>\n",
       "      <td>0.012884</td>\n",
       "    </tr>\n",
       "  </tbody>\n",
       "</table>\n",
       "</div>"
      ],
      "text/plain": [
       "                               feature  importance\n",
       "2                   num_lab_procedures    0.109385\n",
       "4                      num_medications    0.089016\n",
       "7                     number_inpatient    0.080093\n",
       "1                     time_in_hospital    0.042374\n",
       "6                     number_emergency    0.038900\n",
       "5                    number_outpatient    0.031566\n",
       "8                     number_diagnoses    0.029482\n",
       "3                       num_procedures    0.024325\n",
       "88         admission_source_id_Unknown    0.020574\n",
       "91                  max_glu_serum_None    0.018655\n",
       "87        admission_source_id_Transfer    0.017829\n",
       "83    discharge_disposition_id_Unknown    0.016056\n",
       "85  admission_source_id_Emergency Room    0.015242\n",
       "26                     diag_1_Diabetes    0.014721\n",
       "25                  diag_1_Circulatory    0.013653\n",
       "50         admission_type_id_Emergency    0.013557\n",
       "10                         diabetesMed    0.013077\n",
       "13                      race_Caucasian    0.013051\n",
       "57  medical_specialty_Emergency/Trauma    0.012924\n",
       "49          admission_type_id_Elective    0.012884"
      ]
     },
     "execution_count": 133,
     "metadata": {},
     "output_type": "execute_result"
    }
   ],
   "source": [
    "pd.DataFrame({'feature':X.columns,\n",
    "              'importance':GBCTest.feature_importances_}).sort_values('importance',\n",
    "                                                                      ascending=False).head(20)"
   ]
  },
  {
   "cell_type": "code",
   "execution_count": 123,
   "metadata": {
    "collapsed": false
   },
   "outputs": [
    {
     "ename": "TypeError",
     "evalue": "Singleton array array(99) cannot be considered a valid collection.",
     "output_type": "error",
     "traceback": [
      "\u001b[0;31m---------------------------------------------------------------------------\u001b[0m",
      "\u001b[0;31mTypeError\u001b[0m                                 Traceback (most recent call last)",
      "\u001b[0;32m<ipython-input-123-4d9686d5071b>\u001b[0m in \u001b[0;36m<module>\u001b[0;34m()\u001b[0m\n\u001b[1;32m      8\u001b[0m \u001b[0mmodel\u001b[0m \u001b[0;34m=\u001b[0m \u001b[0mGradientBoostingClassifier\u001b[0m\u001b[0;34m(\u001b[0m\u001b[0;34m)\u001b[0m\u001b[0;34m\u001b[0m\u001b[0m\n\u001b[1;32m      9\u001b[0m \u001b[0mgbcgs\u001b[0m \u001b[0;34m=\u001b[0m \u001b[0mGridSearchCV\u001b[0m\u001b[0;34m(\u001b[0m\u001b[0mmodel\u001b[0m\u001b[0;34m,\u001b[0m \u001b[0mPARAMETERSgbc\u001b[0m\u001b[0;34m,\u001b[0m \u001b[0mverbose\u001b[0m\u001b[0;34m=\u001b[0m\u001b[0mTrue\u001b[0m\u001b[0;34m,\u001b[0m \u001b[0mn_jobs\u001b[0m\u001b[0;34m=\u001b[0m\u001b[0;34m-\u001b[0m\u001b[0;36m1\u001b[0m\u001b[0;34m)\u001b[0m\u001b[0;34m\u001b[0m\u001b[0m\n\u001b[0;32m---> 10\u001b[0;31m \u001b[0mgbcgs\u001b[0m\u001b[0;34m.\u001b[0m\u001b[0mfit\u001b[0m\u001b[0;34m(\u001b[0m\u001b[0mX\u001b[0m\u001b[0;34m,\u001b[0m \u001b[0my\u001b[0m\u001b[0;34m)\u001b[0m\u001b[0;34m\u001b[0m\u001b[0m\n\u001b[0m\u001b[1;32m     11\u001b[0m \u001b[0;34m\u001b[0m\u001b[0m\n\u001b[1;32m     12\u001b[0m \u001b[0;31m#After completion, show the final best results and scores\u001b[0m\u001b[0;34m\u001b[0m\u001b[0;34m\u001b[0m\u001b[0m\n",
      "\u001b[0;32m/Users/johnnosal/anaconda/lib/python2.7/site-packages/sklearn/grid_search.pyc\u001b[0m in \u001b[0;36mfit\u001b[0;34m(self, X, y)\u001b[0m\n\u001b[1;32m    827\u001b[0m \u001b[0;34m\u001b[0m\u001b[0m\n\u001b[1;32m    828\u001b[0m         \"\"\"\n\u001b[0;32m--> 829\u001b[0;31m         \u001b[0;32mreturn\u001b[0m \u001b[0mself\u001b[0m\u001b[0;34m.\u001b[0m\u001b[0m_fit\u001b[0m\u001b[0;34m(\u001b[0m\u001b[0mX\u001b[0m\u001b[0;34m,\u001b[0m \u001b[0my\u001b[0m\u001b[0;34m,\u001b[0m \u001b[0mParameterGrid\u001b[0m\u001b[0;34m(\u001b[0m\u001b[0mself\u001b[0m\u001b[0;34m.\u001b[0m\u001b[0mparam_grid\u001b[0m\u001b[0;34m)\u001b[0m\u001b[0;34m)\u001b[0m\u001b[0;34m\u001b[0m\u001b[0m\n\u001b[0m\u001b[1;32m    830\u001b[0m \u001b[0;34m\u001b[0m\u001b[0m\n\u001b[1;32m    831\u001b[0m \u001b[0;34m\u001b[0m\u001b[0m\n",
      "\u001b[0;32m/Users/johnnosal/anaconda/lib/python2.7/site-packages/sklearn/grid_search.pyc\u001b[0m in \u001b[0;36m_fit\u001b[0;34m(self, X, y, parameter_iterable)\u001b[0m\n\u001b[1;32m    543\u001b[0m \u001b[0;34m\u001b[0m\u001b[0m\n\u001b[1;32m    544\u001b[0m         \u001b[0mn_samples\u001b[0m \u001b[0;34m=\u001b[0m \u001b[0m_num_samples\u001b[0m\u001b[0;34m(\u001b[0m\u001b[0mX\u001b[0m\u001b[0;34m)\u001b[0m\u001b[0;34m\u001b[0m\u001b[0m\n\u001b[0;32m--> 545\u001b[0;31m         \u001b[0mX\u001b[0m\u001b[0;34m,\u001b[0m \u001b[0my\u001b[0m \u001b[0;34m=\u001b[0m \u001b[0mindexable\u001b[0m\u001b[0;34m(\u001b[0m\u001b[0mX\u001b[0m\u001b[0;34m,\u001b[0m \u001b[0my\u001b[0m\u001b[0;34m)\u001b[0m\u001b[0;34m\u001b[0m\u001b[0m\n\u001b[0m\u001b[1;32m    546\u001b[0m \u001b[0;34m\u001b[0m\u001b[0m\n\u001b[1;32m    547\u001b[0m         \u001b[0;32mif\u001b[0m \u001b[0my\u001b[0m \u001b[0;32mis\u001b[0m \u001b[0;32mnot\u001b[0m \u001b[0mNone\u001b[0m\u001b[0;34m:\u001b[0m\u001b[0;34m\u001b[0m\u001b[0m\n",
      "\u001b[0;32m/Users/johnnosal/anaconda/lib/python2.7/site-packages/sklearn/utils/validation.pyc\u001b[0m in \u001b[0;36mindexable\u001b[0;34m(*iterables)\u001b[0m\n\u001b[1;32m    204\u001b[0m         \u001b[0;32melse\u001b[0m\u001b[0;34m:\u001b[0m\u001b[0;34m\u001b[0m\u001b[0m\n\u001b[1;32m    205\u001b[0m             \u001b[0mresult\u001b[0m\u001b[0;34m.\u001b[0m\u001b[0mappend\u001b[0m\u001b[0;34m(\u001b[0m\u001b[0mnp\u001b[0m\u001b[0;34m.\u001b[0m\u001b[0marray\u001b[0m\u001b[0;34m(\u001b[0m\u001b[0mX\u001b[0m\u001b[0;34m)\u001b[0m\u001b[0;34m)\u001b[0m\u001b[0;34m\u001b[0m\u001b[0m\n\u001b[0;32m--> 206\u001b[0;31m     \u001b[0mcheck_consistent_length\u001b[0m\u001b[0;34m(\u001b[0m\u001b[0;34m*\u001b[0m\u001b[0mresult\u001b[0m\u001b[0;34m)\u001b[0m\u001b[0;34m\u001b[0m\u001b[0m\n\u001b[0m\u001b[1;32m    207\u001b[0m     \u001b[0;32mreturn\u001b[0m \u001b[0mresult\u001b[0m\u001b[0;34m\u001b[0m\u001b[0m\n\u001b[1;32m    208\u001b[0m \u001b[0;34m\u001b[0m\u001b[0m\n",
      "\u001b[0;32m/Users/johnnosal/anaconda/lib/python2.7/site-packages/sklearn/utils/validation.pyc\u001b[0m in \u001b[0;36mcheck_consistent_length\u001b[0;34m(*arrays)\u001b[0m\n\u001b[1;32m    175\u001b[0m     \"\"\"\n\u001b[1;32m    176\u001b[0m \u001b[0;34m\u001b[0m\u001b[0m\n\u001b[0;32m--> 177\u001b[0;31m     \u001b[0mlengths\u001b[0m \u001b[0;34m=\u001b[0m \u001b[0;34m[\u001b[0m\u001b[0m_num_samples\u001b[0m\u001b[0;34m(\u001b[0m\u001b[0mX\u001b[0m\u001b[0;34m)\u001b[0m \u001b[0;32mfor\u001b[0m \u001b[0mX\u001b[0m \u001b[0;32min\u001b[0m \u001b[0marrays\u001b[0m \u001b[0;32mif\u001b[0m \u001b[0mX\u001b[0m \u001b[0;32mis\u001b[0m \u001b[0;32mnot\u001b[0m \u001b[0mNone\u001b[0m\u001b[0;34m]\u001b[0m\u001b[0;34m\u001b[0m\u001b[0m\n\u001b[0m\u001b[1;32m    178\u001b[0m     \u001b[0muniques\u001b[0m \u001b[0;34m=\u001b[0m \u001b[0mnp\u001b[0m\u001b[0;34m.\u001b[0m\u001b[0munique\u001b[0m\u001b[0;34m(\u001b[0m\u001b[0mlengths\u001b[0m\u001b[0;34m)\u001b[0m\u001b[0;34m\u001b[0m\u001b[0m\n\u001b[1;32m    179\u001b[0m     \u001b[0;32mif\u001b[0m \u001b[0mlen\u001b[0m\u001b[0;34m(\u001b[0m\u001b[0muniques\u001b[0m\u001b[0;34m)\u001b[0m \u001b[0;34m>\u001b[0m \u001b[0;36m1\u001b[0m\u001b[0;34m:\u001b[0m\u001b[0;34m\u001b[0m\u001b[0m\n",
      "\u001b[0;32m/Users/johnnosal/anaconda/lib/python2.7/site-packages/sklearn/utils/validation.pyc\u001b[0m in \u001b[0;36m_num_samples\u001b[0;34m(x)\u001b[0m\n\u001b[1;32m    124\u001b[0m         \u001b[0;32mif\u001b[0m \u001b[0mlen\u001b[0m\u001b[0;34m(\u001b[0m\u001b[0mx\u001b[0m\u001b[0;34m.\u001b[0m\u001b[0mshape\u001b[0m\u001b[0;34m)\u001b[0m \u001b[0;34m==\u001b[0m \u001b[0;36m0\u001b[0m\u001b[0;34m:\u001b[0m\u001b[0;34m\u001b[0m\u001b[0m\n\u001b[1;32m    125\u001b[0m             raise TypeError(\"Singleton array %r cannot be considered\"\n\u001b[0;32m--> 126\u001b[0;31m                             \" a valid collection.\" % x)\n\u001b[0m\u001b[1;32m    127\u001b[0m         \u001b[0;32mreturn\u001b[0m \u001b[0mx\u001b[0m\u001b[0;34m.\u001b[0m\u001b[0mshape\u001b[0m\u001b[0;34m[\u001b[0m\u001b[0;36m0\u001b[0m\u001b[0;34m]\u001b[0m\u001b[0;34m\u001b[0m\u001b[0m\n\u001b[1;32m    128\u001b[0m     \u001b[0;32melse\u001b[0m\u001b[0;34m:\u001b[0m\u001b[0;34m\u001b[0m\u001b[0m\n",
      "\u001b[0;31mTypeError\u001b[0m: Singleton array array(99) cannot be considered a valid collection."
     ]
    }
   ],
   "source": [
    "from sklearn.grid_search import GridSearchCV\n",
    "#Parameters for GB Grid Search\n",
    "\n",
    "PARAMETERSgbc = {'n_estimators':[200], 'learning_rate':[0.1,0.2], \n",
    "              'max_depth':[3,5,10]}\n",
    "\n",
    "#Grid Search for GBC\n",
    "gbcgs = GridSearchCV(GBCTest, PARAMETERSgbc, verbose=True, n_jobs=-1)\n",
    "gbcgs.fit(X, y)\n",
    "\n",
    "#After completion, show the final best results and scores\n",
    "print gbcgs.best_estimator_\n",
    "print gbcgs.best_score_\n"
   ]
  },
  {
   "cell_type": "code",
   "execution_count": 74,
   "metadata": {
    "collapsed": true
   },
   "outputs": [],
   "source": [
    "# make predictions\n",
    "preds = GBCTest.predict(X_test)"
   ]
  },
  {
   "cell_type": "code",
   "execution_count": 75,
   "metadata": {
    "collapsed": true
   },
   "outputs": [],
   "source": [
    "from sklearn.preprocessing import LabelEncoder\n",
    "le = LabelEncoder()\n",
    "y = le.fit_transform(data['readmitted'])"
   ]
  },
  {
   "cell_type": "code",
   "execution_count": 105,
   "metadata": {
    "collapsed": false
   },
   "outputs": [
    {
     "data": {
      "text/html": [
       "<div>\n",
       "<table border=\"1\" class=\"dataframe\">\n",
       "  <thead>\n",
       "    <tr style=\"text-align: right;\">\n",
       "      <th></th>\n",
       "      <th>0</th>\n",
       "      <th>1</th>\n",
       "    </tr>\n",
       "  </thead>\n",
       "  <tbody>\n",
       "    <tr>\n",
       "      <th>0</th>\n",
       "      <td>12601</td>\n",
       "      <td>1176</td>\n",
       "    </tr>\n",
       "    <tr>\n",
       "      <th>1</th>\n",
       "      <td>5379</td>\n",
       "      <td>1841</td>\n",
       "    </tr>\n",
       "  </tbody>\n",
       "</table>\n",
       "</div>"
      ],
      "text/plain": [
       "       0     1\n",
       "0  12601  1176\n",
       "1   5379  1841"
      ]
     },
     "execution_count": 105,
     "metadata": {},
     "output_type": "execute_result"
    }
   ],
   "source": [
    "#50/50 GBC confusion matrix\n",
    "from sklearn.metrics import confusion_matrix\n",
    "conf = confusion_matrix(y_test, GBCTest.predict(X_test))\n",
    "predicted_cols = [c for c in le.classes_]\n",
    "pd.DataFrame(conf, index = le.classes_, columns = predicted_cols)"
   ]
  },
  {
   "cell_type": "code",
   "execution_count": 106,
   "metadata": {
    "collapsed": false
   },
   "outputs": [
    {
     "name": "stdout",
     "output_type": "stream",
     "text": [
      "             precision    recall  f1-score   support\n",
      "\n",
      "          0       0.70      0.91      0.79     13777\n",
      "          1       0.61      0.25      0.36      7220\n",
      "\n",
      "avg / total       0.67      0.69      0.64     20997\n",
      "\n"
     ]
    }
   ],
   "source": [
    "#50/50 GBC classification report\n",
    "print classification_report(y_test, preds)"
   ]
  },
  {
   "cell_type": "markdown",
   "metadata": {},
   "source": [
    "# **SPLITTING PREDICTIONS**"
   ]
  },
  {
   "cell_type": "code",
   "execution_count": 85,
   "metadata": {
    "collapsed": true
   },
   "outputs": [],
   "source": [
    "predWy = pd.DataFrame(GBCTest.predict_proba(X_test), columns=['class_0_pp','class_1_pp'])"
   ]
  },
  {
   "cell_type": "code",
   "execution_count": 86,
   "metadata": {
    "collapsed": false
   },
   "outputs": [],
   "source": [
    "predWy['true'] = y_test"
   ]
  },
  {
   "cell_type": "code",
   "execution_count": 87,
   "metadata": {
    "collapsed": false
   },
   "outputs": [
    {
     "data": {
      "text/html": [
       "<div>\n",
       "<table border=\"1\" class=\"dataframe\">\n",
       "  <thead>\n",
       "    <tr style=\"text-align: right;\">\n",
       "      <th></th>\n",
       "      <th>class_0_pp</th>\n",
       "      <th>class_1_pp</th>\n",
       "      <th>true</th>\n",
       "    </tr>\n",
       "  </thead>\n",
       "  <tbody>\n",
       "    <tr>\n",
       "      <th>0</th>\n",
       "      <td>0.427083</td>\n",
       "      <td>0.572917</td>\n",
       "      <td>0</td>\n",
       "    </tr>\n",
       "    <tr>\n",
       "      <th>1</th>\n",
       "      <td>0.691607</td>\n",
       "      <td>0.308393</td>\n",
       "      <td>0</td>\n",
       "    </tr>\n",
       "    <tr>\n",
       "      <th>2</th>\n",
       "      <td>0.848375</td>\n",
       "      <td>0.151625</td>\n",
       "      <td>0</td>\n",
       "    </tr>\n",
       "    <tr>\n",
       "      <th>3</th>\n",
       "      <td>0.686436</td>\n",
       "      <td>0.313564</td>\n",
       "      <td>1</td>\n",
       "    </tr>\n",
       "    <tr>\n",
       "      <th>4</th>\n",
       "      <td>0.568682</td>\n",
       "      <td>0.431318</td>\n",
       "      <td>0</td>\n",
       "    </tr>\n",
       "    <tr>\n",
       "      <th>5</th>\n",
       "      <td>0.548159</td>\n",
       "      <td>0.451841</td>\n",
       "      <td>0</td>\n",
       "    </tr>\n",
       "    <tr>\n",
       "      <th>6</th>\n",
       "      <td>0.827069</td>\n",
       "      <td>0.172931</td>\n",
       "      <td>0</td>\n",
       "    </tr>\n",
       "    <tr>\n",
       "      <th>7</th>\n",
       "      <td>0.820162</td>\n",
       "      <td>0.179838</td>\n",
       "      <td>1</td>\n",
       "    </tr>\n",
       "    <tr>\n",
       "      <th>8</th>\n",
       "      <td>0.578562</td>\n",
       "      <td>0.421438</td>\n",
       "      <td>0</td>\n",
       "    </tr>\n",
       "    <tr>\n",
       "      <th>9</th>\n",
       "      <td>0.627002</td>\n",
       "      <td>0.372998</td>\n",
       "      <td>1</td>\n",
       "    </tr>\n",
       "    <tr>\n",
       "      <th>10</th>\n",
       "      <td>0.532119</td>\n",
       "      <td>0.467881</td>\n",
       "      <td>0</td>\n",
       "    </tr>\n",
       "    <tr>\n",
       "      <th>11</th>\n",
       "      <td>0.589326</td>\n",
       "      <td>0.410674</td>\n",
       "      <td>0</td>\n",
       "    </tr>\n",
       "    <tr>\n",
       "      <th>12</th>\n",
       "      <td>0.707395</td>\n",
       "      <td>0.292605</td>\n",
       "      <td>0</td>\n",
       "    </tr>\n",
       "    <tr>\n",
       "      <th>13</th>\n",
       "      <td>0.311872</td>\n",
       "      <td>0.688128</td>\n",
       "      <td>0</td>\n",
       "    </tr>\n",
       "    <tr>\n",
       "      <th>14</th>\n",
       "      <td>0.445451</td>\n",
       "      <td>0.554549</td>\n",
       "      <td>0</td>\n",
       "    </tr>\n",
       "    <tr>\n",
       "      <th>15</th>\n",
       "      <td>0.276512</td>\n",
       "      <td>0.723488</td>\n",
       "      <td>1</td>\n",
       "    </tr>\n",
       "    <tr>\n",
       "      <th>16</th>\n",
       "      <td>0.457734</td>\n",
       "      <td>0.542266</td>\n",
       "      <td>1</td>\n",
       "    </tr>\n",
       "    <tr>\n",
       "      <th>17</th>\n",
       "      <td>0.833652</td>\n",
       "      <td>0.166348</td>\n",
       "      <td>0</td>\n",
       "    </tr>\n",
       "    <tr>\n",
       "      <th>18</th>\n",
       "      <td>0.598231</td>\n",
       "      <td>0.401769</td>\n",
       "      <td>1</td>\n",
       "    </tr>\n",
       "    <tr>\n",
       "      <th>19</th>\n",
       "      <td>0.672654</td>\n",
       "      <td>0.327346</td>\n",
       "      <td>0</td>\n",
       "    </tr>\n",
       "    <tr>\n",
       "      <th>20</th>\n",
       "      <td>0.646648</td>\n",
       "      <td>0.353352</td>\n",
       "      <td>1</td>\n",
       "    </tr>\n",
       "    <tr>\n",
       "      <th>21</th>\n",
       "      <td>0.550141</td>\n",
       "      <td>0.449859</td>\n",
       "      <td>0</td>\n",
       "    </tr>\n",
       "    <tr>\n",
       "      <th>22</th>\n",
       "      <td>0.700066</td>\n",
       "      <td>0.299934</td>\n",
       "      <td>0</td>\n",
       "    </tr>\n",
       "    <tr>\n",
       "      <th>23</th>\n",
       "      <td>0.689845</td>\n",
       "      <td>0.310155</td>\n",
       "      <td>0</td>\n",
       "    </tr>\n",
       "    <tr>\n",
       "      <th>24</th>\n",
       "      <td>0.698874</td>\n",
       "      <td>0.301126</td>\n",
       "      <td>0</td>\n",
       "    </tr>\n",
       "    <tr>\n",
       "      <th>25</th>\n",
       "      <td>0.456513</td>\n",
       "      <td>0.543487</td>\n",
       "      <td>1</td>\n",
       "    </tr>\n",
       "    <tr>\n",
       "      <th>26</th>\n",
       "      <td>0.472347</td>\n",
       "      <td>0.527653</td>\n",
       "      <td>1</td>\n",
       "    </tr>\n",
       "    <tr>\n",
       "      <th>27</th>\n",
       "      <td>0.746696</td>\n",
       "      <td>0.253304</td>\n",
       "      <td>0</td>\n",
       "    </tr>\n",
       "    <tr>\n",
       "      <th>28</th>\n",
       "      <td>0.520897</td>\n",
       "      <td>0.479103</td>\n",
       "      <td>1</td>\n",
       "    </tr>\n",
       "    <tr>\n",
       "      <th>29</th>\n",
       "      <td>0.597846</td>\n",
       "      <td>0.402154</td>\n",
       "      <td>0</td>\n",
       "    </tr>\n",
       "    <tr>\n",
       "      <th>...</th>\n",
       "      <td>...</td>\n",
       "      <td>...</td>\n",
       "      <td>...</td>\n",
       "    </tr>\n",
       "    <tr>\n",
       "      <th>20967</th>\n",
       "      <td>0.845485</td>\n",
       "      <td>0.154515</td>\n",
       "      <td>0</td>\n",
       "    </tr>\n",
       "    <tr>\n",
       "      <th>20968</th>\n",
       "      <td>0.721738</td>\n",
       "      <td>0.278262</td>\n",
       "      <td>1</td>\n",
       "    </tr>\n",
       "    <tr>\n",
       "      <th>20969</th>\n",
       "      <td>0.399632</td>\n",
       "      <td>0.600368</td>\n",
       "      <td>1</td>\n",
       "    </tr>\n",
       "    <tr>\n",
       "      <th>20970</th>\n",
       "      <td>0.558193</td>\n",
       "      <td>0.441807</td>\n",
       "      <td>1</td>\n",
       "    </tr>\n",
       "    <tr>\n",
       "      <th>20971</th>\n",
       "      <td>0.742157</td>\n",
       "      <td>0.257843</td>\n",
       "      <td>0</td>\n",
       "    </tr>\n",
       "    <tr>\n",
       "      <th>20972</th>\n",
       "      <td>0.391463</td>\n",
       "      <td>0.608537</td>\n",
       "      <td>1</td>\n",
       "    </tr>\n",
       "    <tr>\n",
       "      <th>20973</th>\n",
       "      <td>0.740532</td>\n",
       "      <td>0.259468</td>\n",
       "      <td>1</td>\n",
       "    </tr>\n",
       "    <tr>\n",
       "      <th>20974</th>\n",
       "      <td>0.806712</td>\n",
       "      <td>0.193288</td>\n",
       "      <td>0</td>\n",
       "    </tr>\n",
       "    <tr>\n",
       "      <th>20975</th>\n",
       "      <td>0.551268</td>\n",
       "      <td>0.448732</td>\n",
       "      <td>1</td>\n",
       "    </tr>\n",
       "    <tr>\n",
       "      <th>20976</th>\n",
       "      <td>0.756697</td>\n",
       "      <td>0.243303</td>\n",
       "      <td>1</td>\n",
       "    </tr>\n",
       "    <tr>\n",
       "      <th>20977</th>\n",
       "      <td>0.871487</td>\n",
       "      <td>0.128513</td>\n",
       "      <td>1</td>\n",
       "    </tr>\n",
       "    <tr>\n",
       "      <th>20978</th>\n",
       "      <td>0.730571</td>\n",
       "      <td>0.269429</td>\n",
       "      <td>0</td>\n",
       "    </tr>\n",
       "    <tr>\n",
       "      <th>20979</th>\n",
       "      <td>0.770957</td>\n",
       "      <td>0.229043</td>\n",
       "      <td>0</td>\n",
       "    </tr>\n",
       "    <tr>\n",
       "      <th>20980</th>\n",
       "      <td>0.798777</td>\n",
       "      <td>0.201223</td>\n",
       "      <td>0</td>\n",
       "    </tr>\n",
       "    <tr>\n",
       "      <th>20981</th>\n",
       "      <td>0.473793</td>\n",
       "      <td>0.526207</td>\n",
       "      <td>0</td>\n",
       "    </tr>\n",
       "    <tr>\n",
       "      <th>20982</th>\n",
       "      <td>0.676207</td>\n",
       "      <td>0.323793</td>\n",
       "      <td>1</td>\n",
       "    </tr>\n",
       "    <tr>\n",
       "      <th>20983</th>\n",
       "      <td>0.763717</td>\n",
       "      <td>0.236283</td>\n",
       "      <td>0</td>\n",
       "    </tr>\n",
       "    <tr>\n",
       "      <th>20984</th>\n",
       "      <td>0.712601</td>\n",
       "      <td>0.287399</td>\n",
       "      <td>1</td>\n",
       "    </tr>\n",
       "    <tr>\n",
       "      <th>20985</th>\n",
       "      <td>0.622917</td>\n",
       "      <td>0.377083</td>\n",
       "      <td>1</td>\n",
       "    </tr>\n",
       "    <tr>\n",
       "      <th>20986</th>\n",
       "      <td>0.594664</td>\n",
       "      <td>0.405336</td>\n",
       "      <td>1</td>\n",
       "    </tr>\n",
       "    <tr>\n",
       "      <th>20987</th>\n",
       "      <td>0.781736</td>\n",
       "      <td>0.218264</td>\n",
       "      <td>0</td>\n",
       "    </tr>\n",
       "    <tr>\n",
       "      <th>20988</th>\n",
       "      <td>0.730758</td>\n",
       "      <td>0.269242</td>\n",
       "      <td>0</td>\n",
       "    </tr>\n",
       "    <tr>\n",
       "      <th>20989</th>\n",
       "      <td>0.523037</td>\n",
       "      <td>0.476963</td>\n",
       "      <td>0</td>\n",
       "    </tr>\n",
       "    <tr>\n",
       "      <th>20990</th>\n",
       "      <td>0.317950</td>\n",
       "      <td>0.682050</td>\n",
       "      <td>1</td>\n",
       "    </tr>\n",
       "    <tr>\n",
       "      <th>20991</th>\n",
       "      <td>0.569039</td>\n",
       "      <td>0.430961</td>\n",
       "      <td>0</td>\n",
       "    </tr>\n",
       "    <tr>\n",
       "      <th>20992</th>\n",
       "      <td>0.809754</td>\n",
       "      <td>0.190246</td>\n",
       "      <td>0</td>\n",
       "    </tr>\n",
       "    <tr>\n",
       "      <th>20993</th>\n",
       "      <td>0.710938</td>\n",
       "      <td>0.289062</td>\n",
       "      <td>0</td>\n",
       "    </tr>\n",
       "    <tr>\n",
       "      <th>20994</th>\n",
       "      <td>0.633198</td>\n",
       "      <td>0.366802</td>\n",
       "      <td>0</td>\n",
       "    </tr>\n",
       "    <tr>\n",
       "      <th>20995</th>\n",
       "      <td>0.744047</td>\n",
       "      <td>0.255953</td>\n",
       "      <td>1</td>\n",
       "    </tr>\n",
       "    <tr>\n",
       "      <th>20996</th>\n",
       "      <td>0.654138</td>\n",
       "      <td>0.345862</td>\n",
       "      <td>0</td>\n",
       "    </tr>\n",
       "  </tbody>\n",
       "</table>\n",
       "<p>20997 rows × 3 columns</p>\n",
       "</div>"
      ],
      "text/plain": [
       "       class_0_pp  class_1_pp  true\n",
       "0        0.427083    0.572917     0\n",
       "1        0.691607    0.308393     0\n",
       "2        0.848375    0.151625     0\n",
       "3        0.686436    0.313564     1\n",
       "4        0.568682    0.431318     0\n",
       "5        0.548159    0.451841     0\n",
       "6        0.827069    0.172931     0\n",
       "7        0.820162    0.179838     1\n",
       "8        0.578562    0.421438     0\n",
       "9        0.627002    0.372998     1\n",
       "10       0.532119    0.467881     0\n",
       "11       0.589326    0.410674     0\n",
       "12       0.707395    0.292605     0\n",
       "13       0.311872    0.688128     0\n",
       "14       0.445451    0.554549     0\n",
       "15       0.276512    0.723488     1\n",
       "16       0.457734    0.542266     1\n",
       "17       0.833652    0.166348     0\n",
       "18       0.598231    0.401769     1\n",
       "19       0.672654    0.327346     0\n",
       "20       0.646648    0.353352     1\n",
       "21       0.550141    0.449859     0\n",
       "22       0.700066    0.299934     0\n",
       "23       0.689845    0.310155     0\n",
       "24       0.698874    0.301126     0\n",
       "25       0.456513    0.543487     1\n",
       "26       0.472347    0.527653     1\n",
       "27       0.746696    0.253304     0\n",
       "28       0.520897    0.479103     1\n",
       "29       0.597846    0.402154     0\n",
       "...           ...         ...   ...\n",
       "20967    0.845485    0.154515     0\n",
       "20968    0.721738    0.278262     1\n",
       "20969    0.399632    0.600368     1\n",
       "20970    0.558193    0.441807     1\n",
       "20971    0.742157    0.257843     0\n",
       "20972    0.391463    0.608537     1\n",
       "20973    0.740532    0.259468     1\n",
       "20974    0.806712    0.193288     0\n",
       "20975    0.551268    0.448732     1\n",
       "20976    0.756697    0.243303     1\n",
       "20977    0.871487    0.128513     1\n",
       "20978    0.730571    0.269429     0\n",
       "20979    0.770957    0.229043     0\n",
       "20980    0.798777    0.201223     0\n",
       "20981    0.473793    0.526207     0\n",
       "20982    0.676207    0.323793     1\n",
       "20983    0.763717    0.236283     0\n",
       "20984    0.712601    0.287399     1\n",
       "20985    0.622917    0.377083     1\n",
       "20986    0.594664    0.405336     1\n",
       "20987    0.781736    0.218264     0\n",
       "20988    0.730758    0.269242     0\n",
       "20989    0.523037    0.476963     0\n",
       "20990    0.317950    0.682050     1\n",
       "20991    0.569039    0.430961     0\n",
       "20992    0.809754    0.190246     0\n",
       "20993    0.710938    0.289062     0\n",
       "20994    0.633198    0.366802     0\n",
       "20995    0.744047    0.255953     1\n",
       "20996    0.654138    0.345862     0\n",
       "\n",
       "[20997 rows x 3 columns]"
      ]
     },
     "execution_count": 87,
     "metadata": {},
     "output_type": "execute_result"
    }
   ],
   "source": [
    "predWy"
   ]
  },
  {
   "cell_type": "code",
   "execution_count": 88,
   "metadata": {
    "collapsed": false
   },
   "outputs": [],
   "source": [
    "predWyOne = predWy[predWy.true!=0]\n",
    "predWyZero = predWy[predWy.true!=1]\n",
    "predWyOne = predWyOne.reset_index(drop=True)\n",
    "predWyZero = predWyZero.reset_index(drop=True)"
   ]
  },
  {
   "cell_type": "code",
   "execution_count": 124,
   "metadata": {
    "collapsed": false
   },
   "outputs": [
    {
     "data": {
      "image/png": "[encoded data removed]",
      "text/plain": [
       "<matplotlib.figure.Figure at 0x1292e98d0>"
      ]
     },
     "metadata": {},
     "output_type": "display_data"
    }
   ],
   "source": [
    "plt.hist(predWyZero['class_1_pp'], bins = 70, alpha=0.5);\n",
    "plt.hist(predWyOne['class_1_pp'], bins = 70, alpha=0.5);\n",
    "#plt.hist(Y_pp['class_1_pp'], bins = 70, alpha=0.5);\n",
    "plt.legend(loc = 'best')\n",
    "plt.savefig('CSpredict.jpeg')"
   ]
  },
  {
   "cell_type": "code",
   "execution_count": 125,
   "metadata": {
    "collapsed": false
   },
   "outputs": [
    {
     "data": {
      "image/png": "[encoded data removed]",
      "text/plain": [
       "<matplotlib.figure.Figure at 0x11afebdd0>"
      ]
     },
     "metadata": {},
     "output_type": "display_data"
    }
   ],
   "source": [
    "plt.hist(predWyZero['class_1_pp'], bins = 70, alpha=0.5, normed = True);\n",
    "plt.hist(predWyOne['class_1_pp'], bins = 70, alpha=0.5, normed = True);\n",
    "#plt.hist(Y_pp['class_1_pp'], bins = 70, alpha=0.5, normed = True);\n",
    "plt.legend(loc = 'best')\n",
    "plt.savefig('CSpredictNorm.jpeg')"
   ]
  },
  {
   "cell_type": "code",
   "execution_count": 91,
   "metadata": {
    "collapsed": false,
    "scrolled": true
   },
   "outputs": [
    {
     "name": "stdout",
     "output_type": "stream",
     "text": [
      "   class_0_pp  class_1_pp\n",
      "0    0.427083    0.572917\n",
      "1    0.691607    0.308393\n",
      "2    0.848375    0.151625\n",
      "3    0.686436    0.313564\n",
      "4    0.568682    0.431318\n",
      "5    0.548159    0.451841\n",
      "6    0.827069    0.172931\n",
      "7    0.820162    0.179838\n",
      "8    0.578562    0.421438\n",
      "9    0.627002    0.372998\n",
      "(20997, 20997)\n"
     ]
    }
   ],
   "source": [
    "#Prediction dataframe\n",
    "Y_pp = pd.DataFrame(GBCTest.predict_proba(X_test), columns=['class_0_pp','class_1_pp'])\n",
    "print(Y_pp.iloc[0:10])\n",
    "print(len(X_test), len(Y_pp))"
   ]
  },
  {
   "cell_type": "code",
   "execution_count": 92,
   "metadata": {
    "collapsed": false
   },
   "outputs": [
    {
     "data": {
      "image/png": "[encoded data removed]",
      "text/plain": [
       "<matplotlib.figure.Figure at 0x116969250>"
      ]
     },
     "metadata": {},
     "output_type": "display_data"
    }
   ],
   "source": [
    "plt.hist(Y_pp['class_1_pp'], bins = 30);\n"
   ]
  },
  {
   "cell_type": "code",
   "execution_count": 93,
   "metadata": {
    "collapsed": false
   },
   "outputs": [],
   "source": [
    "for y in range(1,100):\n",
    "    Y_pp[y] = [1 if x >= (y/100.) else 0 for x in Y_pp.class_1_pp.values]"
   ]
  },
  {
   "cell_type": "code",
   "execution_count": 94,
   "metadata": {
    "collapsed": false
   },
   "outputs": [
    {
     "data": {
      "text/html": [
       "<div>\n",
       "<table border=\"1\" class=\"dataframe\">\n",
       "  <thead>\n",
       "    <tr style=\"text-align: right;\">\n",
       "      <th></th>\n",
       "      <th>class_0_pp</th>\n",
       "      <th>class_1_pp</th>\n",
       "      <th>1</th>\n",
       "      <th>2</th>\n",
       "      <th>3</th>\n",
       "      <th>4</th>\n",
       "      <th>5</th>\n",
       "      <th>6</th>\n",
       "      <th>7</th>\n",
       "      <th>8</th>\n",
       "      <th>...</th>\n",
       "      <th>90</th>\n",
       "      <th>91</th>\n",
       "      <th>92</th>\n",
       "      <th>93</th>\n",
       "      <th>94</th>\n",
       "      <th>95</th>\n",
       "      <th>96</th>\n",
       "      <th>97</th>\n",
       "      <th>98</th>\n",
       "      <th>99</th>\n",
       "    </tr>\n",
       "  </thead>\n",
       "  <tbody>\n",
       "    <tr>\n",
       "      <th>0</th>\n",
       "      <td>0.427083</td>\n",
       "      <td>0.572917</td>\n",
       "      <td>1</td>\n",
       "      <td>1</td>\n",
       "      <td>1</td>\n",
       "      <td>1</td>\n",
       "      <td>1</td>\n",
       "      <td>1</td>\n",
       "      <td>1</td>\n",
       "      <td>1</td>\n",
       "      <td>...</td>\n",
       "      <td>0</td>\n",
       "      <td>0</td>\n",
       "      <td>0</td>\n",
       "      <td>0</td>\n",
       "      <td>0</td>\n",
       "      <td>0</td>\n",
       "      <td>0</td>\n",
       "      <td>0</td>\n",
       "      <td>0</td>\n",
       "      <td>0</td>\n",
       "    </tr>\n",
       "    <tr>\n",
       "      <th>1</th>\n",
       "      <td>0.691607</td>\n",
       "      <td>0.308393</td>\n",
       "      <td>1</td>\n",
       "      <td>1</td>\n",
       "      <td>1</td>\n",
       "      <td>1</td>\n",
       "      <td>1</td>\n",
       "      <td>1</td>\n",
       "      <td>1</td>\n",
       "      <td>1</td>\n",
       "      <td>...</td>\n",
       "      <td>0</td>\n",
       "      <td>0</td>\n",
       "      <td>0</td>\n",
       "      <td>0</td>\n",
       "      <td>0</td>\n",
       "      <td>0</td>\n",
       "      <td>0</td>\n",
       "      <td>0</td>\n",
       "      <td>0</td>\n",
       "      <td>0</td>\n",
       "    </tr>\n",
       "    <tr>\n",
       "      <th>2</th>\n",
       "      <td>0.848375</td>\n",
       "      <td>0.151625</td>\n",
       "      <td>1</td>\n",
       "      <td>1</td>\n",
       "      <td>1</td>\n",
       "      <td>1</td>\n",
       "      <td>1</td>\n",
       "      <td>1</td>\n",
       "      <td>1</td>\n",
       "      <td>1</td>\n",
       "      <td>...</td>\n",
       "      <td>0</td>\n",
       "      <td>0</td>\n",
       "      <td>0</td>\n",
       "      <td>0</td>\n",
       "      <td>0</td>\n",
       "      <td>0</td>\n",
       "      <td>0</td>\n",
       "      <td>0</td>\n",
       "      <td>0</td>\n",
       "      <td>0</td>\n",
       "    </tr>\n",
       "    <tr>\n",
       "      <th>3</th>\n",
       "      <td>0.686436</td>\n",
       "      <td>0.313564</td>\n",
       "      <td>1</td>\n",
       "      <td>1</td>\n",
       "      <td>1</td>\n",
       "      <td>1</td>\n",
       "      <td>1</td>\n",
       "      <td>1</td>\n",
       "      <td>1</td>\n",
       "      <td>1</td>\n",
       "      <td>...</td>\n",
       "      <td>0</td>\n",
       "      <td>0</td>\n",
       "      <td>0</td>\n",
       "      <td>0</td>\n",
       "      <td>0</td>\n",
       "      <td>0</td>\n",
       "      <td>0</td>\n",
       "      <td>0</td>\n",
       "      <td>0</td>\n",
       "      <td>0</td>\n",
       "    </tr>\n",
       "    <tr>\n",
       "      <th>4</th>\n",
       "      <td>0.568682</td>\n",
       "      <td>0.431318</td>\n",
       "      <td>1</td>\n",
       "      <td>1</td>\n",
       "      <td>1</td>\n",
       "      <td>1</td>\n",
       "      <td>1</td>\n",
       "      <td>1</td>\n",
       "      <td>1</td>\n",
       "      <td>1</td>\n",
       "      <td>...</td>\n",
       "      <td>0</td>\n",
       "      <td>0</td>\n",
       "      <td>0</td>\n",
       "      <td>0</td>\n",
       "      <td>0</td>\n",
       "      <td>0</td>\n",
       "      <td>0</td>\n",
       "      <td>0</td>\n",
       "      <td>0</td>\n",
       "      <td>0</td>\n",
       "    </tr>\n",
       "  </tbody>\n",
       "</table>\n",
       "<p>5 rows × 101 columns</p>\n",
       "</div>"
      ],
      "text/plain": [
       "   class_0_pp  class_1_pp  1  2  3  4  5  6  7  8 ...  90  91  92  93  94  95  \\\n",
       "0    0.427083    0.572917  1  1  1  1  1  1  1  1 ...   0   0   0   0   0   0   \n",
       "1    0.691607    0.308393  1  1  1  1  1  1  1  1 ...   0   0   0   0   0   0   \n",
       "2    0.848375    0.151625  1  1  1  1  1  1  1  1 ...   0   0   0   0   0   0   \n",
       "3    0.686436    0.313564  1  1  1  1  1  1  1  1 ...   0   0   0   0   0   0   \n",
       "4    0.568682    0.431318  1  1  1  1  1  1  1  1 ...   0   0   0   0   0   0   \n",
       "\n",
       "   96  97  98  99  \n",
       "0   0   0   0   0  \n",
       "1   0   0   0   0  \n",
       "2   0   0   0   0  \n",
       "3   0   0   0   0  \n",
       "4   0   0   0   0  \n",
       "\n",
       "[5 rows x 101 columns]"
      ]
     },
     "execution_count": 94,
     "metadata": {},
     "output_type": "execute_result"
    }
   ],
   "source": [
    "Y_pp.head()"
   ]
  },
  {
   "cell_type": "code",
   "execution_count": 95,
   "metadata": {
    "collapsed": false
   },
   "outputs": [],
   "source": [
    "def confma(x):\n",
    "    conf = confusion_matrix(y_test, x)\n",
    "    predicted_cols = [c for c in le.classes_]\n",
    "    return pd.DataFrame(conf, index = le.classes_, columns = predicted_cols)\n"
   ]
  },
  {
   "cell_type": "code",
   "execution_count": 102,
   "metadata": {
    "collapsed": true
   },
   "outputs": [],
   "source": [
    "def classfx(x):\n",
    "    conf = classification_report(y_test, x)\n",
    "    predicted_cols = [c for c in le.classes_]\n",
    "    return pd.DataFrame(conf, index = le.classes_, columns = predicted_cols)"
   ]
  },
  {
   "cell_type": "code",
   "execution_count": 176,
   "metadata": {
    "collapsed": false
   },
   "outputs": [
    {
     "name": "stdout",
     "output_type": "stream",
     "text": [
      "Confusion Matrix of 1 is:\n",
      "   0      1\n",
      "0  0  13777\n",
      "1  0   7220\n",
      "Confusion Matrix of 2 is:\n",
      "   0      1\n",
      "0  0  13777\n",
      "1  0   7220\n",
      "Confusion Matrix of 3 is:\n",
      "   0      1\n",
      "0  0  13777\n",
      "1  0   7220\n",
      "Confusion Matrix of 4 is:\n",
      "   0      1\n",
      "0  0  13777\n",
      "1  0   7220\n",
      "Confusion Matrix of 5 is:\n",
      "   0      1\n",
      "0  0  13777\n",
      "1  0   7220\n",
      "Confusion Matrix of 6 is:\n",
      "   0      1\n",
      "0  1  13776\n",
      "1  0   7220\n",
      "Confusion Matrix of 7 is:\n",
      "   0      1\n",
      "0  2  13775\n",
      "1  0   7220\n",
      "Confusion Matrix of 8 is:\n",
      "    0      1\n",
      "0  11  13766\n",
      "1   1   7219\n",
      "Confusion Matrix of 9 is:\n",
      "    0      1\n",
      "0  29  13748\n",
      "1   1   7219\n",
      "Confusion Matrix of 10 is:\n",
      "    0      1\n",
      "0  79  13698\n",
      "1   6   7214\n",
      "Confusion Matrix of 11 is:\n",
      "     0      1\n",
      "0  147  13630\n",
      "1    8   7212\n",
      "Confusion Matrix of 12 is:\n",
      "     0      1\n",
      "0  266  13511\n",
      "1   17   7203\n",
      "Confusion Matrix of 13 is:\n",
      "     0      1\n",
      "0  415  13362\n",
      "1   37   7183\n",
      "Confusion Matrix of 14 is:\n",
      "     0      1\n",
      "0  606  13171\n",
      "1   59   7161\n",
      "Confusion Matrix of 15 is:\n",
      "     0      1\n",
      "0  829  12948\n",
      "1   80   7140\n",
      "Confusion Matrix of 16 is:\n",
      "      0      1\n",
      "0  1074  12703\n",
      "1   118   7102\n",
      "Confusion Matrix of 17 is:\n",
      "      0      1\n",
      "0  1361  12416\n",
      "1   157   7063\n",
      "Confusion Matrix of 18 is:\n",
      "      0      1\n",
      "0  1660  12117\n",
      "1   223   6997\n",
      "Confusion Matrix of 19 is:\n",
      "      0      1\n",
      "0  1998  11779\n",
      "1   293   6927\n",
      "Confusion Matrix of 20 is:\n",
      "      0      1\n",
      "0  2397  11380\n",
      "1   380   6840\n",
      "Confusion Matrix of 21 is:\n",
      "      0      1\n",
      "0  2839  10938\n",
      "1   473   6747\n",
      "Confusion Matrix of 22 is:\n",
      "      0      1\n",
      "0  3266  10511\n",
      "1   587   6633\n",
      "Confusion Matrix of 23 is:\n",
      "      0      1\n",
      "0  3724  10053\n",
      "1   726   6494\n",
      "Confusion Matrix of 24 is:\n",
      "      0     1\n",
      "0  4240  9537\n",
      "1   883  6337\n",
      "Confusion Matrix of 25 is:\n",
      "      0     1\n",
      "0  4705  9072\n",
      "1  1050  6170\n",
      "Confusion Matrix of 26 is:\n",
      "      0     1\n",
      "0  5223  8554\n",
      "1  1240  5980\n",
      "Confusion Matrix of 27 is:\n",
      "      0     1\n",
      "0  5746  8031\n",
      "1  1405  5815\n",
      "Confusion Matrix of 28 is:\n",
      "      0     1\n",
      "0  6234  7543\n",
      "1  1599  5621\n",
      "Confusion Matrix of 29 is:\n",
      "      0     1\n",
      "0  6748  7029\n",
      "1  1812  5408\n",
      "Confusion Matrix of 30 is:\n",
      "      0     1\n",
      "0  7252  6525\n",
      "1  2019  5201\n",
      "Confusion Matrix of 31 is:\n",
      "      0     1\n",
      "0  7736  6041\n",
      "1  2240  4980\n",
      "Confusion Matrix of 32 is:\n",
      "      0     1\n",
      "0  8215  5562\n",
      "1  2472  4748\n",
      "Confusion Matrix of 33 is:\n",
      "      0     1\n",
      "0  8689  5088\n",
      "1  2675  4545\n",
      "Confusion Matrix of 34 is:\n",
      "      0     1\n",
      "0  9111  4666\n",
      "1  2904  4316\n",
      "Confusion Matrix of 35 is:\n",
      "      0     1\n",
      "0  9552  4225\n",
      "1  3097  4123\n",
      "Confusion Matrix of 36 is:\n",
      "      0     1\n",
      "0  9936  3841\n",
      "1  3324  3896\n",
      "Confusion Matrix of 37 is:\n",
      "       0     1\n",
      "0  10298  3479\n",
      "1   3534  3686\n",
      "Confusion Matrix of 38 is:\n",
      "       0     1\n",
      "0  10594  3183\n",
      "1   3734  3486\n",
      "Confusion Matrix of 39 is:\n",
      "       0     1\n",
      "0  10873  2904\n",
      "1   3924  3296\n",
      "Confusion Matrix of 40 is:\n",
      "       0     1\n",
      "0  11129  2648\n",
      "1   4094  3126\n",
      "Confusion Matrix of 41 is:\n",
      "       0     1\n",
      "0  11327  2450\n",
      "1   4250  2970\n",
      "Confusion Matrix of 42 is:\n",
      "       0     1\n",
      "0  11531  2246\n",
      "1   4416  2804\n",
      "Confusion Matrix of 43 is:\n",
      "       0     1\n",
      "0  11703  2074\n",
      "1   4553  2667\n",
      "Confusion Matrix of 44 is:\n",
      "       0     1\n",
      "0  11873  1904\n",
      "1   4676  2544\n",
      "Confusion Matrix of 45 is:\n",
      "       0     1\n",
      "0  12008  1769\n",
      "1   4799  2421\n",
      "Confusion Matrix of 46 is:\n",
      "       0     1\n",
      "0  12140  1637\n",
      "1   4913  2307\n",
      "Confusion Matrix of 47 is:\n",
      "       0     1\n",
      "0  12263  1514\n",
      "1   5034  2186\n",
      "Confusion Matrix of 48 is:\n",
      "       0     1\n",
      "0  12397  1380\n",
      "1   5153  2067\n",
      "Confusion Matrix of 49 is:\n",
      "       0     1\n",
      "0  12511  1266\n",
      "1   5268  1952\n",
      "Confusion Matrix of 50 is:\n",
      "       0     1\n",
      "0  12601  1176\n",
      "1   5379  1841\n",
      "Confusion Matrix of 51 is:\n",
      "       0     1\n",
      "0  12701  1076\n",
      "1   5469  1751\n",
      "Confusion Matrix of 52 is:\n",
      "       0     1\n",
      "0  12810   967\n",
      "1   5584  1636\n",
      "Confusion Matrix of 53 is:\n",
      "       0     1\n",
      "0  12897   880\n",
      "1   5683  1537\n",
      "Confusion Matrix of 54 is:\n",
      "       0     1\n",
      "0  12982   795\n",
      "1   5782  1438\n",
      "Confusion Matrix of 55 is:\n",
      "       0     1\n",
      "0  13059   718\n",
      "1   5876  1344\n",
      "Confusion Matrix of 56 is:\n",
      "       0     1\n",
      "0  13132   645\n",
      "1   5975  1245\n",
      "Confusion Matrix of 57 is:\n",
      "       0     1\n",
      "0  13190   587\n",
      "1   6055  1165\n",
      "Confusion Matrix of 58 is:\n",
      "       0     1\n",
      "0  13258   519\n",
      "1   6134  1086\n",
      "Confusion Matrix of 59 is:\n",
      "       0     1\n",
      "0  13311   466\n",
      "1   6208  1012\n",
      "Confusion Matrix of 60 is:\n",
      "       0    1\n",
      "0  13357  420\n",
      "1   6274  946\n",
      "Confusion Matrix of 61 is:\n",
      "       0    1\n",
      "0  13411  366\n",
      "1   6334  886\n",
      "Confusion Matrix of 62 is:\n",
      "       0    1\n",
      "0  13441  336\n",
      "1   6408  812\n",
      "Confusion Matrix of 63 is:\n",
      "       0    1\n",
      "0  13484  293\n",
      "1   6465  755\n",
      "Confusion Matrix of 64 is:\n",
      "       0    1\n",
      "0  13514  263\n",
      "1   6528  692\n",
      "Confusion Matrix of 65 is:\n",
      "       0    1\n",
      "0  13542  235\n",
      "1   6582  638\n",
      "Confusion Matrix of 66 is:\n",
      "       0    1\n",
      "0  13574  203\n",
      "1   6627  593\n",
      "Confusion Matrix of 67 is:\n",
      "       0    1\n",
      "0  13605  172\n",
      "1   6683  537\n",
      "Confusion Matrix of 68 is:\n",
      "       0    1\n",
      "0  13624  153\n",
      "1   6724  496\n",
      "Confusion Matrix of 69 is:\n",
      "       0    1\n",
      "0  13644  133\n",
      "1   6772  448\n",
      "Confusion Matrix of 70 is:\n",
      "       0    1\n",
      "0  13662  115\n",
      "1   6826  394\n",
      "Confusion Matrix of 71 is:\n",
      "       0    1\n",
      "0  13680   97\n",
      "1   6878  342\n",
      "Confusion Matrix of 72 is:\n",
      "       0    1\n",
      "0  13694   83\n",
      "1   6913  307\n",
      "Confusion Matrix of 73 is:\n",
      "       0    1\n",
      "0  13718   59\n",
      "1   6950  270\n",
      "Confusion Matrix of 74 is:\n",
      "       0    1\n",
      "0  13729   48\n",
      "1   6977  243\n",
      "Confusion Matrix of 75 is:\n",
      "       0    1\n",
      "0  13743   34\n",
      "1   7009  211\n",
      "Confusion Matrix of 76 is:\n",
      "       0    1\n",
      "0  13748   29\n",
      "1   7049  171\n",
      "Confusion Matrix of 77 is:\n",
      "       0    1\n",
      "0  13754   23\n",
      "1   7080  140\n",
      "Confusion Matrix of 78 is:\n",
      "       0    1\n",
      "0  13756   21\n",
      "1   7096  124\n",
      "Confusion Matrix of 79 is:\n",
      "       0    1\n",
      "0  13758   19\n",
      "1   7112  108\n",
      "Confusion Matrix of 80 is:\n",
      "       0   1\n",
      "0  13760  17\n",
      "1   7126  94\n",
      "Confusion Matrix of 81 is:\n",
      "       0   1\n",
      "0  13767  10\n",
      "1   7147  73\n",
      "Confusion Matrix of 82 is:\n",
      "       0   1\n",
      "0  13768   9\n",
      "1   7160  60\n",
      "Confusion Matrix of 83 is:\n",
      "       0   1\n",
      "0  13768   9\n",
      "1   7171  49\n",
      "Confusion Matrix of 84 is:\n",
      "       0   1\n",
      "0  13770   7\n",
      "1   7181  39\n",
      "Confusion Matrix of 85 is:\n",
      "       0   1\n",
      "0  13770   7\n",
      "1   7190  30\n",
      "Confusion Matrix of 86 is:\n",
      "       0   1\n",
      "0  13772   5\n",
      "1   7197  23\n",
      "Confusion Matrix of 87 is:\n",
      "       0   1\n",
      "0  13774   3\n",
      "1   7201  19\n",
      "Confusion Matrix of 88 is:\n",
      "       0   1\n",
      "0  13774   3\n",
      "1   7205  15\n",
      "Confusion Matrix of 89 is:\n",
      "       0   1\n",
      "0  13774   3\n",
      "1   7206  14\n",
      "Confusion Matrix of 90 is:\n",
      "       0  1\n",
      "0  13776  1\n",
      "1   7211  9\n",
      "Confusion Matrix of 91 is:\n",
      "       0  1\n",
      "0  13776  1\n",
      "1   7213  7\n",
      "Confusion Matrix of 92 is:\n",
      "       0  1\n",
      "0  13776  1\n",
      "1   7216  4\n",
      "Confusion Matrix of 93 is:\n",
      "       0  1\n",
      "0  13776  1\n",
      "1   7217  3\n",
      "Confusion Matrix of 94 is:\n",
      "       0  1\n",
      "0  13776  1\n",
      "1   7218  2\n",
      "Confusion Matrix of 95 is:\n",
      "       0  1\n",
      "0  13776  1\n",
      "1   7220  0\n",
      "Confusion Matrix of 96 is:\n",
      "       0  1\n",
      "0  13776  1\n",
      "1   7220  0\n",
      "Confusion Matrix of 97 is:\n",
      "       0  1\n",
      "0  13777  0\n",
      "1   7220  0\n"
     ]
    },
    {
     "ename": "ZeroDivisionError",
     "evalue": "float division by zero",
     "output_type": "error",
     "traceback": [
      "\u001b[0;31m---------------------------------------------------------------------------\u001b[0m",
      "\u001b[0;31mZeroDivisionError\u001b[0m                         Traceback (most recent call last)",
      "\u001b[0;32m<ipython-input-176-677f8eae55ff>\u001b[0m in \u001b[0;36m<module>\u001b[0;34m()\u001b[0m\n\u001b[1;32m     16\u001b[0m     \u001b[0mzeroRecall\u001b[0m\u001b[0;34m.\u001b[0m\u001b[0mappend\u001b[0m\u001b[0;34m(\u001b[0m\u001b[0;34m(\u001b[0m\u001b[0mconfx\u001b[0m\u001b[0;34m[\u001b[0m\u001b[0;36m0\u001b[0m\u001b[0;34m]\u001b[0m\u001b[0;34m[\u001b[0m\u001b[0;36m0\u001b[0m\u001b[0;34m]\u001b[0m\u001b[0;34m/\u001b[0m\u001b[0;36m13777.\u001b[0m\u001b[0;34m)\u001b[0m\u001b[0;34m)\u001b[0m\u001b[0;34m\u001b[0m\u001b[0m\n\u001b[1;32m     17\u001b[0m     \u001b[0moneRecall\u001b[0m\u001b[0;34m.\u001b[0m\u001b[0mappend\u001b[0m\u001b[0;34m(\u001b[0m\u001b[0;34m(\u001b[0m\u001b[0mconfx\u001b[0m\u001b[0;34m[\u001b[0m\u001b[0;36m1\u001b[0m\u001b[0;34m]\u001b[0m\u001b[0;34m[\u001b[0m\u001b[0;36m1\u001b[0m\u001b[0;34m]\u001b[0m\u001b[0;34m/\u001b[0m\u001b[0;36m7220.\u001b[0m\u001b[0;34m)\u001b[0m\u001b[0;34m)\u001b[0m\u001b[0;34m\u001b[0m\u001b[0m\n\u001b[0;32m---> 18\u001b[0;31m     \u001b[0monePrec\u001b[0m\u001b[0;34m.\u001b[0m\u001b[0mappend\u001b[0m\u001b[0;34m(\u001b[0m\u001b[0;34m(\u001b[0m\u001b[0mfloat\u001b[0m\u001b[0;34m(\u001b[0m\u001b[0mconfx\u001b[0m\u001b[0;34m[\u001b[0m\u001b[0;36m1\u001b[0m\u001b[0;34m]\u001b[0m\u001b[0;34m[\u001b[0m\u001b[0;36m1\u001b[0m\u001b[0;34m]\u001b[0m\u001b[0;34m)\u001b[0m\u001b[0;34m/\u001b[0m\u001b[0;34m(\u001b[0m\u001b[0mconfx\u001b[0m\u001b[0;34m[\u001b[0m\u001b[0;36m1\u001b[0m\u001b[0;34m]\u001b[0m\u001b[0;34m[\u001b[0m\u001b[0;36m0\u001b[0m\u001b[0;34m]\u001b[0m\u001b[0;34m+\u001b[0m\u001b[0mconfx\u001b[0m\u001b[0;34m[\u001b[0m\u001b[0;36m1\u001b[0m\u001b[0;34m]\u001b[0m\u001b[0;34m[\u001b[0m\u001b[0;36m1\u001b[0m\u001b[0;34m]\u001b[0m\u001b[0;34m)\u001b[0m\u001b[0;34m)\u001b[0m\u001b[0;34m)\u001b[0m\u001b[0;34m\u001b[0m\u001b[0m\n\u001b[0m\u001b[1;32m     19\u001b[0m     \u001b[0mzeroPrec\u001b[0m\u001b[0;34m.\u001b[0m\u001b[0mappend\u001b[0m\u001b[0;34m(\u001b[0m\u001b[0;34m(\u001b[0m\u001b[0mfloat\u001b[0m\u001b[0;34m(\u001b[0m\u001b[0mconfx\u001b[0m\u001b[0;34m[\u001b[0m\u001b[0;36m0\u001b[0m\u001b[0;34m]\u001b[0m\u001b[0;34m[\u001b[0m\u001b[0;36m0\u001b[0m\u001b[0;34m]\u001b[0m\u001b[0;34m)\u001b[0m\u001b[0;34m/\u001b[0m\u001b[0;34m(\u001b[0m\u001b[0mconfx\u001b[0m\u001b[0;34m[\u001b[0m\u001b[0;36m0\u001b[0m\u001b[0;34m]\u001b[0m\u001b[0;34m[\u001b[0m\u001b[0;36m1\u001b[0m\u001b[0;34m]\u001b[0m\u001b[0;34m+\u001b[0m\u001b[0mconfx\u001b[0m\u001b[0;34m[\u001b[0m\u001b[0;36m0\u001b[0m\u001b[0;34m]\u001b[0m\u001b[0;34m[\u001b[0m\u001b[0;36m0\u001b[0m\u001b[0;34m]\u001b[0m\u001b[0;34m+\u001b[0m\u001b[0;36m0.000000001\u001b[0m\u001b[0;34m)\u001b[0m\u001b[0;34m)\u001b[0m\u001b[0;34m)\u001b[0m\u001b[0;34m\u001b[0m\u001b[0m\n\u001b[1;32m     20\u001b[0m     \u001b[0mdayCost\u001b[0m\u001b[0;34m.\u001b[0m\u001b[0mappend\u001b[0m\u001b[0;34m(\u001b[0m\u001b[0;34m(\u001b[0m\u001b[0mconfx\u001b[0m\u001b[0;34m[\u001b[0m\u001b[0;36m0\u001b[0m\u001b[0;34m]\u001b[0m\u001b[0;34m[\u001b[0m\u001b[0;36m1\u001b[0m\u001b[0;34m]\u001b[0m\u001b[0;34m*\u001b[0m\u001b[0;36m4.379\u001b[0m\u001b[0;34m)\u001b[0m\u001b[0;34m+\u001b[0m\u001b[0mfloat\u001b[0m\u001b[0;34m(\u001b[0m\u001b[0mconfx\u001b[0m\u001b[0;34m[\u001b[0m\u001b[0;36m1\u001b[0m\u001b[0;34m]\u001b[0m\u001b[0;34m[\u001b[0m\u001b[0;36m0\u001b[0m\u001b[0;34m]\u001b[0m\u001b[0;34m)\u001b[0m\u001b[0;34m-\u001b[0m\u001b[0;34m(\u001b[0m\u001b[0mconfx\u001b[0m\u001b[0;34m[\u001b[0m\u001b[0;36m1\u001b[0m\u001b[0;34m]\u001b[0m\u001b[0;34m[\u001b[0m\u001b[0;36m1\u001b[0m\u001b[0;34m]\u001b[0m\u001b[0;34m*\u001b[0m\u001b[0;36m2.4\u001b[0m\u001b[0;34m)\u001b[0m\u001b[0;34m)\u001b[0m\u001b[0;34m\u001b[0m\u001b[0m\n",
      "\u001b[0;31mZeroDivisionError\u001b[0m: float division by zero"
     ]
    }
   ],
   "source": [
    "zeroList = []\n",
    "oneList = []\n",
    "oneRecall = []\n",
    "zeroRecall = []\n",
    "onePrec = []\n",
    "zeroPrec = []\n",
    "dayCost = []\n",
    "FN = []\n",
    "for x in range (1,100):\n",
    "    print 'Confusion Matrix of ' + str(x) + ' is:'\n",
    "    confx = confma(Y_pp[x])\n",
    "    print confx\n",
    "    FN.append(confx[0][1]/7220.)\n",
    "    zeroList.append((confx[0][0]+confx[0][1])/20997.)\n",
    "    oneList.append((confx[1][0]+confx[1][1])/20997.)\n",
    "    zeroRecall.append((confx[0][0]/13777.))\n",
    "    oneRecall.append((confx[1][1]/7220.))\n",
    "    onePrec.append((float(confx[1][1])/(confx[1][0]+confx[1][1])))\n",
    "    zeroPrec.append((float(confx[0][0])/(confx[0][1]+confx[0][0]+0.000000001)))\n",
    "    dayCost.append((confx[0][1]*4.379)+float(confx[1][0])-(confx[1][1]*2.4))"
   ]
  },
  {
   "cell_type": "code",
   "execution_count": 179,
   "metadata": {
    "collapsed": false
   },
   "outputs": [
    {
     "data": {
      "text/plain": [
       "[(1, 0.0, 0.3438586464733057),\n",
       " (2, 0.0, 0.3438586464733057),\n",
       " (3, 0.0, 0.3438586464733057),\n",
       " (4, 0.0, 0.3438586464733057),\n",
       " (5, 0.0, 0.3438586464733057),\n",
       " (6, 0.99999999899999992, 0.3438750238140598),\n",
       " (7, 0.99999999949999996, 0.3438914027149321),\n",
       " (8, 0.91666666659027773, 0.344007624493686),\n",
       " (9, 0.96666666663444445, 0.3443029522583107),\n",
       " (10, 0.92941176469494802, 0.34496939556235656),\n",
       " (11, 0.94838709676807498, 0.34603205066692255),\n",
       " (12, 0.93992932861858691, 0.3477358308390461),\n",
       " (13, 0.91814159291832276, 0.349622779265028),\n",
       " (14, 0.91127819548735145, 0.3522034231752902),\n",
       " (15, 0.91199119911890869, 0.35543608124253284),\n",
       " (16, 0.90100671140864008, 0.3585963140621055),\n",
       " (17, 0.89657444005211029, 0.36259561579136507),\n",
       " (18, 0.88157195963840596, 0.36606675735063304),\n",
       " (19, 0.87210824967225142, 0.3703089917673474),\n",
       " (20, 0.86316168527156534, 0.3754116355653128),\n",
       " (21, 0.85718599033790543, 0.381509754028838),\n",
       " (22, 0.84765118089778158, 0.386899206719552),\n",
       " (23, 0.83685393258408147, 0.3924578473439294),\n",
       " (24, 0.82764005465531365, 0.3992062492125488),\n",
       " (25, 0.81754995655937135, 0.4048025193544154),\n",
       " (26, 0.80813863530855512, 0.41144901610017887),\n",
       " (27, 0.80352398265965541, 0.4199768886320959),\n",
       " (28, 0.79586365377239932, 0.42699787298693404),\n",
       " (29, 0.78831775700925366, 0.43483155101712634),\n",
       " (30, 0.78222413979066097, 0.44354426061743135),\n",
       " (31, 0.77546110665589663, 0.45186462208511025),\n",
       " (32, 0.76869093290906998, 0.4605237633365664),\n",
       " (33, 0.7646075325588908, 0.4718156337589536),\n",
       " (34, 0.758302122347003, 0.4805165887330216),\n",
       " (35, 0.7551585105541343, 0.49389075227599427),\n",
       " (36, 0.74932126696826928, 0.5035543492309681),\n",
       " (37, 0.74450549450544068, 0.5144452198185625),\n",
       " (38, 0.73939140145165139, 0.5227170490328386),\n",
       " (39, 0.73481111036015845, 0.5316129032258065),\n",
       " (40, 0.73106483610321671, 0.5413924489089019),\n",
       " (41, 0.72716184117604621, 0.5479704797047971),\n",
       " (42, 0.72308271148173808, 0.5552475247524753),\n",
       " (43, 0.71991879921255408, 0.5625395486184349),\n",
       " (44, 0.71744516284967563, 0.5719424460431655),\n",
       " (45, 0.71446421134047033, 0.5778042959427208),\n",
       " (46, 0.71189819973021096, 0.5849391480730223),\n",
       " (47, 0.70896687286808646, 0.5908108108108108),\n",
       " (48, 0.70638176638172612, 0.5996518711923412),\n",
       " (49, 0.70369537094320811, 0.6065879428216283),\n",
       " (50, 0.70083426028917128, 0.6102088167053364),\n",
       " (51, 0.69900935608141446, 0.6193845065440396),\n",
       " (52, 0.69642274654774949, 0.628505570495582),\n",
       " (53, 0.69413347685679794, 0.6359122879602813),\n",
       " (54, 0.69185674696223132, 0.6439767129422301),\n",
       " (55, 0.68967520464744181, 0.6517943743937924),\n",
       " (56, 0.68728738158786373, 0.6587301587301587),\n",
       " (57, 0.6853728241101229, 0.6649543378995434),\n",
       " (58, 0.68368399339930463, 0.6766355140186916),\n",
       " (59, 0.6819509196167487, 0.6847090663058186),\n",
       " (60, 0.68040344353315263, 0.6925329428989752),\n",
       " (61, 0.67920992656365264, 0.707667731629393),\n",
       " (62, 0.67716257745978747, 0.7073170731707317),\n",
       " (63, 0.67592360519320882, 0.7204198473282443),\n",
       " (64, 0.67428400359242213, 0.724607329842932),\n",
       " (65, 0.67292784734641853, 0.7308132875143184),\n",
       " (66, 0.67194693332009936, 0.7449748743718593),\n",
       " (67, 0.67059345425864203, 0.7574047954866009),\n",
       " (68, 0.66954983290737813, 0.7642526964560863),\n",
       " (69, 0.66829937304071962, 0.7710843373493976),\n",
       " (70, 0.66682936352983857, 0.7740667976424361),\n",
       " (71, 0.66543438077630768, 0.7790432801822323),\n",
       " (72, 0.66453146988884049, 0.7871794871794872),\n",
       " (73, 0.66373137216950528, 0.8206686930091185),\n",
       " (74, 0.66304452815605797, 0.8350515463917526),\n",
       " (75, 0.66224942174245072, 0.8612244897959184),\n",
       " (76, 0.66105688320427647, 0.855),\n",
       " (77, 0.66017087453198331, 0.8588957055214724),\n",
       " (78, 0.65969691156720411, 0.8551724137931035),\n",
       " (79, 0.65922376617150646, 0.8503937007874016),\n",
       " (80, 0.65881451690124204, 0.8468468468468469),\n",
       " (81, 0.65826718944244722, 0.8795180722891566),\n",
       " (82, 0.65787461773697165, 0.8695652173913043),\n",
       " (83, 0.65752901284680942, 0.8448275862068966),\n",
       " (84, 0.65724786406373648, 0.8478260869565217),\n",
       " (85, 0.65696564885493047, 0.8108108108108109),\n",
       " (86, 0.65677905479514254, 0.8214285714285714),\n",
       " (87, 0.65668653158518919, 0.8636363636363636),\n",
       " (88, 0.65656132322795857, 0.8333333333333334),\n",
       " (89, 0.65653002859863407, 0.8235294117647058),\n",
       " (90, 0.65640634678607435, 0.9),\n",
       " (91, 0.65634379913284779, 0.875),\n",
       " (92, 0.65624999999996869, 0.8),\n",
       " (93, 0.65621873957982868, 0.75),\n",
       " (94, 0.65618748213772238, 0.6666666666666666),\n",
       " (95, 0.65612497618590893, 0.0),\n",
       " (96, 0.65612497618590893, 0.0)]"
      ]
     },
     "execution_count": 179,
     "metadata": {},
     "output_type": "execute_result"
    }
   ],
   "source": [
    "oneP = zip(range (1,100), onePrec, oneList)\n",
    "zeroP = zip(range (1,100), zeroPrec, zeroList)\n",
    "both =  zip(range (1,100), zeroPrec, onePrec)\n",
    "both"
   ]
  },
  {
   "cell_type": "code",
   "execution_count": 182,
   "metadata": {
    "collapsed": false
   },
   "outputs": [
    {
     "data": {
      "image/png": "[encoded data removed]",
      "text/plain": [
       "<matplotlib.figure.Figure at 0x11710bc90>"
      ]
     },
     "metadata": {},
     "output_type": "display_data"
    }
   ],
   "source": [
    "fig = plt.figure(figsize=(16,6))\n",
    "ax = fig.gca()\n",
    "ax.axhline(y=0.6561,xmin=0,xmax=100,c=\"red\", label = 'Baseline accuracy')\n",
    "#plt.plot(dayCost, color = 'orange')\n",
    "#plt.plot(oneList,color = 'orange')\n",
    "#plt.plot(zeroList,color = 'red')\n",
    "#plt.plot(oneRecall, color = 'green')\n",
    "plt.plot(onePrec, label = 'Readmitted Precision', color = 'blue', linewidth=3)\n",
    "plt.plot(zeroPrec,label = 'Not Readmitted Precision', color = 'black', linewidth=3)\n",
    "#plt.plot(zeroRecall, color = 'pink')\n",
    "ax.set_xlim(0, 100)\n",
    "ax.set_ylim(0.6, 1.0)\n",
    "plt.legend(loc = 'best', fontsize = '25')\n",
    "plt.savefig('CSPrec.jpeg')"
   ]
  },
  {
   "cell_type": "code",
   "execution_count": 178,
   "metadata": {
    "collapsed": false
   },
   "outputs": [
    {
     "name": "stdout",
     "output_type": "stream",
     "text": [
      "[(1, 0.0), (2, 0.0), (3, 0.0), (4, 0.0), (5, 0.0), (6, 0.0), (7, 0.0), (8, 0.00013850415512465375), (9, 0.00013850415512465375), (10, 0.0008310249307479224), (11, 0.00110803324099723), (12, 0.0023545706371191134), (13, 0.0051246537396121882), (14, 0.008171745152354571), (15, 0.011080332409972299), (16, 0.016343490304709142), (17, 0.021745152354570637), (18, 0.030886426592797785), (19, 0.040581717451523544), (20, 0.052631578947368418), (21, 0.065512465373961215), (22, 0.081301939058171749), (23, 0.10055401662049862), (24, 0.12229916897506925), (25, 0.14542936288088643), (26, 0.17174515235457063), (27, 0.19459833795013851), (28, 0.22146814404432133), (29, 0.25096952908587256), (30, 0.27963988919667587), (31, 0.31024930747922436), (32, 0.34238227146814404), (33, 0.37049861495844877), (34, 0.40221606648199448), (35, 0.42894736842105263), (36, 0.46038781163434905), (37, 0.48947368421052634), (38, 0.5171745152354571), (39, 0.54349030470914128), (40, 0.56703601108033241), (41, 0.58864265927977844), (42, 0.61163434903047087), (43, 0.63060941828254846), (44, 0.64764542936288083), (45, 0.66468144044321331), (46, 0.68047091412742378), (47, 0.69722991689750691), (48, 0.71371191135734069), (49, 0.72963988919667588), (50, 0.74501385041551249), (51, 0.75747922437673132), (52, 0.77340720221606651), (53, 0.78711911357340725), (54, 0.80083102493074787), (55, 0.8138504155124654), (56, 0.82756232686980613), (57, 0.83864265927977844), (58, 0.84958448753462601), (59, 0.85983379501385038), (60, 0.86897506925207757), (61, 0.87728531855955683), (62, 0.88753462603878119), (63, 0.89542936288088648), (64, 0.90415512465373959), (65, 0.91163434903047091), (66, 0.91786703601108033), (67, 0.925623268698061), (68, 0.93130193905817171), (69, 0.9379501385041551), (70, 0.94542936288088641), (71, 0.95263157894736838), (72, 0.95747922437673127), (73, 0.96260387811634351), (74, 0.96634349030470912), (75, 0.97077562326869804), (76, 0.97631578947368425), (77, 0.98060941828254844), (78, 0.9828254847645429), (79, 0.98504155124653736), (80, 0.98698060941828258), (81, 0.98988919667590025), (82, 0.99168975069252074), (83, 0.993213296398892), (84, 0.99459833795013852), (85, 0.99584487534626043), (86, 0.99681440443213298), (87, 0.99736842105263157), (88, 0.99792243767313016), (89, 0.99806094182825489), (90, 0.99875346260387809), (91, 0.99903047091412744), (92, 0.99944598337950141), (93, 0.99958448753462603), (94, 0.99972299168975065), (95, 1.0), (96, 1.0), (97, 1.0)]\n"
     ]
    },
    {
     "data": {
      "image/png": "[encoded data removed]",
      "text/plain": [
       "<matplotlib.figure.Figure at 0x114bf9850>"
      ]
     },
     "metadata": {},
     "output_type": "display_data"
    }
   ],
   "source": [
    "plt.plot(FN)\n",
    "print zip(range (1,100), FN)"
   ]
  },
  {
   "cell_type": "code",
   "execution_count": null,
   "metadata": {
    "collapsed": true
   },
   "outputs": [],
   "source": []
  }
 ],
 "metadata": {
  "anaconda-cloud": {},
  "kernelspec": {
   "display_name": "Python [conda root]",
   "language": "python",
   "name": "conda-root-py"
  },
  "language_info": {
   "codemirror_mode": {
    "name": "ipython",
    "version": 2
   },
   "file_extension": ".py",
   "mimetype": "text/x-python",
   "name": "python",
   "nbconvert_exporter": "python",
   "pygments_lexer": "ipython2",
   "version": "2.7.12"
  }
 },
 "nbformat": 4,
 "nbformat_minor": 1
}
