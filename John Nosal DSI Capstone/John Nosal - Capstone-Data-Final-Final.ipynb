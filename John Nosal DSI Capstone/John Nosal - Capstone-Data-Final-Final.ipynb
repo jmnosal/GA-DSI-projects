{
 "cells": [
  {
   "cell_type": "code",
   "execution_count": 215,
   "metadata": {
    "collapsed": false
   },
   "outputs": [],
   "source": [
    "import pandas as pd\n",
    "import seaborn as sns\n",
    "import numpy as np\n",
    "%matplotlib inline\n",
    "import pickle"
   ]
  },
  {
   "cell_type": "markdown",
   "metadata": {},
   "source": [
    "Dataset - https://archive.ics.uci.edu/ml/datasets/Diabetes+130-US+hospitals+for+years+1999-2008\n",
    "Column key - https://www.hindawi.com/journals/bmri/2014/781670/tab1/\n",
    "Diagnosis key - https://www.hindawi.com/journals/bmri/2014/781670/tab2/"
   ]
  },
  {
   "cell_type": "code",
   "execution_count": 216,
   "metadata": {
    "collapsed": true
   },
   "outputs": [],
   "source": [
    "data2 = pd.read_csv('/Users/johnnosal/Downloads/dataset_diabetes/diabetic_data.csv')"
   ]
  },
  {
   "cell_type": "code",
   "execution_count": 217,
   "metadata": {
    "collapsed": false
   },
   "outputs": [
    {
     "data": {
      "text/plain": [
       "Index([u'encounter_id', u'patient_nbr', u'race', u'gender', u'age', u'weight',\n",
       "       u'admission_type_id', u'discharge_disposition_id',\n",
       "       u'admission_source_id', u'time_in_hospital', u'payer_code',\n",
       "       u'medical_specialty', u'num_lab_procedures', u'num_procedures',\n",
       "       u'num_medications', u'number_outpatient', u'number_emergency',\n",
       "       u'number_inpatient', u'diag_1', u'diag_2', u'diag_3',\n",
       "       u'number_diagnoses', u'max_glu_serum', u'A1Cresult', u'metformin',\n",
       "       u'repaglinide', u'nateglinide', u'chlorpropamide', u'glimepiride',\n",
       "       u'acetohexamide', u'glipizide', u'glyburide', u'tolbutamide',\n",
       "       u'pioglitazone', u'rosiglitazone', u'acarbose', u'miglitol',\n",
       "       u'troglitazone', u'tolazamide', u'examide', u'citoglipton', u'insulin',\n",
       "       u'glyburide-metformin', u'glipizide-metformin',\n",
       "       u'glimepiride-pioglitazone', u'metformin-rosiglitazone',\n",
       "       u'metformin-pioglitazone', u'change', u'diabetesMed', u'readmitted'],\n",
       "      dtype='object')"
      ]
     },
     "execution_count": 217,
     "metadata": {},
     "output_type": "execute_result"
    }
   ],
   "source": [
    "data2.columns"
   ]
  },
  {
   "cell_type": "code",
   "execution_count": 219,
   "metadata": {
    "collapsed": true
   },
   "outputs": [],
   "source": [
    "data2 = data2.drop('examide', axis = 1) #Remove 'examide' from working dataset - only option is NO\n",
    "data2 = data2.drop('citoglipton', axis = 1) #Remove 'citoglipton' from working dataset - only option is NO"
   ]
  },
  {
   "cell_type": "code",
   "execution_count": 220,
   "metadata": {
    "collapsed": true
   },
   "outputs": [],
   "source": [
    "data2['diabetesMed'] = data2['diabetesMed'].replace('No', 0) #Turn diabetesMed column to numbers\n",
    "data2['diabetesMed'] = data2['diabetesMed'].replace('Yes', 1)"
   ]
  },
  {
   "cell_type": "code",
   "execution_count": 221,
   "metadata": {
    "collapsed": true
   },
   "outputs": [],
   "source": [
    "data2['change'] = data2['change'].replace('No', 0) #Turn change column to numbers\n",
    "data2['change'] = data2['change'].replace('Ch', 1)"
   ]
  },
  {
   "cell_type": "code",
   "execution_count": 222,
   "metadata": {
    "collapsed": false
   },
   "outputs": [],
   "source": [
    "data2['gender'] = data2['gender'].replace('Male', 0) #Turn gender column to numbers: Male =0, Female=1\n",
    "data2['gender'] = data2['gender'].replace('Female', 1)\n",
    "data2['gender'] = data2['gender'].replace('Unknown/Invalid', 2)"
   ]
  },
  {
   "cell_type": "code",
   "execution_count": 223,
   "metadata": {
    "collapsed": false
   },
   "outputs": [],
   "source": [
    "data2 = data2[data2.gender!=2] #Remove three rows where gender is NA"
   ]
  },
  {
   "cell_type": "code",
   "execution_count": 224,
   "metadata": {
    "collapsed": false
   },
   "outputs": [],
   "source": [
    "data2 = data2[data2.discharge_disposition_id!=11]\n",
    "data2 = data2[data2.discharge_disposition_id!=13]\n",
    "data2 = data2[data2.discharge_disposition_id!=14]\n",
    "data2 = data2[data2.discharge_disposition_id!=19]\n",
    "data2 = data2[data2.discharge_disposition_id!=20]\n",
    "data2 = data2[data2.discharge_disposition_id!=21]#Remove rows where patient expired or was sent to hospice"
   ]
  },
  {
   "cell_type": "code",
   "execution_count": 225,
   "metadata": {
    "collapsed": true
   },
   "outputs": [],
   "source": [
    "data2 = data2.drop('acetohexamide', axis = 1) \n",
    "#Remove 'citoglipton' from working dataset - only one option is not NO\n",
    "data2 = data2.drop('tolbutamide', axis = 1) \n",
    "#Remove 'citoglipton' from working dataset - only 23 options are not NO\n",
    "data2 = data2.drop('troglitazone', axis = 1) \n",
    "#Remove 'citoglipton' from working dataset - only 3 options are not NO\n",
    "data2 = data2.drop('glipizide-metformin', axis = 1) \n",
    "#Remove 'citoglipton' from working dataset - only 13 option are not NO\n",
    "data2 = data2.drop('glimepiride-pioglitazone', axis = 1) \n",
    "#Remove 'citoglipton' from working dataset - only option is NO\n",
    "data2 = data2.drop('metformin-rosiglitazone', axis = 1) \n",
    "#Remove 'citoglipton' from working dataset - only 2 options are not NO\n",
    "data2 = data2.drop('metformin-pioglitazone', axis = 1) \n",
    "#Remove 'citoglipton' from working dataset - only option is NO"
   ]
  },
  {
   "cell_type": "code",
   "execution_count": 226,
   "metadata": {
    "collapsed": true
   },
   "outputs": [],
   "source": [
    "data2 = data2.drop('chlorpropamide', axis = 1) \n",
    "#Remove 'chlorpropamide' from working dataset - only 86 options are not NO\n",
    "data2 = data2.drop('acarbose', axis = 1) \n",
    "#Remove 'acarbose' from working dataset - only 308 options are not NO\n",
    "data2 = data2.drop('miglitol', axis = 1) \n",
    "#Remove 'miglitol' from working dataset - only 38 options are not NO\n",
    "data2 = data2.drop('tolazamide', axis = 1) \n",
    "#Remove 'tolazamide' from working dataset - only 39 options are not NO"
   ]
  },
  {
   "cell_type": "code",
   "execution_count": 227,
   "metadata": {
    "collapsed": true
   },
   "outputs": [],
   "source": [
    "data2 = data2.drop('weight', axis = 1) \n",
    "#Remove 'weight' as only 3% of rows have data and this element was removed from the original analysis of the data\n",
    "data2 = data2.drop('payer_code', axis = 1) \n",
    "#Remove 'payer_code' as a majority of rows are missing data and this field is not relevant to readmission"
   ]
  },
  {
   "cell_type": "code",
   "execution_count": 232,
   "metadata": {
    "collapsed": false
   },
   "outputs": [
    {
     "data": {
      "text/plain": [
       "4.379363801087175"
      ]
     },
     "execution_count": 232,
     "metadata": {},
     "output_type": "execute_result"
    }
   ],
   "source": [
    "data2['time_in_hospital'].mean()"
   ]
  },
  {
   "cell_type": "code",
   "execution_count": 152,
   "metadata": {
    "collapsed": false
   },
   "outputs": [],
   "source": [
    "data2 = data2.reset_index(drop=True) #Reset index"
   ]
  },
  {
   "cell_type": "code",
   "execution_count": 153,
   "metadata": {
    "collapsed": false
   },
   "outputs": [],
   "source": [
    "#Convert select columns to floats to normalize below\n",
    "data2['time_in_hospital'] = data2['time_in_hospital'].astype(float)\n",
    "data2['num_lab_procedures'] = data2['num_lab_procedures'].astype(float)\n",
    "data2['num_procedures'] = data2['num_procedures'].astype(float)\n",
    "data2['num_medications'] = data2['num_medications'].astype(float)\n",
    "data2['number_outpatient'] = data2['number_outpatient'].astype(float)\n",
    "data2['number_emergency'] = data2['number_emergency'].astype(float)\n",
    "data2['number_inpatient'] = data2['number_inpatient'].astype(float)\n",
    "data2['number_diagnoses'] = data2['number_diagnoses'].astype(float)\n"
   ]
  },
  {
   "cell_type": "code",
   "execution_count": 156,
   "metadata": {
    "collapsed": true
   },
   "outputs": [],
   "source": [
    "from sklearn.preprocessing import StandardScaler"
   ]
  },
  {
   "cell_type": "code",
   "execution_count": 157,
   "metadata": {
    "collapsed": false
   },
   "outputs": [],
   "source": [
    "#Get dummy variables for 'race', dropping 'race_?'\n",
    "data2 = pd.get_dummies(data2, columns=['race']).drop('race_?', axis=1)"
   ]
  },
  {
   "cell_type": "code",
   "execution_count": 158,
   "metadata": {
    "collapsed": true
   },
   "outputs": [],
   "source": [
    "#Get dummy variables for 'age', dropping 'age_[0-10)'\n",
    "data2 = pd.get_dummies(data2, columns=['age']).drop('age_[0-10)', axis=1)"
   ]
  },
  {
   "cell_type": "code",
   "execution_count": 162,
   "metadata": {
    "collapsed": true
   },
   "outputs": [],
   "source": [
    "#Inflate importance of number inpatient\n",
    "data2['number_inpatient'] = data2['number_inpatient']**2\n",
    "data2['num_lab_procedures'] = data2['num_lab_procedures']**2\n",
    "data2['num_medications'] = data2['num_medications']**2\n",
    "data2['number_diagnoses'] = data2['number_diagnoses']**2\n",
    "data2['time_in_hospital'] = data2['time_in_hospital']**2\n",
    "data2['num_procedures'] = data2['num_procedures']**2\n",
    "data2['number_outpatient'] = data2['number_outpatient']**2\n",
    "data2['number_emergency'] = data2['number_emergency']**2"
   ]
  },
  {
   "cell_type": "code",
   "execution_count": 164,
   "metadata": {
    "collapsed": false
   },
   "outputs": [
    {
     "name": "stderr",
     "output_type": "stream",
     "text": [
      "/Users/johnnosal/anaconda/lib/python2.7/site-packages/sklearn/preprocessing/data.py:586: DeprecationWarning: Passing 1d arrays as data is deprecated in 0.17 and will raise ValueError in 0.19. Reshape your data either using X.reshape(-1, 1) if your data has a single feature or X.reshape(1, -1) if it contains a single sample.\n",
      "  warnings.warn(DEPRECATION_MSG_1D, DeprecationWarning)\n",
      "/Users/johnnosal/anaconda/lib/python2.7/site-packages/sklearn/preprocessing/data.py:649: DeprecationWarning: Passing 1d arrays as data is deprecated in 0.17 and will raise ValueError in 0.19. Reshape your data either using X.reshape(-1, 1) if your data has a single feature or X.reshape(1, -1) if it contains a single sample.\n",
      "  warnings.warn(DEPRECATION_MSG_1D, DeprecationWarning)\n"
     ]
    }
   ],
   "source": [
    "data2['time_in_hospital'] = StandardScaler().fit_transform(data2['time_in_hospital'])"
   ]
  },
  {
   "cell_type": "code",
   "execution_count": 165,
   "metadata": {
    "collapsed": false
   },
   "outputs": [
    {
     "name": "stderr",
     "output_type": "stream",
     "text": [
      "/Users/johnnosal/anaconda/lib/python2.7/site-packages/sklearn/preprocessing/data.py:586: DeprecationWarning: Passing 1d arrays as data is deprecated in 0.17 and will raise ValueError in 0.19. Reshape your data either using X.reshape(-1, 1) if your data has a single feature or X.reshape(1, -1) if it contains a single sample.\n",
      "  warnings.warn(DEPRECATION_MSG_1D, DeprecationWarning)\n",
      "/Users/johnnosal/anaconda/lib/python2.7/site-packages/sklearn/preprocessing/data.py:649: DeprecationWarning: Passing 1d arrays as data is deprecated in 0.17 and will raise ValueError in 0.19. Reshape your data either using X.reshape(-1, 1) if your data has a single feature or X.reshape(1, -1) if it contains a single sample.\n",
      "  warnings.warn(DEPRECATION_MSG_1D, DeprecationWarning)\n",
      "/Users/johnnosal/anaconda/lib/python2.7/site-packages/sklearn/preprocessing/data.py:586: DeprecationWarning: Passing 1d arrays as data is deprecated in 0.17 and will raise ValueError in 0.19. Reshape your data either using X.reshape(-1, 1) if your data has a single feature or X.reshape(1, -1) if it contains a single sample.\n",
      "  warnings.warn(DEPRECATION_MSG_1D, DeprecationWarning)\n",
      "/Users/johnnosal/anaconda/lib/python2.7/site-packages/sklearn/preprocessing/data.py:649: DeprecationWarning: Passing 1d arrays as data is deprecated in 0.17 and will raise ValueError in 0.19. Reshape your data either using X.reshape(-1, 1) if your data has a single feature or X.reshape(1, -1) if it contains a single sample.\n",
      "  warnings.warn(DEPRECATION_MSG_1D, DeprecationWarning)\n",
      "/Users/johnnosal/anaconda/lib/python2.7/site-packages/sklearn/preprocessing/data.py:586: DeprecationWarning: Passing 1d arrays as data is deprecated in 0.17 and will raise ValueError in 0.19. Reshape your data either using X.reshape(-1, 1) if your data has a single feature or X.reshape(1, -1) if it contains a single sample.\n",
      "  warnings.warn(DEPRECATION_MSG_1D, DeprecationWarning)\n",
      "/Users/johnnosal/anaconda/lib/python2.7/site-packages/sklearn/preprocessing/data.py:649: DeprecationWarning: Passing 1d arrays as data is deprecated in 0.17 and will raise ValueError in 0.19. Reshape your data either using X.reshape(-1, 1) if your data has a single feature or X.reshape(1, -1) if it contains a single sample.\n",
      "  warnings.warn(DEPRECATION_MSG_1D, DeprecationWarning)\n",
      "/Users/johnnosal/anaconda/lib/python2.7/site-packages/sklearn/preprocessing/data.py:586: DeprecationWarning: Passing 1d arrays as data is deprecated in 0.17 and will raise ValueError in 0.19. Reshape your data either using X.reshape(-1, 1) if your data has a single feature or X.reshape(1, -1) if it contains a single sample.\n",
      "  warnings.warn(DEPRECATION_MSG_1D, DeprecationWarning)\n",
      "/Users/johnnosal/anaconda/lib/python2.7/site-packages/sklearn/preprocessing/data.py:649: DeprecationWarning: Passing 1d arrays as data is deprecated in 0.17 and will raise ValueError in 0.19. Reshape your data either using X.reshape(-1, 1) if your data has a single feature or X.reshape(1, -1) if it contains a single sample.\n",
      "  warnings.warn(DEPRECATION_MSG_1D, DeprecationWarning)\n",
      "/Users/johnnosal/anaconda/lib/python2.7/site-packages/sklearn/preprocessing/data.py:586: DeprecationWarning: Passing 1d arrays as data is deprecated in 0.17 and will raise ValueError in 0.19. Reshape your data either using X.reshape(-1, 1) if your data has a single feature or X.reshape(1, -1) if it contains a single sample.\n",
      "  warnings.warn(DEPRECATION_MSG_1D, DeprecationWarning)\n",
      "/Users/johnnosal/anaconda/lib/python2.7/site-packages/sklearn/preprocessing/data.py:649: DeprecationWarning: Passing 1d arrays as data is deprecated in 0.17 and will raise ValueError in 0.19. Reshape your data either using X.reshape(-1, 1) if your data has a single feature or X.reshape(1, -1) if it contains a single sample.\n",
      "  warnings.warn(DEPRECATION_MSG_1D, DeprecationWarning)\n",
      "/Users/johnnosal/anaconda/lib/python2.7/site-packages/sklearn/preprocessing/data.py:586: DeprecationWarning: Passing 1d arrays as data is deprecated in 0.17 and will raise ValueError in 0.19. Reshape your data either using X.reshape(-1, 1) if your data has a single feature or X.reshape(1, -1) if it contains a single sample.\n",
      "  warnings.warn(DEPRECATION_MSG_1D, DeprecationWarning)\n",
      "/Users/johnnosal/anaconda/lib/python2.7/site-packages/sklearn/preprocessing/data.py:649: DeprecationWarning: Passing 1d arrays as data is deprecated in 0.17 and will raise ValueError in 0.19. Reshape your data either using X.reshape(-1, 1) if your data has a single feature or X.reshape(1, -1) if it contains a single sample.\n",
      "  warnings.warn(DEPRECATION_MSG_1D, DeprecationWarning)\n",
      "/Users/johnnosal/anaconda/lib/python2.7/site-packages/sklearn/preprocessing/data.py:586: DeprecationWarning: Passing 1d arrays as data is deprecated in 0.17 and will raise ValueError in 0.19. Reshape your data either using X.reshape(-1, 1) if your data has a single feature or X.reshape(1, -1) if it contains a single sample.\n",
      "  warnings.warn(DEPRECATION_MSG_1D, DeprecationWarning)\n",
      "/Users/johnnosal/anaconda/lib/python2.7/site-packages/sklearn/preprocessing/data.py:649: DeprecationWarning: Passing 1d arrays as data is deprecated in 0.17 and will raise ValueError in 0.19. Reshape your data either using X.reshape(-1, 1) if your data has a single feature or X.reshape(1, -1) if it contains a single sample.\n",
      "  warnings.warn(DEPRECATION_MSG_1D, DeprecationWarning)\n"
     ]
    }
   ],
   "source": [
    "data2['num_lab_procedures'] = StandardScaler().fit_transform(data2['num_lab_procedures'])\n",
    "data2['num_procedures'] = StandardScaler().fit_transform(data2['num_procedures'])\n",
    "data2['num_medications'] = StandardScaler().fit_transform(data2['num_medications'])\n",
    "data2['number_outpatient'] = StandardScaler().fit_transform(data2['number_outpatient'])\n",
    "data2['number_emergency'] = StandardScaler().fit_transform(data2['number_emergency'])\n",
    "data2['number_inpatient'] = StandardScaler().fit_transform(data2['number_inpatient'])\n",
    "data2['number_diagnoses'] = StandardScaler().fit_transform(data2['number_diagnoses'])"
   ]
  },
  {
   "cell_type": "code",
   "execution_count": 166,
   "metadata": {
    "collapsed": false
   },
   "outputs": [
    {
     "name": "stderr",
     "output_type": "stream",
     "text": [
      "/Users/johnnosal/anaconda/lib/python2.7/site-packages/sklearn/preprocessing/data.py:586: DeprecationWarning: Passing 1d arrays as data is deprecated in 0.17 and will raise ValueError in 0.19. Reshape your data either using X.reshape(-1, 1) if your data has a single feature or X.reshape(1, -1) if it contains a single sample.\n",
      "  warnings.warn(DEPRECATION_MSG_1D, DeprecationWarning)\n",
      "/Users/johnnosal/anaconda/lib/python2.7/site-packages/sklearn/preprocessing/data.py:649: DeprecationWarning: Passing 1d arrays as data is deprecated in 0.17 and will raise ValueError in 0.19. Reshape your data either using X.reshape(-1, 1) if your data has a single feature or X.reshape(1, -1) if it contains a single sample.\n",
      "  warnings.warn(DEPRECATION_MSG_1D, DeprecationWarning)\n"
     ]
    },
    {
     "data": {
      "text/html": [
       "<div>\n",
       "<table border=\"1\" class=\"dataframe\">\n",
       "  <thead>\n",
       "    <tr style=\"text-align: right;\">\n",
       "      <th></th>\n",
       "      <th>0</th>\n",
       "    </tr>\n",
       "  </thead>\n",
       "  <tbody>\n",
       "    <tr>\n",
       "      <th>count</th>\n",
       "      <td>9.934000e+04</td>\n",
       "    </tr>\n",
       "    <tr>\n",
       "      <th>mean</th>\n",
       "      <td>-1.466411e-14</td>\n",
       "    </tr>\n",
       "    <tr>\n",
       "      <th>std</th>\n",
       "      <td>1.000005e+00</td>\n",
       "    </tr>\n",
       "    <tr>\n",
       "      <th>min</th>\n",
       "      <td>-2.239301e-01</td>\n",
       "    </tr>\n",
       "    <tr>\n",
       "      <th>25%</th>\n",
       "      <td>-2.239301e-01</td>\n",
       "    </tr>\n",
       "    <tr>\n",
       "      <th>50%</th>\n",
       "      <td>-2.239301e-01</td>\n",
       "    </tr>\n",
       "    <tr>\n",
       "      <th>75%</th>\n",
       "      <td>-1.112213e-01</td>\n",
       "    </tr>\n",
       "    <tr>\n",
       "      <th>max</th>\n",
       "      <td>4.948064e+01</td>\n",
       "    </tr>\n",
       "  </tbody>\n",
       "</table>\n",
       "</div>"
      ],
      "text/plain": [
       "                  0\n",
       "count  9.934000e+04\n",
       "mean  -1.466411e-14\n",
       "std    1.000005e+00\n",
       "min   -2.239301e-01\n",
       "25%   -2.239301e-01\n",
       "50%   -2.239301e-01\n",
       "75%   -1.112213e-01\n",
       "max    4.948064e+01"
      ]
     },
     "execution_count": 166,
     "metadata": {},
     "output_type": "execute_result"
    }
   ],
   "source": [
    "pd.DataFrame(StandardScaler().fit_transform(data2['number_inpatient'])).describe()"
   ]
  },
  {
   "cell_type": "code",
   "execution_count": 168,
   "metadata": {
    "collapsed": true
   },
   "outputs": [],
   "source": [
    "data2['readmitted'] = data2['readmitted'].replace('NO', 0) #Turn readmitted column to a boolean \n",
    "data2['readmitted'] = data2['readmitted'].replace('>30', 1)\n",
    "data2['readmitted'] = data2['readmitted'].replace('<30', 1)"
   ]
  },
  {
   "cell_type": "code",
   "execution_count": 169,
   "metadata": {
    "collapsed": true
   },
   "outputs": [],
   "source": [
    "data3 = data2.sample(frac=1).reset_index(drop=True) #shuffle order of rows"
   ]
  },
  {
   "cell_type": "code",
   "execution_count": 170,
   "metadata": {
    "collapsed": false
   },
   "outputs": [],
   "source": [
    "data3 = data3.drop_duplicates('patient_nbr') #remove duplicate patient records"
   ]
  },
  {
   "cell_type": "code",
   "execution_count": 171,
   "metadata": {
    "collapsed": true
   },
   "outputs": [],
   "source": [
    "data3 = data3.reset_index(drop=True) #reset index"
   ]
  },
  {
   "cell_type": "code",
   "execution_count": 172,
   "metadata": {
    "collapsed": false
   },
   "outputs": [],
   "source": [
    "#Change letters in diagnosis columns to numbers so they can be converted to floats\n",
    "data3['diag_1'] = data3['diag_1'].apply(lambda x: 9999 if x[0][0] == 'V' else x)\n",
    "data3['diag_2'] = data3['diag_2'].apply(lambda x: 9999 if x[0][0] == 'V' else x)\n",
    "data3['diag_3'] = data3['diag_3'].apply(lambda x: 9999 if x[0][0] == 'V' else x)"
   ]
  },
  {
   "cell_type": "code",
   "execution_count": 177,
   "metadata": {
    "collapsed": true
   },
   "outputs": [],
   "source": [
    "data3['diag_1'] = data3['diag_1'].astype(str)\n",
    "data3['diag_3'] = data3['diag_3'].astype(str)\n",
    "data3['diag_2'] = data3['diag_2'].astype(str)"
   ]
  },
  {
   "cell_type": "code",
   "execution_count": 174,
   "metadata": {
    "collapsed": false
   },
   "outputs": [],
   "source": [
    "data3['diag_1'] = data3['diag_1'].apply(lambda x: 9999 if x[0][0] == 'E' else x)"
   ]
  },
  {
   "cell_type": "code",
   "execution_count": 175,
   "metadata": {
    "collapsed": false
   },
   "outputs": [],
   "source": [
    "data3['diag_2'] = data3['diag_2'].apply(lambda x: 9999 if x[0][0] == 'E' else x)\n",
    "data3['diag_3'] = data3['diag_3'].apply(lambda x: 9999 if x[0][0] == 'E' else x)"
   ]
  },
  {
   "cell_type": "code",
   "execution_count": 178,
   "metadata": {
    "collapsed": false
   },
   "outputs": [],
   "source": [
    "data3['diag_2'] = data3['diag_2'].apply(lambda x: 9999 if x[0][0] == '?' else x)\n",
    "data3['diag_3'] = data3['diag_3'].apply(lambda x: 9999 if x[0][0] == '?' else x)"
   ]
  },
  {
   "cell_type": "code",
   "execution_count": 179,
   "metadata": {
    "collapsed": true
   },
   "outputs": [],
   "source": [
    "data3['diag_1'] = data3['diag_1'].replace('?', 9999)\n",
    "data3['diag_2'] = data3['diag_2'].replace('?', 9999)\n",
    "data3['diag_3'] = data3['diag_3'].replace('?', 9999)"
   ]
  },
  {
   "cell_type": "code",
   "execution_count": 180,
   "metadata": {
    "collapsed": false
   },
   "outputs": [],
   "source": [
    "#Convert diagnosis columns to floats\n",
    "data3['diag_1'] = data3['diag_1'].astype(float)"
   ]
  },
  {
   "cell_type": "code",
   "execution_count": 181,
   "metadata": {
    "collapsed": false
   },
   "outputs": [],
   "source": [
    "data3['diag_2'] = data3['diag_2'].astype(float)\n",
    "data3['diag_3'] = data3['diag_3'].astype(float)"
   ]
  },
  {
   "cell_type": "code",
   "execution_count": 182,
   "metadata": {
    "collapsed": false
   },
   "outputs": [],
   "source": [
    "#Decode diagnosis columns\n",
    "data3.loc[(data3['diag_1'] >= 390) & (data3['diag_1'] <=459), 'diag_1'] = 'Circulatory'\n",
    "data3.loc[(data3['diag_1'] >= 460) & (data3['diag_1'] <=519), 'diag_1'] = 'Respiratory'\n",
    "data3.loc[(data3['diag_1'] >= 520) & (data3['diag_1'] <=579), 'diag_1'] = 'Digestive'\n",
    "data3.loc[(data3['diag_1'] >= 800) & (data3['diag_1'] <=999), 'diag_1'] = 'Injury'\n",
    "data3.loc[(data3['diag_1'] >= 710) & (data3['diag_1'] <=739), 'diag_1'] = 'Musculoskeletal'\n",
    "data3.loc[(data3['diag_1'] >= 580) & (data3['diag_1'] <=629), 'diag_1'] = 'Genitourinary'\n",
    "data3.loc[(data3['diag_1'] >= 140) & (data3['diag_1'] <=239), 'diag_1'] = 'Neoplasm'\n",
    "data3.loc[(data3['diag_1'] >= 280) & (data3['diag_1'] <=359), 'diag_1'] = 'Other'\n",
    "data3.loc[(data3['diag_1'] >= 630) & (data3['diag_1'] <=679), 'diag_1'] = 'Other'\n",
    "data3.loc[(data3['diag_1'] >= 360) & (data3['diag_1'] <=389), 'diag_1'] = 'Other'\n",
    "data3.loc[(data3['diag_1'] >= 740) & (data3['diag_1'] <=759), 'diag_1'] = 'Other'\n",
    "data3.loc[(data3['diag_1'] >= 780) & (data3['diag_1'] <=784), 'diag_1'] = 'Other'\n",
    "data3.loc[(data3['diag_1'] >= 1) & (data3['diag_1'] <=139), 'diag_1'] = 'Other'\n",
    "data3.loc[(data3['diag_1'] >= 790) & (data3['diag_1'] <=799), 'diag_1'] = 'Other'\n",
    "data3.loc[(data3['diag_1'] >= 680) & (data3['diag_1'] <=709), 'diag_1'] = 'Other'\n",
    "data3.loc[(data3['diag_1'] >= 240) & (data3['diag_1'] <=249), 'diag_1'] = 'Other'\n",
    "data3.loc[(data3['diag_1'] >= 251) & (data3['diag_1'] <=279), 'diag_1'] = 'Other'\n",
    "data3.loc[(data3['diag_1'] >= 250) & (data3['diag_1'] <=250.99), 'diag_1'] = 'Diabetes'\n",
    "data3['diag_1'] = data3['diag_1'].replace(785, 'Circulatory')\n",
    "data3['diag_1'] = data3['diag_1'].replace(786, 'Respiratory')\n",
    "data3['diag_1'] = data3['diag_1'].replace(787, 'Circulatory')\n",
    "data3['diag_1'] = data3['diag_1'].replace(788, 'Genitourinary')\n",
    "data3['diag_1'] = data3['diag_1'].replace(9999, 'Other')\n",
    "data3['diag_1'] = data3['diag_1'].replace(789, 'Other')\n"
   ]
  },
  {
   "cell_type": "code",
   "execution_count": 183,
   "metadata": {
    "collapsed": true
   },
   "outputs": [],
   "source": [
    "data3.loc[(data3['diag_2'] >= 390) & (data3['diag_2'] <=459), 'diag_2'] = 'Circulatory'\n",
    "data3.loc[(data3['diag_2'] >= 460) & (data3['diag_2'] <=519), 'diag_2'] = 'Respiratory'\n",
    "data3.loc[(data3['diag_2'] >= 520) & (data3['diag_2'] <=579), 'diag_2'] = 'Digestive'\n",
    "data3.loc[(data3['diag_2'] >= 800) & (data3['diag_2'] <=999), 'diag_2'] = 'Injury'\n",
    "data3.loc[(data3['diag_2'] >= 710) & (data3['diag_2'] <=739), 'diag_2'] = 'Musculoskeletal'\n",
    "data3.loc[(data3['diag_2'] >= 580) & (data3['diag_2'] <=629), 'diag_2'] = 'Genitourinary'\n",
    "data3.loc[(data3['diag_2'] >= 140) & (data3['diag_2'] <=239), 'diag_2'] = 'Neoplasm'\n",
    "data3.loc[(data3['diag_2'] >= 280) & (data3['diag_2'] <=359), 'diag_2'] = 'Other'\n",
    "data3.loc[(data3['diag_2'] >= 630) & (data3['diag_2'] <=679), 'diag_2'] = 'Other'\n",
    "data3.loc[(data3['diag_2'] >= 360) & (data3['diag_2'] <=389), 'diag_2'] = 'Other'\n",
    "data3.loc[(data3['diag_2'] >= 740) & (data3['diag_2'] <=759), 'diag_2'] = 'Other'\n",
    "data3.loc[(data3['diag_2'] >= 780) & (data3['diag_2'] <=784), 'diag_2'] = 'Other'\n",
    "data3.loc[(data3['diag_2'] >= 1) & (data3['diag_2'] <=139), 'diag_2'] = 'Other'\n",
    "data3.loc[(data3['diag_2'] >= 790) & (data3['diag_2'] <=799), 'diag_2'] = 'Other'\n",
    "data3.loc[(data3['diag_2'] >= 680) & (data3['diag_2'] <=709), 'diag_2'] = 'Other'\n",
    "data3.loc[(data3['diag_2'] >= 240) & (data3['diag_2'] <=249), 'diag_2'] = 'Other'\n",
    "data3.loc[(data3['diag_2'] >= 251) & (data3['diag_2'] <=279), 'diag_2'] = 'Other'\n",
    "data3.loc[(data3['diag_2'] >= 250) & (data3['diag_2'] <=250.99), 'diag_2'] = 'Diabetes'\n",
    "data3['diag_2'] = data3['diag_2'].replace(785, 'Circulatory')\n",
    "data3['diag_2'] = data3['diag_2'].replace(786, 'Respiratory')\n",
    "data3['diag_2'] = data3['diag_2'].replace(787, 'Circulatory')\n",
    "data3['diag_2'] = data3['diag_2'].replace(788, 'Genitourinary')\n",
    "data3['diag_2'] = data3['diag_2'].replace(9999, 'Other')\n",
    "data3['diag_2'] = data3['diag_2'].replace(789, 'Other')"
   ]
  },
  {
   "cell_type": "code",
   "execution_count": 184,
   "metadata": {
    "collapsed": true
   },
   "outputs": [],
   "source": [
    "data3.loc[(data3['diag_3'] >= 390) & (data3['diag_3'] <=459), 'diag_3'] = 'Circulatory'\n",
    "data3.loc[(data3['diag_3'] >= 460) & (data3['diag_3'] <=519), 'diag_3'] = 'Respiratory'\n",
    "data3.loc[(data3['diag_3'] >= 520) & (data3['diag_3'] <=579), 'diag_3'] = 'Digestive'\n",
    "data3.loc[(data3['diag_3'] >= 800) & (data3['diag_3'] <=999), 'diag_3'] = 'Injury'\n",
    "data3.loc[(data3['diag_3'] >= 710) & (data3['diag_3'] <=739), 'diag_3'] = 'Musculoskeletal'\n",
    "data3.loc[(data3['diag_3'] >= 580) & (data3['diag_3'] <=629), 'diag_3'] = 'Genitourinary'\n",
    "data3.loc[(data3['diag_3'] >= 140) & (data3['diag_3'] <=239), 'diag_3'] = 'Neoplasm'\n",
    "data3.loc[(data3['diag_3'] >= 280) & (data3['diag_3'] <=359), 'diag_3'] = 'Other'\n",
    "data3.loc[(data3['diag_3'] >= 630) & (data3['diag_3'] <=679), 'diag_3'] = 'Other'\n",
    "data3.loc[(data3['diag_3'] >= 360) & (data3['diag_3'] <=389), 'diag_3'] = 'Other'\n",
    "data3.loc[(data3['diag_3'] >= 740) & (data3['diag_3'] <=759), 'diag_3'] = 'Other'\n",
    "data3.loc[(data3['diag_3'] >= 780) & (data3['diag_3'] <=784), 'diag_3'] = 'Other'\n",
    "data3.loc[(data3['diag_3'] >= 1) & (data3['diag_3'] <=139), 'diag_3'] = 'Other'\n",
    "data3.loc[(data3['diag_3'] >= 790) & (data3['diag_3'] <=799), 'diag_3'] = 'Other'\n",
    "data3.loc[(data3['diag_3'] >= 680) & (data3['diag_3'] <=709), 'diag_3'] = 'Other'\n",
    "data3.loc[(data3['diag_3'] >= 240) & (data3['diag_3'] <=249), 'diag_3'] = 'Other'\n",
    "data3.loc[(data3['diag_3'] >= 251) & (data3['diag_3'] <=279), 'diag_3'] = 'Other'\n",
    "data3.loc[(data3['diag_3'] >= 250) & (data3['diag_3'] <=250.99), 'diag_3'] = 'Diabetes'\n",
    "data3['diag_3'] = data3['diag_3'].replace(785, 'Circulatory')\n",
    "data3['diag_3'] = data3['diag_3'].replace(786, 'Respiratory')\n",
    "data3['diag_3'] = data3['diag_3'].replace(787, 'Circulatory')\n",
    "data3['diag_3'] = data3['diag_3'].replace(788, 'Genitourinary')\n",
    "data3['diag_3'] = data3['diag_3'].replace(9999, 'Other')\n",
    "data3['diag_3'] = data3['diag_3'].replace(789, 'Other')"
   ]
  },
  {
   "cell_type": "code",
   "execution_count": 185,
   "metadata": {
    "collapsed": false
   },
   "outputs": [
    {
     "name": "stdout",
     "output_type": "stream",
     "text": [
      "Circulatory        21306\n",
      "Other              12382\n",
      "Respiratory         9505\n",
      "Digestive           6356\n",
      "Diabetes            5654\n",
      "Injury              4803\n",
      "Musculoskeletal     3984\n",
      "Genitourinary       3497\n",
      "Neoplasm            2500\n",
      "Name: diag_1, dtype: int64\n",
      "Circulatory        22180\n",
      "Other              18498\n",
      "Diabetes            9391\n",
      "Respiratory         7001\n",
      "Genitourinary       5440\n",
      "Digestive           2694\n",
      "Injury              1826\n",
      "Neoplasm            1649\n",
      "Musculoskeletal     1308\n",
      "Name: diag_2, dtype: int64\n",
      "Other              21225\n",
      "Circulatory        21101\n",
      "Diabetes           12429\n",
      "Respiratory         4684\n",
      "Genitourinary       4148\n",
      "Digestive           2401\n",
      "Injury              1415\n",
      "Musculoskeletal     1378\n",
      "Neoplasm            1206\n",
      "Name: diag_3, dtype: int64\n"
     ]
    }
   ],
   "source": [
    "print data3['diag_1'].value_counts()\n",
    "print data3['diag_2'].value_counts()\n",
    "print data3['diag_3'].value_counts()"
   ]
  },
  {
   "cell_type": "code",
   "execution_count": 186,
   "metadata": {
    "collapsed": false
   },
   "outputs": [],
   "source": [
    "#Get dummy variables for all three diagnosis columns\n",
    "data3 = pd.get_dummies(data3, columns=['diag_1']).drop('diag_1_Other', axis=1)\n",
    "data3 = pd.get_dummies(data3, columns=['diag_2']).drop('diag_2_Other', axis=1)\n",
    "data3 = pd.get_dummies(data3, columns=['diag_3']).drop('diag_3_Other', axis=1)"
   ]
  },
  {
   "cell_type": "code",
   "execution_count": 190,
   "metadata": {
    "collapsed": false
   },
   "outputs": [
    {
     "data": {
      "text/plain": [
       "Emergency        35799\n",
       "Elective         13795\n",
       "Urgent           12800\n",
       "NotMapped         7567\n",
       "Trauma Center       18\n",
       "Newborn              8\n",
       "Name: admission_type_id, dtype: int64"
      ]
     },
     "execution_count": 190,
     "metadata": {},
     "output_type": "execute_result"
    }
   ],
   "source": [
    "data3['admission_type_id'].value_counts()"
   ]
  },
  {
   "cell_type": "code",
   "execution_count": 188,
   "metadata": {
    "collapsed": true
   },
   "outputs": [],
   "source": [
    "#Combine all admission type IDs that are 'not available'\n",
    "data3['admission_type_id'] = data3['admission_type_id'].replace(5, 8)\n",
    "data3['admission_type_id'] = data3['admission_type_id'].replace(6, 8)"
   ]
  },
  {
   "cell_type": "code",
   "execution_count": 189,
   "metadata": {
    "collapsed": true
   },
   "outputs": [],
   "source": [
    "#Decode admission type ids\n",
    "data3['admission_type_id'] = data3['admission_type_id'].replace(1, 'Emergency')\n",
    "data3['admission_type_id'] = data3['admission_type_id'].replace(2, 'Urgent')\n",
    "data3['admission_type_id'] = data3['admission_type_id'].replace(3, 'Elective')\n",
    "data3['admission_type_id'] = data3['admission_type_id'].replace(4, 'Newborn')\n",
    "data3['admission_type_id'] = data3['admission_type_id'].replace(7, 'Trauma Center')\n",
    "data3['admission_type_id'] = data3['admission_type_id'].replace(8, 'NotMapped')"
   ]
  },
  {
   "cell_type": "code",
   "execution_count": 191,
   "metadata": {
    "collapsed": false
   },
   "outputs": [],
   "source": [
    "#Get dummy variables for Admission Type ID drop 'Not Mapped'\n",
    "data3 = pd.get_dummies(data3, columns=['admission_type_id']).drop('admission_type_id_NotMapped', axis=1)"
   ]
  },
  {
   "cell_type": "code",
   "execution_count": 194,
   "metadata": {
    "collapsed": false
   },
   "outputs": [
    {
     "data": {
      "text/plain": [
       "Unknown                   33647\n",
       "InternalMedicine          10701\n",
       "Family/GeneralPractice     5116\n",
       "Emergency/Trauma           4448\n",
       "Cardiology                 4183\n",
       "Surgery                    3802\n",
       "Orthopedics                2110\n",
       "Other                      1188\n",
       "Nephrology                  808\n",
       "OB/GYN                      684\n",
       "Psychiatry                  680\n",
       "Pulmonology                 645\n",
       "Urology                     516\n",
       "Gastroenterology            376\n",
       "Cancer                      354\n",
       "Endocrinology               244\n",
       "Neurology                   176\n",
       "Otolaryngology              112\n",
       "Podiatry                     60\n",
       "InfectiousDiseases           42\n",
       "Osteopath                    38\n",
       "Ophthalmology                34\n",
       "Rheumatology                 14\n",
       "AllergyandImmunology          7\n",
       "Neurophysiology               1\n",
       "Proctology                    1\n",
       "Name: medical_specialty, dtype: int64"
      ]
     },
     "execution_count": 194,
     "metadata": {},
     "output_type": "execute_result"
    }
   ],
   "source": [
    "data3['medical_specialty'].value_counts()"
   ]
  },
  {
   "cell_type": "code",
   "execution_count": 193,
   "metadata": {
    "collapsed": true
   },
   "outputs": [],
   "source": [
    "#Clean and combine Medical Speciality fields\n",
    "data3['medical_specialty'] = data3['medical_specialty'].replace('Surgery-General', 'Surgery')\n",
    "data3['medical_specialty'] = data3['medical_specialty'].replace('Surgery-Cardiovascular/Thoracic', 'Surgery')\n",
    "data3['medical_specialty'] = data3['medical_specialty'].replace('Surgery-Vascular', 'Surgery')\n",
    "data3['medical_specialty'] = data3['medical_specialty'].replace('Surgery-Neuro', 'Surgery')\n",
    "data3['medical_specialty'] = data3['medical_specialty'].replace('Surgery-Thoracic', 'Surgery')\n",
    "data3['medical_specialty'] = data3['medical_specialty'].replace('Surgery-Cardiovascular', 'Surgery')\n",
    "data3['medical_specialty'] = data3['medical_specialty'].replace('SurgicalSpecialty', 'Surgery')\n",
    "data3['medical_specialty'] = data3['medical_specialty'].replace('Surgery-Colon&Rectal', 'Surgery')\n",
    "data3['medical_specialty'] = data3['medical_specialty'].replace('Surgery-Pediatric', 'Surgery')\n",
    "data3['medical_specialty'] = data3['medical_specialty'].replace('Surgery-Maxillofacial', 'Surgery')\n",
    "data3['medical_specialty'] = data3['medical_specialty'].replace('Surgeon', 'Surgery')\n",
    "data3['medical_specialty'] = data3['medical_specialty'].replace('Surgery-Plastic', 'Surgery')\n",
    "data3['medical_specialty'] = data3['medical_specialty'].replace('Surgery-PlasticwithinHeadandNeck', 'Surgery')\n",
    "\n",
    "data3['medical_specialty'] = data3['medical_specialty'].replace('ObstetricsandGynecology', 'OB/GYN')\n",
    "data3['medical_specialty'] = data3['medical_specialty'].replace('Obsterics&Gynecology-GynecologicOnco', 'OB/GYN')\n",
    "data3['medical_specialty'] = data3['medical_specialty'].replace('Obstetrics', 'OB/GYN')\n",
    "data3['medical_specialty'] = data3['medical_specialty'].replace('Gynecology', 'OB/GYN')\n",
    "data3['medical_specialty'] = data3['medical_specialty'].replace('Perinatology', 'OB/GYN')\n",
    "\n",
    "data3['medical_specialty'] = data3['medical_specialty'].replace('?', 'Unknown')\n",
    "data3['medical_specialty'] = data3['medical_specialty'].replace('PhysicianNotFound', 'Unknown')\n",
    "\n",
    "data3['medical_specialty'] = data3['medical_specialty'].replace('PhysicalMedicineandRehabilitation', 'Other')\n",
    "data3['medical_specialty'] = data3['medical_specialty'].replace('OutreachServices', 'Other')\n",
    "data3['medical_specialty'] = data3['medical_specialty'].replace('Dentistry', 'Other')\n",
    "data3['medical_specialty'] = data3['medical_specialty'].replace('Speech', 'Other')\n",
    "data3['medical_specialty'] = data3['medical_specialty'].replace('Resident', 'Other')\n",
    "data3['medical_specialty'] = data3['medical_specialty'].replace('Hospitalist', 'Other')\n",
    "data3['medical_specialty'] = data3['medical_specialty'].replace('Anesthesiology', 'Other')\n",
    "data3['medical_specialty'] = data3['medical_specialty'].replace('DCPTEAM', 'Other')\n",
    "data3['medical_specialty'] = data3['medical_specialty'].replace('Radiologist', 'Other')\n",
    "data3['medical_specialty'] = data3['medical_specialty'].replace('Radiology', 'Other')\n",
    "data3['medical_specialty'] = data3['medical_specialty'].replace('Anesthesiology-Pediatric', 'Other')\n",
    "\n",
    "data3['medical_specialty'] = data3['medical_specialty'].replace('Psychiatry', 'Psychiatry')\n",
    "data3['medical_specialty'] = data3['medical_specialty'].replace('Psychology', 'Psychiatry')\n",
    "data3['medical_specialty'] = data3['medical_specialty'].replace('Psychiatry-Child/Adolescent', 'Psychiatry')\n",
    "data3['medical_specialty'] = data3['medical_specialty'].replace('Psychiatry-Addictive', 'Psychiatry')\n",
    "\n",
    "data3['medical_specialty'] = data3['medical_specialty'].replace('Oncology', 'Cancer')\n",
    "data3['medical_specialty'] = data3['medical_specialty'].replace('Hematology/Oncology', 'Cancer')\n",
    "data3['medical_specialty'] = data3['medical_specialty'].replace('Hematology', 'Cancer')\n",
    "data3['medical_specialty'] = data3['medical_specialty'].replace('Pediatrics-Hematology-Oncology', 'Cancer')\n",
    "\n",
    "data3['medical_specialty'] = data3['medical_specialty'].replace('Orthopedics-Reconstructive', 'Orthopedics')\n",
    "\n",
    "data3['medical_specialty'] = data3['medical_specialty'].replace('Pediatrics-EmergencyMedicine', 'Emergency/Trauma')\n",
    "data3['medical_specialty'] = data3['medical_specialty'].replace('Pediatrics-CriticalCare', 'Emergency/Trauma')\n",
    "\n",
    "data3['medical_specialty'] = data3['medical_specialty'].replace('Pediatrics-Endocrinology', 'Endocrinology')\n",
    "\n",
    "data3['medical_specialty'] = data3['medical_specialty'].replace('Cardiology-Pediatric', 'Cardiology')\n",
    "\n",
    "data3['medical_specialty'] = data3['medical_specialty'].replace('Pediatrics-AllergyandImmunology', 'AllergyandImmunology')\n",
    "\n",
    "data3['medical_specialty'] = data3['medical_specialty'].replace('Pediatrics', 'Family/GeneralPractice')\n",
    "\n",
    "data3['medical_specialty'] = data3['medical_specialty'].replace('Pediatrics-Pulmonology', 'Pulmonology')\n",
    "\n",
    "data3['medical_specialty'] = data3['medical_specialty'].replace('Endocrinology-Metabolism', 'Endocrinology')\n",
    "\n",
    "data3['medical_specialty'] = data3['medical_specialty'].replace('Pediatrics-Neurology', 'Neurology')\n",
    "\n",
    "data3['medical_specialty'] = data3['medical_specialty'].replace('Pathology', 'InfectiousDiseases')\n",
    "data3['medical_specialty'] = data3['medical_specialty'].replace('Pediatrics-InfectiousDiseases', 'InfectiousDiseases')"
   ]
  },
  {
   "cell_type": "code",
   "execution_count": 195,
   "metadata": {
    "collapsed": true
   },
   "outputs": [],
   "source": [
    "#Get dummy variables for Medical Speciality drop 'Proctology'\n",
    "data3 = pd.get_dummies(data3, columns=['medical_specialty']).drop('medical_specialty_Proctology', axis=1)"
   ]
  },
  {
   "cell_type": "code",
   "execution_count": 196,
   "metadata": {
    "collapsed": false
   },
   "outputs": [],
   "source": [
    "#Drop encourter ID from data set\n",
    "data3 = data3.drop('encounter_id', axis=1)"
   ]
  },
  {
   "cell_type": "code",
   "execution_count": 199,
   "metadata": {
    "collapsed": false
   },
   "outputs": [
    {
     "data": {
      "text/plain": [
       "Home                           52586\n",
       "Other facility                 11951\n",
       "Unknown                         3109\n",
       "Hospital                        1909\n",
       "Left against Medical Advice      416\n",
       "outpatient services               16\n",
       "Name: discharge_disposition_id, dtype: int64"
      ]
     },
     "execution_count": 199,
     "metadata": {},
     "output_type": "execute_result"
    }
   ],
   "source": [
    "data3['discharge_disposition_id'].value_counts()"
   ]
  },
  {
   "cell_type": "code",
   "execution_count": 198,
   "metadata": {
    "collapsed": true
   },
   "outputs": [],
   "source": [
    "#Decode and clean up Discharge ID column\n",
    "data3['discharge_disposition_id'] = data3['discharge_disposition_id'].replace(16, 'outpatient services')\n",
    "data3['discharge_disposition_id'] = data3['discharge_disposition_id'].replace(17, 'outpatient services')\n",
    "data3['discharge_disposition_id'] = data3['discharge_disposition_id'].replace(12, 'outpatient services')\n",
    "\n",
    "data3['discharge_disposition_id'] = data3['discharge_disposition_id'].replace(25, 'Unknown')\n",
    "data3['discharge_disposition_id'] = data3['discharge_disposition_id'].replace(26, 'Unknown')\n",
    "data3['discharge_disposition_id'] = data3['discharge_disposition_id'].replace(18, 'Unknown')\n",
    "\n",
    "data3['discharge_disposition_id'] = data3['discharge_disposition_id'].replace(2, 'Hospital')\n",
    "data3['discharge_disposition_id'] = data3['discharge_disposition_id'].replace(9, 'Hospital')\n",
    "data3['discharge_disposition_id'] = data3['discharge_disposition_id'].replace(10, 'Hospital')\n",
    "data3['discharge_disposition_id'] = data3['discharge_disposition_id'].replace(23, 'Hospital')\n",
    "data3['discharge_disposition_id'] = data3['discharge_disposition_id'].replace(28, 'Hospital')\n",
    "data3['discharge_disposition_id'] = data3['discharge_disposition_id'].replace(29, 'Hospital')\n",
    "data3['discharge_disposition_id'] = data3['discharge_disposition_id'].replace(15, 'Hospital')\n",
    "\n",
    "data3['discharge_disposition_id'] = data3['discharge_disposition_id'].replace(1, 'Home')\n",
    "data3['discharge_disposition_id'] = data3['discharge_disposition_id'].replace(6, 'Home')\n",
    "data3['discharge_disposition_id'] = data3['discharge_disposition_id'].replace(8, 'Home')\n",
    "\n",
    "data3['discharge_disposition_id'] = data3['discharge_disposition_id'].replace(7, 'Left against Medical Advice')\n",
    "\n",
    "data3['discharge_disposition_id'] = data3['discharge_disposition_id'].replace(3, 'Other facility')\n",
    "data3['discharge_disposition_id'] = data3['discharge_disposition_id'].replace(4, 'Other facility')\n",
    "data3['discharge_disposition_id'] = data3['discharge_disposition_id'].replace(5, 'Other facility')\n",
    "data3['discharge_disposition_id'] = data3['discharge_disposition_id'].replace(22, 'Other facility')\n",
    "data3['discharge_disposition_id'] = data3['discharge_disposition_id'].replace(24, 'Other facility')\n",
    "data3['discharge_disposition_id'] = data3['discharge_disposition_id'].replace(27, 'Other facility')\n"
   ]
  },
  {
   "cell_type": "code",
   "execution_count": 200,
   "metadata": {
    "collapsed": false
   },
   "outputs": [
    {
     "data": {
      "text/plain": [
       "0    45921\n",
       "1    24066\n",
       "Name: readmitted, dtype: int64"
      ]
     },
     "execution_count": 200,
     "metadata": {},
     "output_type": "execute_result"
    }
   ],
   "source": [
    "data3.readmitted.value_counts()"
   ]
  },
  {
   "cell_type": "code",
   "execution_count": 201,
   "metadata": {
    "collapsed": true
   },
   "outputs": [],
   "source": [
    "#Get dummy variables for Discharge ID drop 'Outpatient Services'\n",
    "data3 = pd.get_dummies(data3, columns=['discharge_disposition_id']).drop('discharge_disposition_id_outpatient services', axis=1)"
   ]
  },
  {
   "cell_type": "code",
   "execution_count": 205,
   "metadata": {
    "collapsed": false
   },
   "outputs": [
    {
     "data": {
      "text/plain": [
       "Emergency Room     37509\n",
       "Doctor Referral    22493\n",
       "Unknown             5028\n",
       "Transfer            4942\n",
       "Other                 10\n",
       "Recent birth           5\n",
       "Name: admission_source_id, dtype: int64"
      ]
     },
     "execution_count": 205,
     "metadata": {},
     "output_type": "execute_result"
    }
   ],
   "source": [
    "data3['admission_source_id'].value_counts()"
   ]
  },
  {
   "cell_type": "code",
   "execution_count": 204,
   "metadata": {
    "collapsed": true
   },
   "outputs": [],
   "source": [
    "data3['admission_source_id'] = data3['admission_source_id'].replace(9, 'Unknown')\n",
    "data3['admission_source_id'] = data3['admission_source_id'].replace(15, 'Unknown')\n",
    "data3['admission_source_id'] = data3['admission_source_id'].replace(17, 'Unknown')\n",
    "data3['admission_source_id'] = data3['admission_source_id'].replace(20, 'Unknown')\n",
    "data3['admission_source_id'] = data3['admission_source_id'].replace(21, 'Unknown')\n",
    "\n",
    "data3['admission_source_id'] = data3['admission_source_id'].replace(11, 'Recent birth')\n",
    "data3['admission_source_id'] = data3['admission_source_id'].replace(12, 'Recent birth')\n",
    "data3['admission_source_id'] = data3['admission_source_id'].replace(13, 'Recent birth')\n",
    "data3['admission_source_id'] = data3['admission_source_id'].replace(14, 'Recent birth')\n",
    "\n",
    "data3['admission_source_id'] = data3['admission_source_id'].replace(1, 'Doctor Referral')\n",
    "data3['admission_source_id'] = data3['admission_source_id'].replace(2, 'Doctor Referral')\n",
    "data3['admission_source_id'] = data3['admission_source_id'].replace(3, 'Doctor Referral')\n",
    "\n",
    "data3['admission_source_id'] = data3['admission_source_id'].replace(7, 'Emergency Room')\n",
    "\n",
    "data3['admission_source_id'] = data3['admission_source_id'].replace(4, 'Transfer')\n",
    "data3['admission_source_id'] = data3['admission_source_id'].replace(5, 'Transfer')\n",
    "data3['admission_source_id'] = data3['admission_source_id'].replace(6, 'Transfer')\n",
    "data3['admission_source_id'] = data3['admission_source_id'].replace(10, 'Transfer')\n",
    "data3['admission_source_id'] = data3['admission_source_id'].replace(18, 'Transfer')\n",
    "data3['admission_source_id'] = data3['admission_source_id'].replace(19, 'Transfer')\n",
    "data3['admission_source_id'] = data3['admission_source_id'].replace(22, 'Transfer')\n",
    "data3['admission_source_id'] = data3['admission_source_id'].replace(25, 'Transfer')\n",
    "data3['admission_source_id'] = data3['admission_source_id'].replace(26, 'Transfer')\n",
    "\n",
    "data3['admission_source_id'] = data3['admission_source_id'].replace(8, 'Other')"
   ]
  },
  {
   "cell_type": "code",
   "execution_count": 206,
   "metadata": {
    "collapsed": false
   },
   "outputs": [
    {
     "data": {
      "text/plain": [
       "Emergency Room     37509\n",
       "Doctor Referral    22493\n",
       "Unknown             5028\n",
       "Transfer            4942\n",
       "Other                 10\n",
       "Recent birth           5\n",
       "Name: admission_source_id, dtype: int64"
      ]
     },
     "execution_count": 206,
     "metadata": {},
     "output_type": "execute_result"
    }
   ],
   "source": [
    "data3['admission_source_id'].value_counts()"
   ]
  },
  {
   "cell_type": "code",
   "execution_count": 207,
   "metadata": {
    "collapsed": true
   },
   "outputs": [],
   "source": [
    "#Get dummy variables for Admission Source ID drop 'Other'\n",
    "data3 = pd.get_dummies(data3, columns=['admission_source_id']).drop('admission_source_id_Other', axis=1)\n"
   ]
  },
  {
   "cell_type": "code",
   "execution_count": 210,
   "metadata": {
    "collapsed": false
   },
   "outputs": [],
   "source": [
    "#Get dummy variables for 'max_glu_serum'\n",
    "data3 = pd.get_dummies(data3, columns=['max_glu_serum'])"
   ]
  },
  {
   "cell_type": "code",
   "execution_count": 211,
   "metadata": {
    "collapsed": false
   },
   "outputs": [],
   "source": [
    "#Get Dummy variables\n",
    "data3 = pd.get_dummies(data3, columns=['A1Cresult'])\n",
    "data3 = pd.get_dummies(data3, columns=['metformin'])\n",
    "data3 = pd.get_dummies(data3, columns=['repaglinide'])\n",
    "data3 = pd.get_dummies(data3, columns=['nateglinide'])\n",
    "data3 = pd.get_dummies(data3, columns=['glimepiride'])"
   ]
  },
  {
   "cell_type": "code",
   "execution_count": 212,
   "metadata": {
    "collapsed": false
   },
   "outputs": [],
   "source": [
    "#Get Dummy variables\n",
    "data3 = pd.get_dummies(data3, columns=['glipizide'])\n",
    "data3 = pd.get_dummies(data3, columns=['glyburide'])\n",
    "data3 = pd.get_dummies(data3, columns=['pioglitazone'])\n",
    "data3 = pd.get_dummies(data3, columns=['rosiglitazone'])\n",
    "data3 = pd.get_dummies(data3, columns=['insulin'])\n",
    "data3 = pd.get_dummies(data3, columns=['glyburide-metformin'])"
   ]
  },
  {
   "cell_type": "code",
   "execution_count": 213,
   "metadata": {
    "collapsed": false
   },
   "outputs": [
    {
     "data": {
      "text/plain": [
       "Index([u'patient_nbr', u'gender', u'time_in_hospital', u'num_lab_procedures',\n",
       "       u'num_procedures', u'num_medications', u'number_outpatient',\n",
       "       u'number_emergency', u'number_inpatient', u'number_diagnoses',\n",
       "       ...\n",
       "       u'rosiglitazone_Steady', u'rosiglitazone_Up', u'insulin_Down',\n",
       "       u'insulin_No', u'insulin_Steady', u'insulin_Up',\n",
       "       u'glyburide-metformin_Down', u'glyburide-metformin_No',\n",
       "       u'glyburide-metformin_Steady', u'glyburide-metformin_Up'],\n",
       "      dtype='object', length=139)"
      ]
     },
     "execution_count": 213,
     "metadata": {},
     "output_type": "execute_result"
    }
   ],
   "source": [
    "data3.columns"
   ]
  },
  {
   "cell_type": "code",
   "execution_count": 214,
   "metadata": {
    "collapsed": true
   },
   "outputs": [],
   "source": [
    "#Save Data3\n",
    "with open('data4.pkl', 'w') as picklefile:\n",
    "    pickle.dump(data3, picklefile)"
   ]
  },
  {
   "cell_type": "markdown",
   "metadata": {},
   "source": [
    "Column Status:\n",
    "\n",
    "**patient_nbr - removed duplicates**\n",
    "\n",
    "**gender - Male 0, Female 1, removed Other/Unknown**\n",
    "\n",
    "**admission_type_id - Dummy variable created, removed Not Mapped**\n",
    "\n",
    "**discharge_disposition_id - cleaned with Dummy variables created, remove Outpatient Services**\n",
    "\n",
    "**admission_source_id - cleaned with Dummy variables created, remove Other**\n",
    "\n",
    "**time_in_hospital - normalized**\n",
    "\n",
    "**medical_specialty - cleaned with Dummy variables created, removed Proctology**\n",
    "\n",
    "**num_lab_procedures - normalized**\n",
    "\n",
    "**num_procedures - normalized**\n",
    "\n",
    "**num_medications - normalized**\n",
    "\n",
    "**number_outpatient - normalized**\n",
    "\n",
    "**number_emergency - normailzed**\n",
    "\n",
    "**number_inpatient - normalized**\n",
    "\n",
    "**diag_1 - Dummy variable created, removed Other**\n",
    "\n",
    "**diag_2 - Dummy variable created, removed Other**\n",
    "\n",
    "**diag_3 - Dummy variable created, removed Other**\n",
    "\n",
    "**number_diagnoses - normalized**\n",
    "\n",
    "**max_glu_serum  - Dummy variable created**\n",
    "\n",
    "**A1Cresult  - Dummy variable created**\n",
    "\n",
    "**metformin  - Dummy variable created**\n",
    "\n",
    "**repaglinide  - Dummy variable created**\n",
    "\n",
    "**nateglinide  - Dummy variable created**\n",
    "\n",
    "**glimepiride  - Dummy variable created**\n",
    "\n",
    "**glipizide  - Dummy variable created**\n",
    "\n",
    "**glyburide  - Dummy variable created**\n",
    "\n",
    "**pioglitazone  - Dummy variable created**\n",
    "\n",
    "**rosiglitazone  - Dummy variable created**\n",
    "\n",
    "**insulin  - Dummy variable created**\n",
    "\n",
    "**glyburide-metformin  - Dummy variable created**\n",
    "\n",
    "**change - No 0, Change 1**\n",
    "\n",
    "**diabetesMed - No 0, Yes 1**\n",
    "\n",
    "**readmitted - changed to boolean with No 0, Yes 1**\n",
    "\n",
    "**race_AfricanAmerican race_Asian race_Caucasian race_Hispanic race_Other - Dummy variable created, removed ?**\n",
    "\n",
    "**age_[10-20) age_[20-30) age_[30-40) age_[40-50) age_[50-60) age_[60-70) age_[70-80) age_[80-90) age_[90-100) - Dummy variable created, removed [0-10)**"
   ]
  }
 ],
 "metadata": {
  "anaconda-cloud": {},
  "kernelspec": {
   "display_name": "Python [default]",
   "language": "python",
   "name": "python2"
  },
  "language_info": {
   "codemirror_mode": {
    "name": "ipython",
    "version": 2
   },
   "file_extension": ".py",
   "mimetype": "text/x-python",
   "name": "python",
   "nbconvert_exporter": "python",
   "pygments_lexer": "ipython2",
   "version": "2.7.12"
  }
 },
 "nbformat": 4,
 "nbformat_minor": 1
}
