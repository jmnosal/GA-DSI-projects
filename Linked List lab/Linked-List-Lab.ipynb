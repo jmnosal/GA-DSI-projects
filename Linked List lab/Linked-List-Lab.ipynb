{
 "cells": [
  {
   "cell_type": "markdown",
   "metadata": {},
   "source": [
    "## Linked List Lab\n",
    "\n",
    "A linked list is a data structre frequently used in computer science and is part of a standard set of interview questions. Other common data structred are hash tables and trees which we will cover later in the course.\n",
    "\n",
    "![](assets/linked_list.png)\n",
    "\n",
    "A linked list starts with an entry point which is called a node. Each node has two attributes namely a value and a pointer to another node. In this lab we will create two classes. A class Node and a class Linked List to wrap the linked nodes.\n",
    "\n",
    "1. Create a class for Linked List that initializes a linked list and returns a pointer to the head of the linked list. \n",
    "2. Create a function (inside Linked List) that appends an element to the end of the linked list\n",
    "3. Create a function that pops an element from the end of the list\n",
    "4. Use \\__repr\\__ to print out the elements of the linked list\n",
    "5. Create a function that adds an element to the beginning of the list\n",
    "6. Create a function that delets the first element from the linked list\n",
    "\n",
    "\n",
    "**Bonus:**\n",
    "\n",
    "Create a circular linked list allowing you to access the linked list from the beginning and the end. Implement the functions above for the circular list. How can you increase the efficiency of the algorithm for inserting and deleting?"
   ]
  },
  {
   "cell_type": "code",
   "execution_count": 88,
   "metadata": {
    "collapsed": false
   },
   "outputs": [],
   "source": [
    "class Node:\n",
    "    def __init__(self):\n",
    "        #Create node\n",
    "        self.value = None\n",
    "        self.pointer = None\n",
    "\n",
    "class LL:\n",
    "    def __init__(self):\n",
    "        #Create linked list with a blank 'current node'\n",
    "        self.current_node = Node\n",
    "     \n",
    "    def Create(self, value):\n",
    "        self.new_node = Node() #create new node\n",
    "        self.new_node.value = value #assign its value\n",
    "        self.current_node.pointer = value #assign the imputted value to the previous nodes pointer\n",
    "        print self.current_node.pointer \n",
    "\n",
    "        self.current_node = self.new_node #make the new node the current node\n",
    "        print self.current_node.value, self.current_node.pointer\n",
    "        \n",
    "     \n",
    "        \n",
    "\n",
    "        \n",
    "        \n",
    "        "
   ]
  },
  {
   "cell_type": "code",
   "execution_count": 89,
   "metadata": {
    "collapsed": false
   },
   "outputs": [
    {
     "name": "stdout",
     "output_type": "stream",
     "text": [
      "20\n",
      "20 None\n",
      "3\n",
      "3 None\n",
      "222\n",
      "222 None\n"
     ]
    }
   ],
   "source": [
    "newList = LL()\n",
    "newList.Create(20)\n",
    "newList.Create(3)\n",
    "newList.Create(222)\n"
   ]
  },
  {
   "cell_type": "code",
   "execution_count": 90,
   "metadata": {
    "collapsed": false
   },
   "outputs": [
    {
     "data": {
      "text/plain": [
       "'Apologies for not getting anywhere with this. I am going to spend some time tonight (Monday) to hopefully get a little farther with this and then shift focus to the project. No excuse other than letting the weekend slip away.'"
      ]
     },
     "execution_count": 90,
     "metadata": {},
     "output_type": "execute_result"
    }
   ],
   "source": [
    "'''Apologies for not getting anywhere with this. I am going to spend some time tonight (Monday) to hopefully get a little farther with this and then shift focus to the project. No excuse other than letting the weekend slip away.'''"
   ]
  },
  {
   "cell_type": "code",
   "execution_count": null,
   "metadata": {
    "collapsed": true
   },
   "outputs": [],
   "source": []
  }
 ],
 "metadata": {
  "anaconda-cloud": {},
  "kernelspec": {
   "display_name": "Python [conda root]",
   "language": "python",
   "name": "conda-root-py"
  },
  "language_info": {
   "codemirror_mode": {
    "name": "ipython",
    "version": 2
   },
   "file_extension": ".py",
   "mimetype": "text/x-python",
   "name": "python",
   "nbconvert_exporter": "python",
   "pygments_lexer": "ipython2",
   "version": "2.7.12"
  }
 },
 "nbformat": 4,
 "nbformat_minor": 1
}
