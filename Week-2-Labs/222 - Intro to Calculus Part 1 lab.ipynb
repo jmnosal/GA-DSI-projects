{
 "cells": [
  {
   "cell_type": "markdown",
   "metadata": {},
   "source": [
    "*** Exercise 1: ***\n",
    "Calculate the following expressions\n",
    "1. $$\\int_{[-5,5)}d\\lambda(x) \\, Exp(0.5*(x-2)^2)$$\n",
    "2. $$\\int_{\\mathbb{R}}d\\lambda(x) \\, x^2 * Exp(-0.8*(x+2)^2) = \\int_{-\\infty}^{\\infty} x^2 * Exp(-0.8*(x+2)^2) $$ Tip: numpy has an object called numpy.infinity.\n",
    "3. $$\\int_{-5}^{5}d\\lambda(y)\\int_{-5}^{y} d\\lambda(x) F_2(x)*F_1(x)$$\n",
    "\n",
    "**$\\lambda$ is the measure that measures the length of an intervall as defined in the slides.**"
   ]
  },
  {
   "cell_type": "code",
   "execution_count": 17,
   "metadata": {
    "collapsed": false
   },
   "outputs": [
    {
     "name": "stdout",
     "output_type": "stream",
     "text": [
      "(6375084718.191523, 0.00010487672130921055)\n"
     ]
    },
    {
     "data": {
      "image/png": "[encoded data removed]",
      "text/plain": [
       "<matplotlib.figure.Figure at 0x10d6f7bd0>"
      ]
     },
     "metadata": {},
     "output_type": "display_data"
    }
   ],
   "source": [
    "import numpy as np\n",
    "from matplotlib import pyplot as plt\n",
    "from scipy import integrate\n",
    "%matplotlib inline\n",
    "\n",
    "X = np.arange(-5,5,0.01)\n",
    "FX = lambda x: np.exp(0.5*((x-2)**2))\n",
    "print integrate.quad(FX, -5,5)\n",
    "\n",
    "fig = plt.figure(figsize=(4,4))\n",
    "plt.plot(X, FX(X))\n",
    "plt.xlabel('x')\n",
    "plt.ylabel('F(x)')\n",
    "\n",
    "plt.show()\n",
    "\n"
   ]
  },
  {
   "cell_type": "code",
   "execution_count": 19,
   "metadata": {
    "collapsed": false
   },
   "outputs": [
    {
     "name": "stdout",
     "output_type": "stream",
     "text": [
      "(9.165194375713822, 2.7579672787274257e-08)\n"
     ]
    },
    {
     "data": {
      "image/png": "[encoded data removed]",
      "text/plain": [
       "<matplotlib.figure.Figure at 0x10c8512d0>"
      ]
     },
     "metadata": {},
     "output_type": "display_data"
    }
   ],
   "source": [
    "FX2 = lambda x: (x**2)*np.exp(-0.8*(x+2)**2)\n",
    "print integrate.quad(FX2, -np.inf, np.inf)\n",
    "\n",
    "X = np.arange(-5,5,0.01)\n",
    "\n",
    "fig = plt.figure(figsize=(4,4))\n",
    "plt.plot(X, FX2(X))\n",
    "plt.xlabel('x')\n",
    "plt.ylabel('FX2(x)')\n",
    "\n",
    "plt.show()"
   ]
  },
  {
   "cell_type": "code",
   "execution_count": 22,
   "metadata": {
    "collapsed": false
   },
   "outputs": [
    {
     "name": "stdout",
     "output_type": "stream",
     "text": [
      "(2787199858.122095, 0.005377744907036686)\n"
     ]
    }
   ],
   "source": [
    "FX3 = lambda y: integrate.quad(lambda x: FX(x)*FX2(x), -5, y)[0]\n",
    "X = np.arange(-5,5,0.01)\n",
    "print integrate.quad(FX3,-5,5)"
   ]
  },
  {
   "cell_type": "markdown",
   "metadata": {},
   "source": [
    "**Exercise 2 (bonus):**\n",
    "\n",
    "Let's define the following measure on $\\mathbb{P}(\\mathbb{R})$ with a function $f:\\mathbb{R} \\to \\mathbb{R}^+$ (f only takes positive values)\n",
    "$$ \\mu(A) = \\int_{A} d\\lambda(x) f(x) $$ $\\lambda$ is the measure that measures the length of an intervall as defined in the slides.\n",
    "1. Prove that $\\mu$ is a measure as defined in the slides. Hint: You will have to show that the above is true for any indicator function and then you can conclude that it is true for any function.\n",
    "2. Use the indicator function trick to derive a formula for $\\int_{A} d\\mu(x) g(x)$ for any function $g: \\mathbb{R} \\to \\mathbb{R}$ with respect to the measure $\\lambda$.\n",
    "3. Define $\\mu_P(A) = \\int_{A} d\\lambda(x) Exp(-x^2)$\n",
    ">- Calculate $\\mu(\\mathbb{R})$ using the the quad function\n",
    ">- Redefine $\\mu_P$ into $P_{\\mu}$ such that it becomes a Propability Measure namely $P_{\\mu}(\\mathbb{R}) = 1$\n",
    ">- Calculate $\\int_{\\mathbb{R}} dP_{\\mu}(x) \\, x^2$"
   ]
  },
  {
   "cell_type": "code",
   "execution_count": null,
   "metadata": {
    "collapsed": true
   },
   "outputs": [],
   "source": []
  }
 ],
 "metadata": {
  "anaconda-cloud": {},
  "kernelspec": {
   "display_name": "Python [default]",
   "language": "python",
   "name": "python2"
  },
  "language_info": {
   "codemirror_mode": {
    "name": "ipython",
    "version": 2
   },
   "file_extension": ".py",
   "mimetype": "text/x-python",
   "name": "python",
   "nbconvert_exporter": "python",
   "pygments_lexer": "ipython2",
   "version": "2.7.12"
  }
 },
 "nbformat": 4,
 "nbformat_minor": 1
}
