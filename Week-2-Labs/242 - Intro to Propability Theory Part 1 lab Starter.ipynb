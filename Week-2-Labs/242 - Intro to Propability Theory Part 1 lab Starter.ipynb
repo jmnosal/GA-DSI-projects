{
 "cells": [
  {
   "cell_type": "markdown",
   "metadata": {},
   "source": [
    "*** Exercise 1: ***\n",
    "\n",
    "Let's flip a coin 10 times. For each flip the propability of flipping heads is 1/2. We will denote the outcome of the nth throw by $X_n$. Thus if the event $\\omega_0 \\in \\Omega$ occures we will get the sequence $(X_1(\\omega_0), X_2(\\omega_0), ..., X_{10}(\\omega_0)) = (0,1,1,..,1)$\n",
    "\n",
    "Let's define $Y_N = \\sum_{k=1}^{N} X_k$ as the total number of heads thrown during the first N throws.\n",
    "\n",
    "Create the event space as a list of tuples and solve the following exercises: (Tip: use itertools.product from the itertools package; additionally lets say you have a function that takes 3 arguments f(x,y,z) and you have a list of arguments arg = [1,2,3] you can then use * to unpack the list.)\n",
    "\n",
    "```python\n",
    "arg = [1,2,3]\n",
    "f(*arg) # Evaluates the function at x = 1, y = 2 and z = 3 \n",
    "\n",
    "```\n",
    "1. Create a lambda expression for $P(Y_{10} = n)$ and plot the distribution (bar chart).\n",
    "2. Calculate $E[Y_{10}] = \\int_{\\omega \\in \\Omega} dP(\\omega) Y(\\omega)$\n",
    "3. Create a lambda expression for $P(Y_{10}=n|Y_k = n)$ and plot the distribution for 4 values of k (bar chart). Take a moment and think about the result.\n",
    "4. Calculate $E[Y_{10}|Y_k = k]$ as a function of k and plot the result"
   ]
  },
  {
   "cell_type": "code",
   "execution_count": 119,
   "metadata": {
    "collapsed": false
   },
   "outputs": [
    {
     "name": "stdout",
     "output_type": "stream",
     "text": [
      "[[0, 1], [0, 1], [0, 1], [0, 1], [0, 1], [0, 1], [0, 1], [0, 1], [0, 1], [0, 1]]\n"
     ]
    }
   ],
   "source": [
    "import numpy as np\n",
    "from scipy import integrate\n",
    "from matplotlib import pyplot as plt\n",
    "from itertools import product\n",
    "%matplotlib inline\n",
    "#1024 possible tuples\n",
    "\n",
    "#Y = it.product('01', repeat = 10) #This is the action of iteration, not the iteration itself\n",
    "#mySpace = [x for x in Y]\n",
    "#len(mySpace)\n",
    "rolls = 10\n",
    "elements = [[0,1]]*rolls\n",
    "print elements\n"
   ]
  },
  {
   "cell_type": "code",
   "execution_count": 120,
   "metadata": {
    "collapsed": false
   },
   "outputs": [
    {
     "name": "stdout",
     "output_type": "stream",
     "text": [
      "[0, 1, 1, 2, 1, 2, 2, 3, 1, 2, 2, 3, 2, 3, 3, 4, 1, 2, 2, 3, 2, 3, 3, 4, 2, 3, 3, 4, 3, 4, 4, 5, 1, 2, 2, 3, 2, 3, 3, 4, 2, 3, 3, 4, 3, 4, 4, 5, 2, 3, 3, 4, 3, 4, 4, 5, 3, 4, 4, 5, 4, 5, 5, 6, 1, 2, 2, 3, 2, 3, 3, 4, 2, 3, 3, 4, 3, 4, 4, 5, 2, 3, 3, 4, 3, 4, 4, 5, 3, 4, 4, 5, 4, 5, 5, 6, 2, 3, 3, 4, 3, 4, 4, 5, 3, 4, 4, 5, 4, 5, 5, 6, 3, 4, 4, 5, 4, 5, 5, 6, 4, 5, 5, 6, 5, 6, 6, 7, 1, 2, 2, 3, 2, 3, 3, 4, 2, 3, 3, 4, 3, 4, 4, 5, 2, 3, 3, 4, 3, 4, 4, 5, 3, 4, 4, 5, 4, 5, 5, 6, 2, 3, 3, 4, 3, 4, 4, 5, 3, 4, 4, 5, 4, 5, 5, 6, 3, 4, 4, 5, 4, 5, 5, 6, 4, 5, 5, 6, 5, 6, 6, 7, 2, 3, 3, 4, 3, 4, 4, 5, 3, 4, 4, 5, 4, 5, 5, 6, 3, 4, 4, 5, 4, 5, 5, 6, 4, 5, 5, 6, 5, 6, 6, 7, 3, 4, 4, 5, 4, 5, 5, 6, 4, 5, 5, 6, 5, 6, 6, 7, 4, 5, 5, 6, 5, 6, 6, 7, 5, 6, 6, 7, 6, 7, 7, 8, 1, 2, 2, 3, 2, 3, 3, 4, 2, 3, 3, 4, 3, 4, 4, 5, 2, 3, 3, 4, 3, 4, 4, 5, 3, 4, 4, 5, 4, 5, 5, 6, 2, 3, 3, 4, 3, 4, 4, 5, 3, 4, 4, 5, 4, 5, 5, 6, 3, 4, 4, 5, 4, 5, 5, 6, 4, 5, 5, 6, 5, 6, 6, 7, 2, 3, 3, 4, 3, 4, 4, 5, 3, 4, 4, 5, 4, 5, 5, 6, 3, 4, 4, 5, 4, 5, 5, 6, 4, 5, 5, 6, 5, 6, 6, 7, 3, 4, 4, 5, 4, 5, 5, 6, 4, 5, 5, 6, 5, 6, 6, 7, 4, 5, 5, 6, 5, 6, 6, 7, 5, 6, 6, 7, 6, 7, 7, 8, 2, 3, 3, 4, 3, 4, 4, 5, 3, 4, 4, 5, 4, 5, 5, 6, 3, 4, 4, 5, 4, 5, 5, 6, 4, 5, 5, 6, 5, 6, 6, 7, 3, 4, 4, 5, 4, 5, 5, 6, 4, 5, 5, 6, 5, 6, 6, 7, 4, 5, 5, 6, 5, 6, 6, 7, 5, 6, 6, 7, 6, 7, 7, 8, 3, 4, 4, 5, 4, 5, 5, 6, 4, 5, 5, 6, 5, 6, 6, 7, 4, 5, 5, 6, 5, 6, 6, 7, 5, 6, 6, 7, 6, 7, 7, 8, 4, 5, 5, 6, 5, 6, 6, 7, 5, 6, 6, 7, 6, 7, 7, 8, 5, 6, 6, 7, 6, 7, 7, 8, 6, 7, 7, 8, 7, 8, 8, 9, 1, 2, 2, 3, 2, 3, 3, 4, 2, 3, 3, 4, 3, 4, 4, 5, 2, 3, 3, 4, 3, 4, 4, 5, 3, 4, 4, 5, 4, 5, 5, 6, 2, 3, 3, 4, 3, 4, 4, 5, 3, 4, 4, 5, 4, 5, 5, 6, 3, 4, 4, 5, 4, 5, 5, 6, 4, 5, 5, 6, 5, 6, 6, 7, 2, 3, 3, 4, 3, 4, 4, 5, 3, 4, 4, 5, 4, 5, 5, 6, 3, 4, 4, 5, 4, 5, 5, 6, 4, 5, 5, 6, 5, 6, 6, 7, 3, 4, 4, 5, 4, 5, 5, 6, 4, 5, 5, 6, 5, 6, 6, 7, 4, 5, 5, 6, 5, 6, 6, 7, 5, 6, 6, 7, 6, 7, 7, 8, 2, 3, 3, 4, 3, 4, 4, 5, 3, 4, 4, 5, 4, 5, 5, 6, 3, 4, 4, 5, 4, 5, 5, 6, 4, 5, 5, 6, 5, 6, 6, 7, 3, 4, 4, 5, 4, 5, 5, 6, 4, 5, 5, 6, 5, 6, 6, 7, 4, 5, 5, 6, 5, 6, 6, 7, 5, 6, 6, 7, 6, 7, 7, 8, 3, 4, 4, 5, 4, 5, 5, 6, 4, 5, 5, 6, 5, 6, 6, 7, 4, 5, 5, 6, 5, 6, 6, 7, 5, 6, 6, 7, 6, 7, 7, 8, 4, 5, 5, 6, 5, 6, 6, 7, 5, 6, 6, 7, 6, 7, 7, 8, 5, 6, 6, 7, 6, 7, 7, 8, 6, 7, 7, 8, 7, 8, 8, 9, 2, 3, 3, 4, 3, 4, 4, 5, 3, 4, 4, 5, 4, 5, 5, 6, 3, 4, 4, 5, 4, 5, 5, 6, 4, 5, 5, 6, 5, 6, 6, 7, 3, 4, 4, 5, 4, 5, 5, 6, 4, 5, 5, 6, 5, 6, 6, 7, 4, 5, 5, 6, 5, 6, 6, 7, 5, 6, 6, 7, 6, 7, 7, 8, 3, 4, 4, 5, 4, 5, 5, 6, 4, 5, 5, 6, 5, 6, 6, 7, 4, 5, 5, 6, 5, 6, 6, 7, 5, 6, 6, 7, 6, 7, 7, 8, 4, 5, 5, 6, 5, 6, 6, 7, 5, 6, 6, 7, 6, 7, 7, 8, 5, 6, 6, 7, 6, 7, 7, 8, 6, 7, 7, 8, 7, 8, 8, 9, 3, 4, 4, 5, 4, 5, 5, 6, 4, 5, 5, 6, 5, 6, 6, 7, 4, 5, 5, 6, 5, 6, 6, 7, 5, 6, 6, 7, 6, 7, 7, 8, 4, 5, 5, 6, 5, 6, 6, 7, 5, 6, 6, 7, 6, 7, 7, 8, 5, 6, 6, 7, 6, 7, 7, 8, 6, 7, 7, 8, 7, 8, 8, 9, 4, 5, 5, 6, 5, 6, 6, 7, 5, 6, 6, 7, 6, 7, 7, 8, 5, 6, 6, 7, 6, 7, 7, 8, 6, 7, 7, 8, 7, 8, 8, 9, 5, 6, 6, 7, 6, 7, 7, 8, 6, 7, 7, 8, 7, 8, 8, 9, 6, 7, 7, 8, 7, 8, 8, 9, 7, 8, 8, 9, 8, 9, 9, 10]\n"
     ]
    }
   ],
   "source": [
    "events = list(product(*elements))\n",
    "total = map(sum, events)\n",
    "#total = list.count(total)\n",
    "print total"
   ]
  },
  {
   "cell_type": "code",
   "execution_count": 123,
   "metadata": {
    "collapsed": false
   },
   "outputs": [
    {
     "name": "stdout",
     "output_type": "stream",
     "text": [
      "1024\n",
      "120\n",
      "0.1171875\n",
      "0.1171875\n",
      "[0.0009765625, 0.009765625, 0.0439453125, 0.1171875, 0.205078125, 0.24609375, 0.205078125, 0.1171875, 0.0439453125, 0.009765625, 0.0009765625]\n",
      "0.0439453125\n"
     ]
    },
    {
     "data": {
      "text/plain": [
       "<Container object of 11 artists>"
      ]
     },
     "execution_count": 123,
     "metadata": {},
     "output_type": "execute_result"
    },
    {
     "data": {
      "image/png": "[encoded data removed]",
      "text/plain": [
       "<matplotlib.figure.Figure at 0x10e25eb10>"
      ]
     },
     "metadata": {},
     "output_type": "display_data"
    }
   ],
   "source": [
    "print len(total)\n",
    "\n",
    "def prob(n):\n",
    "    count = 0\n",
    "    for x in total:\n",
    "        if x == n:\n",
    "            count = count + 1\n",
    "    print count\n",
    "    probability = float(count)/len(total)\n",
    "    print probability\n",
    "    return probability\n",
    "        \n",
    "print prob(3)\n",
    "\n",
    "X = np.arange(0,11,1)\n",
    "#prob2 = lambda n: sum([float(np.cumsum(x == n))/len(total) for x in total])\n",
    "prob3 = lambda n: sum([1 for x in total if x == n])/float(len(total))\n",
    "mylist = [prob3(x) for x in X]\n",
    "print mylist\n",
    "print prob3(2)\n",
    "\n",
    "fig = plt.figure(figsize=(8,8))\n",
    "plt.bar(X, mylist)\n"
   ]
  },
  {
   "cell_type": "code",
   "execution_count": 122,
   "metadata": {
    "collapsed": false,
    "scrolled": true
   },
   "outputs": [
    {
     "name": "stdout",
     "output_type": "stream",
     "text": [
      "[0.0009765625, 0.009765625, 0.0439453125, 0.1171875, 0.205078125, 0.24609375, 0.205078125, 0.1171875, 0.0439453125, 0.009765625, 0.0009765625]\n",
      "[0.0, 0.009765625, 0.087890625, 0.3515625, 0.8203125, 1.23046875, 1.23046875, 0.8203125, 0.3515625, 0.087890625, 0.009765625]\n",
      "5.0\n"
     ]
    }
   ],
   "source": [
    "print mylist   \n",
    "EF = [x*y for x,y in zip(range(11),mylist)]\n",
    "print EF\n",
    "print sum(EF)"
   ]
  },
  {
   "cell_type": "code",
   "execution_count": 132,
   "metadata": {
    "collapsed": false
   },
   "outputs": [
    {
     "data": {
      "text/plain": [
       "(0, 0.15)"
      ]
     },
     "execution_count": 132,
     "metadata": {},
     "output_type": "execute_result"
    },
    {
     "data": {
      "image/png": "[encoded data removed]",
      "text/plain": [
       "<matplotlib.figure.Figure at 0x1123c4f50>"
      ]
     },
     "metadata": {},
     "output_type": "display_data"
    }
   ],
   "source": [
    "prob3 = lambda n: sum([1 for x in map(sum, list(product(*[[0,1]]*3))) if x == n])/1024.0\n",
    "mylist3 = [prob3(x) for x in X]\n",
    "\n",
    "prob5 = lambda n: sum([1 for x in map(sum, list(product(*[[0,1]]*5))) if x == n])/1024.0\n",
    "mylist5 = [prob5(x) for x in X]\n",
    "\n",
    "prob7 = lambda n: sum([1 for x in map(sum, list(product(*[[0,1]]*7))) if x == n])/1024.0\n",
    "mylist7 = [prob7(x) for x in X]\n",
    "\n",
    "prob9 = lambda n: sum([1 for x in map(sum, list(product(*[[0,1]]*9))) if x == n])/1024.0\n",
    "mylist9 = [prob9(x) for x in X]\n",
    "\n",
    "fig = plt.figure(figsize=(8,8))\n",
    "#plt.bar(X, mylist3)\n",
    "\n",
    "\n",
    "ax1 = fig.add_subplot(2,2,1)\n",
    "ax1.bar(X, mylist3, label = 'Flips = 3')\n",
    "ax1.legend(loc = 'best', fontsize = 'small')\n",
    "ax1.set_ylim([0,0.15])\n",
    "\n",
    "ax2 = fig.add_subplot(2,2,2)\n",
    "ax2.bar(X, mylist5, label = 'Flips = 5')\n",
    "ax2.legend(loc = 'best', fontsize = 'small')\n",
    "ax2.set_ylim([0,0.15])\n",
    "\n",
    "ax3 = fig.add_subplot(2,2,3)\n",
    "ax3.bar(X, mylist7, label = 'Flips = 7' )\n",
    "ax3.legend(loc = 'best', fontsize = 'small')\n",
    "ax3.set_ylim([0,0.15])\n",
    "\n",
    "ax4 = fig.add_subplot(2,2,4)\n",
    "ax4.bar(X, mylist9, label = 'Flips = 9')\n",
    "ax4.legend(loc = 'best', fontsize = 'small')\n",
    "ax4.set_ylim([0,0.15])"
   ]
  },
  {
   "cell_type": "code",
   "execution_count": null,
   "metadata": {
    "collapsed": true
   },
   "outputs": [],
   "source": []
  }
 ],
 "metadata": {
  "anaconda-cloud": {},
  "kernelspec": {
   "display_name": "Python [default]",
   "language": "python",
   "name": "python2"
  },
  "language_info": {
   "codemirror_mode": {
    "name": "ipython",
    "version": 2
   },
   "file_extension": ".py",
   "mimetype": "text/x-python",
   "name": "python",
   "nbconvert_exporter": "python",
   "pygments_lexer": "ipython2",
   "version": "2.7.12"
  }
 },
 "nbformat": 4,
 "nbformat_minor": 1
}
